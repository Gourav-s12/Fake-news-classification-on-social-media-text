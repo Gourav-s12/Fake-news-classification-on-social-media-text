{
  "nbformat": 4,
  "nbformat_minor": 0,
  "metadata": {
    "colab": {
      "provenance": []
    },
    "kernelspec": {
      "name": "python3",
      "display_name": "Python 3"
    },
    "language_info": {
      "name": "python"
    }
  },
  "cells": [
    {
      "cell_type": "code",
      "execution_count": 14,
      "metadata": {
        "id": "LulNv-8qGyfk"
      },
      "outputs": [],
      "source": [
        "import os\n",
        "import torch\n",
        "from torch import nn\n",
        "from torch.utils.data import DataLoader, Dataset\n",
        "from transformers import BertTokenizer, BertModel, AdamW, get_linear_schedule_with_warmup\n",
        "from sklearn.model_selection import train_test_split\n",
        "from sklearn.metrics import accuracy_score, classification_report\n",
        "import pandas as pd\n",
        "from transformers import BertTokenizer, BertModel\n",
        "import numpy as np\n",
        "from tqdm import tqdm\n",
        "import pickle"
      ]
    },
    {
      "cell_type": "code",
      "source": [
        "model_name = \"google-bert/bert-base-uncased\"\n",
        "file_name = \"train\""
      ],
      "metadata": {
        "id": "Oiof-ZrUL5kb"
      },
      "execution_count": 16,
      "outputs": []
    },
    {
      "cell_type": "code",
      "source": [
        "# Load pre-trained BERT tokenizer\n",
        "tokenizer = BertTokenizer.from_pretrained(model_name)"
      ],
      "metadata": {
        "id": "ynT9CGMkKvLU"
      },
      "execution_count": 15,
      "outputs": []
    },
    {
      "cell_type": "code",
      "source": [
        "data = pd.read_csv(file_name+\"_split.csv\")"
      ],
      "metadata": {
        "id": "vDM0DqKTLn8v"
      },
      "execution_count": 17,
      "outputs": []
    },
    {
      "cell_type": "code",
      "source": [
        "text_data = data['tweet']"
      ],
      "metadata": {
        "id": "-sFPjh6NL5rF"
      },
      "execution_count": 18,
      "outputs": []
    },
    {
      "cell_type": "code",
      "source": [
        "# Tokenize input text\n",
        "tokenized_text = text_data.apply(lambda x: tokenizer.encode(x, add_special_tokens=True))\n",
        "\n",
        "# Pad sequences to the same length\n",
        "max_len = max(map(len, tokenized_text))\n",
        "padded_tokenized_text = [text + [0]*(max_len-len(text)) for text in tokenized_text]\n",
        "\n",
        "# Convert tokenized text to PyTorch tensors\n",
        "input_ids = torch.tensor(padded_tokenized_text)\n",
        "\n",
        "# Initialize BERT model\n",
        "model = BertModel.from_pretrained(model_name)\n",
        "\n",
        "# Set the model to evaluation mode\n",
        "model.eval()\n",
        "\n",
        "# List to store the vectors\n",
        "bert_vectors = []"
      ],
      "metadata": {
        "id": "S2GX4DokLGPp"
      },
      "execution_count": 20,
      "outputs": []
    },
    {
      "cell_type": "code",
      "source": [
        "# Process each text sample\n",
        "for text in tqdm(text_data):\n",
        "    # Tokenize input text\n",
        "    tokenized_text = tokenizer.encode(text, add_special_tokens=True, max_length=512, truncation=True)\n",
        "\n",
        "    # Convert tokenized text to PyTorch tensor\n",
        "    input_ids = torch.tensor(tokenized_text).unsqueeze(0)  # Add batch dimension\n",
        "\n",
        "    # Forward pass\n",
        "    with torch.no_grad():\n",
        "        outputs = model(input_ids)\n",
        "\n",
        "    # Extract the output representations (vectors) from BERT\n",
        "    bert_output = outputs[0]  # Output of the last layer\n",
        "\n",
        "    # Average pooling of the output representations\n",
        "    pooled_output = torch.mean(bert_output, dim=1).squeeze().numpy()\n",
        "\n",
        "    # Append the pooled output to the list\n",
        "    bert_vectors.append(pooled_output)"
      ],
      "metadata": {
        "colab": {
          "base_uri": "https://localhost:8080/"
        },
        "id": "iwWiwaUnLXDd",
        "outputId": "a12cb263-4dfc-4048-a2d0-19a13d8b8c65"
      },
      "execution_count": null,
      "outputs": [
        {
          "output_type": "stream",
          "name": "stderr",
          "text": [
            " 74%|███████▍  | 6275/8480 [18:22<05:55,  6.21it/s]"
          ]
        }
      ]
    },
    {
      "cell_type": "code",
      "source": [
        "# Convert the list of vectors to a numpy array\n",
        "bert_vectors = np.array(bert_vectors)"
      ],
      "metadata": {
        "id": "uqAuLxiILXGe"
      },
      "execution_count": null,
      "outputs": []
    },
    {
      "cell_type": "code",
      "source": [
        "print(bert_vectors)"
      ],
      "metadata": {
        "id": "DctmhuBULGRL"
      },
      "execution_count": null,
      "outputs": []
    },
    {
      "cell_type": "code",
      "source": [
        "bert_vectors.shape"
      ],
      "metadata": {
        "id": "76FpntPDLGVB"
      },
      "execution_count": null,
      "outputs": []
    },
    {
      "cell_type": "code",
      "source": [
        "# Save bert_vectors into pickle file\n",
        "with open(\"bert_vectors_\"+file_name+\"_\"+model_name+\".pkl\", \"wb\") as f:\n",
        "    pickle.dump((bert_vectors, data['label']), f)"
      ],
      "metadata": {
        "id": "andzoCvjM-cN"
      },
      "execution_count": null,
      "outputs": []
    }
  ]
}