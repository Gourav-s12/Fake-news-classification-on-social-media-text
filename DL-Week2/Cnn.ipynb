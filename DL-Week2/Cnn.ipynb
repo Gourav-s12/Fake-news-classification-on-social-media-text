{
  "cells": [
    {
      "cell_type": "code",
      "execution_count": 54,
      "metadata": {
        "colab": {
          "base_uri": "https://localhost:8080/"
        },
        "id": "fgoJ2JisGLF6",
        "outputId": "57e399c3-7620-4a9b-fbe5-6c7b5dc5cf10"
      },
      "outputs": [
        {
          "output_type": "stream",
          "name": "stdout",
          "text": [
            "Requirement already satisfied: optuna in /usr/local/lib/python3.10/dist-packages (3.5.0)\n",
            "Requirement already satisfied: alembic>=1.5.0 in /usr/local/lib/python3.10/dist-packages (from optuna) (1.13.1)\n",
            "Requirement already satisfied: colorlog in /usr/local/lib/python3.10/dist-packages (from optuna) (6.8.2)\n",
            "Requirement already satisfied: numpy in /usr/local/lib/python3.10/dist-packages (from optuna) (1.25.2)\n",
            "Requirement already satisfied: packaging>=20.0 in /usr/local/lib/python3.10/dist-packages (from optuna) (24.0)\n",
            "Requirement already satisfied: sqlalchemy>=1.3.0 in /usr/local/lib/python3.10/dist-packages (from optuna) (2.0.28)\n",
            "Requirement already satisfied: tqdm in /usr/local/lib/python3.10/dist-packages (from optuna) (4.66.2)\n",
            "Requirement already satisfied: PyYAML in /usr/local/lib/python3.10/dist-packages (from optuna) (6.0.1)\n",
            "Requirement already satisfied: Mako in /usr/local/lib/python3.10/dist-packages (from alembic>=1.5.0->optuna) (1.3.2)\n",
            "Requirement already satisfied: typing-extensions>=4 in /usr/local/lib/python3.10/dist-packages (from alembic>=1.5.0->optuna) (4.10.0)\n",
            "Requirement already satisfied: greenlet!=0.4.17 in /usr/local/lib/python3.10/dist-packages (from sqlalchemy>=1.3.0->optuna) (3.0.3)\n",
            "Requirement already satisfied: MarkupSafe>=0.9.2 in /usr/local/lib/python3.10/dist-packages (from Mako->alembic>=1.5.0->optuna) (2.1.5)\n",
            "Requirement already satisfied: fasttext in /usr/local/lib/python3.10/dist-packages (0.9.2)\n",
            "Requirement already satisfied: pybind11>=2.2 in /usr/local/lib/python3.10/dist-packages (from fasttext) (2.11.1)\n",
            "Requirement already satisfied: setuptools>=0.7.0 in /usr/local/lib/python3.10/dist-packages (from fasttext) (67.7.2)\n",
            "Requirement already satisfied: numpy in /usr/local/lib/python3.10/dist-packages (from fasttext) (1.25.2)\n"
          ]
        }
      ],
      "source": [
        "import pandas as pd\n",
        "from sklearn.feature_extraction.text import TfidfVectorizer\n",
        "from sklearn.svm import SVC,LinearSVC\n",
        "from sklearn.metrics import accuracy_score, classification_report\n",
        "from sklearn.model_selection import GridSearchCV\n",
        "from sklearn.metrics import confusion_matrix, accuracy_score, precision_score, recall_score, f1_score\n",
        "import pickle\n",
        "import torch\n",
        "import torch.nn as nn\n",
        "from torch.utils.data import Dataset\n",
        "from torch.utils.data import DataLoader\n",
        "from tqdm import tqdm\n",
        "! pip install optuna\n",
        "import optuna\n",
        "!pip install fasttext\n",
        "import fasttext"
      ]
    },
    {
      "cell_type": "code",
      "execution_count": 55,
      "metadata": {
        "id": "AY19asfyvhvb"
      },
      "outputs": [],
      "source": [
        "model_name = \"bert-base-uncased\""
      ]
    },
    {
      "cell_type": "markdown",
      "metadata": {
        "id": "hSJJqKE0Hr8N"
      },
      "source": [
        "# task 1 , 2 , 3 (load)"
      ]
    },
    {
      "cell_type": "code",
      "execution_count": 56,
      "metadata": {
        "id": "4LWOSwYDH5ul"
      },
      "outputs": [],
      "source": [
        "with open('bert_vectors_train_'+model_name+'.pkl', 'rb') as f:\n",
        "    encode_train_vectors, train_labels = pickle.load(f)\n",
        "\n",
        "with open('bert_vectors_val_'+model_name+'.pkl', 'rb') as f:\n",
        "    encode_val_vectors, val_labels = pickle.load(f)\n"
      ]
    },
    {
      "cell_type": "code",
      "execution_count": 57,
      "metadata": {
        "colab": {
          "base_uri": "https://localhost:8080/"
        },
        "id": "xdC5PO87vmia",
        "outputId": "76ed66f5-ed95-4d0f-8ff4-bdf53e59cd14"
      },
      "outputs": [
        {
          "output_type": "stream",
          "name": "stdout",
          "text": [
            "(8480,) (8480, 768)\n",
            "768\n"
          ]
        }
      ],
      "source": [
        "print(train_labels.values.shape , encode_train_vectors.shape)\n",
        "# train_labels = train_labels.values.flatten()\n",
        "# val_labels  = val_labels.values.flatten()\n",
        "input_dim_x = encode_train_vectors.shape[1]\n",
        "print(input_dim_x)"
      ]
    },
    {
      "cell_type": "markdown",
      "metadata": {
        "id": "Fa4nt3ALHnkV"
      },
      "source": [
        "# Task 4"
      ]
    },
    {
      "cell_type": "code",
      "execution_count": 58,
      "metadata": {
        "id": "xO71sCcof_bL"
      },
      "outputs": [],
      "source": [
        "class CustomDataset(Dataset):\n",
        "    def __init__(self, X, Y):\n",
        "        # Convert sparse matrix to dense tensor\n",
        "        self.x = torch.tensor(X.reshape(-1, 1, 768), dtype=torch.float32)\n",
        "        self.y = torch.tensor(Y, dtype=torch.long)\n",
        "\n",
        "    def __len__(self):\n",
        "        return len(self.y)\n",
        "\n",
        "    def __getitem__(self, idx):\n",
        "        # Add an extra dimension to represent channels (1 in this case)\n",
        "        x_sample = self.x[idx]   # .unsqueeze(0)\n",
        "        return x_sample, self.y[idx]"
      ]
    },
    {
      "cell_type": "code",
      "execution_count": 59,
      "metadata": {
        "id": "fYtWeSVUgVBW"
      },
      "outputs": [],
      "source": [
        "train_dataset = CustomDataset(encode_train_vectors, train_labels)\n",
        "eval_dataset = CustomDataset(encode_val_vectors, val_labels)"
      ]
    },
    {
      "cell_type": "code",
      "execution_count": 60,
      "metadata": {
        "id": "6tVeq41whaz0"
      },
      "outputs": [],
      "source": [
        "train_dataloader = DataLoader(train_dataset, batch_size = 32, shuffle = True)\n",
        "eval_dataloader = DataLoader(eval_dataset, batch_size = 32, shuffle = False)"
      ]
    },
    {
      "cell_type": "code",
      "execution_count": 61,
      "metadata": {
        "colab": {
          "base_uri": "https://localhost:8080/"
        },
        "id": "CKm4VxFvhdYJ",
        "outputId": "a88cd1ac-b7a9-4604-96ab-0cfa274ec0f5"
      },
      "outputs": [
        {
          "output_type": "stream",
          "name": "stdout",
          "text": [
            "torch.Size([32, 1, 768]) torch.Size([32])\n"
          ]
        }
      ],
      "source": [
        "for x, y in train_dataloader:\n",
        "    print(x.shape, y.shape)\n",
        "    break"
      ]
    },
    {
      "cell_type": "markdown",
      "metadata": {
        "id": "g_sv7-09hpph"
      },
      "source": [
        "## Basic Network"
      ]
    },
    {
      "cell_type": "code",
      "execution_count": 62,
      "metadata": {
        "colab": {
          "base_uri": "https://localhost:8080/",
          "height": 36
        },
        "id": "O7aNAiWbhsx7",
        "outputId": "5757afda-4ba7-44c9-b424-e394996ccf2a"
      },
      "outputs": [
        {
          "output_type": "execute_result",
          "data": {
            "text/plain": [
              "'cuda'"
            ],
            "application/vnd.google.colaboratory.intrinsic+json": {
              "type": "string"
            }
          },
          "metadata": {},
          "execution_count": 62
        }
      ],
      "source": [
        "device = \"cuda\" if torch.cuda.is_available() else \"cpu\"\n",
        "device"
      ]
    },
    {
      "cell_type": "code",
      "execution_count": 63,
      "metadata": {
        "id": "YJNXYbCRhwJy"
      },
      "outputs": [],
      "source": [
        "import torch.nn as nn\n",
        "\n",
        "class ConvolutionalNeuralNetwork0(nn.Module):\n",
        "    def __init__(self, input_dim , input_channel = 1, num_classes=2):\n",
        "        super(ConvolutionalNeuralNetwork0, self).__init__()\n",
        "\n",
        "        self.conv1 = nn.Conv1d(in_channels= input_channel, out_channels=128, kernel_size=5)\n",
        "        input_dim = self.calculate_conv_output_size(input_dim, 5, 1, 0)\n",
        "        input_dim = self.calculate_pool_output_size(input_dim, 2)\n",
        "        self.bn1 = nn.BatchNorm1d(128)\n",
        "\n",
        "        self.conv2 = nn.Conv1d(in_channels=128, out_channels=256, kernel_size=3)\n",
        "        input_dim = self.calculate_conv_output_size(input_dim, 3, 1, 0)\n",
        "        input_dim = self.calculate_pool_output_size(input_dim, 2)\n",
        "        self.bn2 = nn.BatchNorm1d(256)\n",
        "\n",
        "        self.conv3 = nn.Conv1d(in_channels=256, out_channels=256, kernel_size=3)\n",
        "        input_dim = self.calculate_conv_output_size(input_dim, 3, 1, 0)\n",
        "        input_dim = self.calculate_pool_output_size(input_dim, 2)\n",
        "        self.bn3 = nn.BatchNorm1d(256)\n",
        "\n",
        "        self.fc1 = nn.Linear(256 * input_dim, 128)\n",
        "        self.fc2 = nn.Linear(128, num_classes)\n",
        "        self.relu = nn.ReLU()\n",
        "        self.pool = nn.MaxPool1d(2)\n",
        "\n",
        "    def calculate_conv_output_size(self, input_size, kernel_size, stride, padding):\n",
        "        return int(((input_size - kernel_size + 2 * padding) / stride) + 1)\n",
        "\n",
        "    def calculate_pool_output_size(self, input_size, pool_size):\n",
        "        return int((input_size  / pool_size))\n",
        "\n",
        "    def forward(self, x):\n",
        "        x = self.conv1(x)\n",
        "        x = self.bn1(x)\n",
        "        x = self.relu(x)\n",
        "        x = self.pool(x)\n",
        "\n",
        "        x = self.conv2(x)\n",
        "        x = self.bn2(x)\n",
        "        x = self.relu(x)\n",
        "        x = self.pool(x)\n",
        "\n",
        "        x = self.conv3(x)\n",
        "        x = self.bn3(x)\n",
        "        x = self.relu(x)\n",
        "        x = self.pool(x)\n",
        "\n",
        "        x = x.view(x.size(0), -1)\n",
        "        x = self.fc1(x)\n",
        "        x = self.relu(x)\n",
        "        x = self.fc2(x)\n",
        "\n",
        "        return x"
      ]
    },
    {
      "cell_type": "code",
      "execution_count": 64,
      "metadata": {
        "id": "5AM2oZ_-iuvW"
      },
      "outputs": [],
      "source": [
        "import torch\n",
        "network = ConvolutionalNeuralNetwork0(input_dim = input_dim_x).to(device)"
      ]
    },
    {
      "cell_type": "code",
      "execution_count": 65,
      "metadata": {
        "colab": {
          "base_uri": "https://localhost:8080/"
        },
        "id": "Ek5Vekjoiu0C",
        "outputId": "09e0ac0e-a87e-4df6-8593-41288e6216c4"
      },
      "outputs": [
        {
          "output_type": "stream",
          "name": "stdout",
          "text": [
            "----------------------------------------------------------------\n",
            "        Layer (type)               Output Shape         Param #\n",
            "================================================================\n",
            "            Conv1d-1             [-1, 128, 764]             768\n",
            "       BatchNorm1d-2             [-1, 128, 764]             256\n",
            "              ReLU-3             [-1, 128, 764]               0\n",
            "         MaxPool1d-4             [-1, 128, 382]               0\n",
            "            Conv1d-5             [-1, 256, 380]          98,560\n",
            "       BatchNorm1d-6             [-1, 256, 380]             512\n",
            "              ReLU-7             [-1, 256, 380]               0\n",
            "         MaxPool1d-8             [-1, 256, 190]               0\n",
            "            Conv1d-9             [-1, 256, 188]         196,864\n",
            "      BatchNorm1d-10             [-1, 256, 188]             512\n",
            "             ReLU-11             [-1, 256, 188]               0\n",
            "        MaxPool1d-12              [-1, 256, 94]               0\n",
            "           Linear-13                  [-1, 128]       3,080,320\n",
            "             ReLU-14                  [-1, 128]               0\n",
            "           Linear-15                    [-1, 2]             258\n",
            "================================================================\n",
            "Total params: 3,378,050\n",
            "Trainable params: 3,378,050\n",
            "Non-trainable params: 0\n",
            "----------------------------------------------------------------\n",
            "Input size (MB): 0.00\n",
            "Forward/backward pass size (MB): 6.50\n",
            "Params size (MB): 12.89\n",
            "Estimated Total Size (MB): 19.39\n",
            "----------------------------------------------------------------\n"
          ]
        }
      ],
      "source": [
        "from torchsummary import summary\n",
        "# Assuming your input data size is (970, 100)\n",
        "input_size = (1, input_dim_x)  # (channels, width)\n",
        "\n",
        "# Print the model summary\n",
        "summary(network, input_size=input_size)"
      ]
    },
    {
      "cell_type": "code",
      "execution_count": 66,
      "metadata": {
        "colab": {
          "base_uri": "https://localhost:8080/"
        },
        "id": "S4sPuiZliu3A",
        "outputId": "dde4b1f5-fc99-49d0-84a6-97122b7f2f8a"
      },
      "outputs": [
        {
          "output_type": "stream",
          "name": "stdout",
          "text": [
            "torch.Size([32, 1, 768]) torch.Size([32])\n"
          ]
        }
      ],
      "source": [
        "batch_x, batch_y = next(iter(train_dataloader))\n",
        "print(batch_x.shape, batch_y.shape)"
      ]
    },
    {
      "cell_type": "markdown",
      "metadata": {
        "id": "GF8b0Gili60M"
      },
      "source": [
        "## Basic Training Loop"
      ]
    },
    {
      "cell_type": "code",
      "execution_count": 67,
      "metadata": {
        "id": "o6caXoVbiu5u"
      },
      "outputs": [],
      "source": [
        "criterion = nn.CrossEntropyLoss()\n",
        "optim = torch.optim.Adam(network.parameters(), lr = 0.001)\n",
        "epochs = 10"
      ]
    },
    {
      "cell_type": "code",
      "execution_count": 68,
      "metadata": {
        "id": "6509b7hPiu7z"
      },
      "outputs": [],
      "source": [
        "train_epoch_loss = []\n",
        "eval_epoch_loss = []"
      ]
    },
    {
      "cell_type": "code",
      "execution_count": 69,
      "metadata": {
        "colab": {
          "base_uri": "https://localhost:8080/"
        },
        "id": "kQT1UUZyiu-b",
        "outputId": "f85ce8f8-2768-4af9-86cd-683dedf1525b"
      },
      "outputs": [
        {
          "output_type": "stream",
          "name": "stderr",
          "text": [
            "100%|██████████| 10/10 [00:32<00:00,  3.27s/it]\n"
          ]
        }
      ],
      "source": [
        "for epoch in tqdm(range(epochs)):\n",
        "    curr_loss = 0\n",
        "    total = 0\n",
        "    for train_x, train_y in train_dataloader:\n",
        "\n",
        "        train_x = train_x.to(device)\n",
        "        train_y = train_y.to(device)\n",
        "        optim.zero_grad()\n",
        "\n",
        "        y_pred = network(train_x)\n",
        "        loss = criterion(y_pred, train_y)\n",
        "\n",
        "        loss.backward()\n",
        "        optim.step()\n",
        "\n",
        "        curr_loss += loss.item()\n",
        "        total += len(train_y)\n",
        "    train_epoch_loss.append(curr_loss / total)\n",
        "\n",
        "    curr_loss = 0\n",
        "    total = 0\n",
        "    for eval_x, eval_y in eval_dataloader:\n",
        "        eval_x = eval_x.to(device)\n",
        "        eval_y = eval_y.to(device)\n",
        "        optim.zero_grad()\n",
        "\n",
        "        with torch.no_grad():\n",
        "            y_pred = network(eval_x)\n",
        "\n",
        "        loss = criterion(y_pred, eval_y)\n",
        "\n",
        "        curr_loss += loss.item()\n",
        "        total += len(train_y)\n",
        "    eval_epoch_loss.append(curr_loss / total)\n"
      ]
    },
    {
      "cell_type": "code",
      "execution_count": 70,
      "metadata": {
        "id": "4N58Lo0uivA1",
        "colab": {
          "base_uri": "https://localhost:8080/",
          "height": 454
        },
        "outputId": "9f1d094f-1a83-4aac-a2d3-b303b2cbc494"
      },
      "outputs": [
        {
          "output_type": "display_data",
          "data": {
            "text/plain": [
              "<Figure size 640x480 with 1 Axes>"
            ],
            "image/png": "[encoded data removed]"
          },
          "metadata": {}
        }
      ],
      "source": [
        "import matplotlib.pyplot as plt\n",
        "\n",
        "plt.plot(range(epochs), train_epoch_loss, label='train')\n",
        "plt.plot(range(epochs), eval_epoch_loss, label='eval')\n",
        "plt.xlabel('Epoch')\n",
        "plt.ylabel('Loss')\n",
        "plt.legend()\n",
        "plt.show()"
      ]
    },
    {
      "cell_type": "code",
      "execution_count": 71,
      "metadata": {
        "id": "--jMTpLXivDJ",
        "colab": {
          "base_uri": "https://localhost:8080/"
        },
        "outputId": "24e3e056-9d96-45a8-c380-1d86ceefb0be"
      },
      "outputs": [
        {
          "output_type": "stream",
          "name": "stdout",
          "text": [
            "Accuracy on Eval Data 94.06\n"
          ]
        }
      ],
      "source": [
        "correct = 0\n",
        "total = 0\n",
        "for x, y in eval_dataloader:\n",
        "    x = x.to(device)\n",
        "    with torch.no_grad():\n",
        "        yp = network(x)\n",
        "    yp = torch.argmax(yp.cpu(), dim = 1)\n",
        "    correct += (yp == y).sum()\n",
        "    total += len(y)\n",
        "prev_eval_acc = correct / total\n",
        "print(f\"Accuracy on Eval Data {(prev_eval_acc * 100):.2f}\")"
      ]
    },
    {
      "cell_type": "code",
      "execution_count": 72,
      "metadata": {
        "id": "Lv9R8U6BlwfF"
      },
      "outputs": [],
      "source": [
        "prev_model = network"
      ]
    },
    {
      "cell_type": "markdown",
      "metadata": {
        "id": "NKp3Kcxhn86w"
      },
      "source": [
        "## now hyperparameter optimization"
      ]
    },
    {
      "cell_type": "code",
      "execution_count": 73,
      "metadata": {
        "id": "_kxYyFtPnkqt",
        "colab": {
          "base_uri": "https://localhost:8080/"
        },
        "outputId": "427aa719-1e02-4e1c-8815-f41e8aaafe54"
      },
      "outputs": [
        {
          "output_type": "stream",
          "name": "stdout",
          "text": [
            "Requirement already satisfied: torchmetrics in /usr/local/lib/python3.10/dist-packages (1.3.1)\n",
            "Requirement already satisfied: numpy>1.20.0 in /usr/local/lib/python3.10/dist-packages (from torchmetrics) (1.25.2)\n",
            "Requirement already satisfied: packaging>17.1 in /usr/local/lib/python3.10/dist-packages (from torchmetrics) (24.0)\n",
            "Requirement already satisfied: torch>=1.10.0 in /usr/local/lib/python3.10/dist-packages (from torchmetrics) (2.2.1+cu121)\n",
            "Requirement already satisfied: lightning-utilities>=0.8.0 in /usr/local/lib/python3.10/dist-packages (from torchmetrics) (0.10.1)\n",
            "Requirement already satisfied: setuptools in /usr/local/lib/python3.10/dist-packages (from lightning-utilities>=0.8.0->torchmetrics) (67.7.2)\n",
            "Requirement already satisfied: typing-extensions in /usr/local/lib/python3.10/dist-packages (from lightning-utilities>=0.8.0->torchmetrics) (4.10.0)\n",
            "Requirement already satisfied: filelock in /usr/local/lib/python3.10/dist-packages (from torch>=1.10.0->torchmetrics) (3.13.1)\n",
            "Requirement already satisfied: sympy in /usr/local/lib/python3.10/dist-packages (from torch>=1.10.0->torchmetrics) (1.12)\n",
            "Requirement already satisfied: networkx in /usr/local/lib/python3.10/dist-packages (from torch>=1.10.0->torchmetrics) (3.2.1)\n",
            "Requirement already satisfied: jinja2 in /usr/local/lib/python3.10/dist-packages (from torch>=1.10.0->torchmetrics) (3.1.3)\n",
            "Requirement already satisfied: fsspec in /usr/local/lib/python3.10/dist-packages (from torch>=1.10.0->torchmetrics) (2023.6.0)\n",
            "Requirement already satisfied: nvidia-cuda-nvrtc-cu12==12.1.105 in /usr/local/lib/python3.10/dist-packages (from torch>=1.10.0->torchmetrics) (12.1.105)\n",
            "Requirement already satisfied: nvidia-cuda-runtime-cu12==12.1.105 in /usr/local/lib/python3.10/dist-packages (from torch>=1.10.0->torchmetrics) (12.1.105)\n",
            "Requirement already satisfied: nvidia-cuda-cupti-cu12==12.1.105 in /usr/local/lib/python3.10/dist-packages (from torch>=1.10.0->torchmetrics) (12.1.105)\n",
            "Requirement already satisfied: nvidia-cudnn-cu12==8.9.2.26 in /usr/local/lib/python3.10/dist-packages (from torch>=1.10.0->torchmetrics) (8.9.2.26)\n",
            "Requirement already satisfied: nvidia-cublas-cu12==12.1.3.1 in /usr/local/lib/python3.10/dist-packages (from torch>=1.10.0->torchmetrics) (12.1.3.1)\n",
            "Requirement already satisfied: nvidia-cufft-cu12==11.0.2.54 in /usr/local/lib/python3.10/dist-packages (from torch>=1.10.0->torchmetrics) (11.0.2.54)\n",
            "Requirement already satisfied: nvidia-curand-cu12==10.3.2.106 in /usr/local/lib/python3.10/dist-packages (from torch>=1.10.0->torchmetrics) (10.3.2.106)\n",
            "Requirement already satisfied: nvidia-cusolver-cu12==11.4.5.107 in /usr/local/lib/python3.10/dist-packages (from torch>=1.10.0->torchmetrics) (11.4.5.107)\n",
            "Requirement already satisfied: nvidia-cusparse-cu12==12.1.0.106 in /usr/local/lib/python3.10/dist-packages (from torch>=1.10.0->torchmetrics) (12.1.0.106)\n",
            "Requirement already satisfied: nvidia-nccl-cu12==2.19.3 in /usr/local/lib/python3.10/dist-packages (from torch>=1.10.0->torchmetrics) (2.19.3)\n",
            "Requirement already satisfied: nvidia-nvtx-cu12==12.1.105 in /usr/local/lib/python3.10/dist-packages (from torch>=1.10.0->torchmetrics) (12.1.105)\n",
            "Requirement already satisfied: triton==2.2.0 in /usr/local/lib/python3.10/dist-packages (from torch>=1.10.0->torchmetrics) (2.2.0)\n",
            "Requirement already satisfied: nvidia-nvjitlink-cu12 in /usr/local/lib/python3.10/dist-packages (from nvidia-cusolver-cu12==11.4.5.107->torch>=1.10.0->torchmetrics) (12.4.99)\n",
            "Requirement already satisfied: MarkupSafe>=2.0 in /usr/local/lib/python3.10/dist-packages (from jinja2->torch>=1.10.0->torchmetrics) (2.1.5)\n",
            "Requirement already satisfied: mpmath>=0.19 in /usr/local/lib/python3.10/dist-packages (from sympy->torch>=1.10.0->torchmetrics) (1.3.0)\n"
          ]
        }
      ],
      "source": [
        "!pip install torchmetrics\n",
        "from torchmetrics import Accuracy"
      ]
    },
    {
      "cell_type": "code",
      "execution_count": 74,
      "metadata": {
        "id": "Jktq4harhwMp"
      },
      "outputs": [],
      "source": [
        "import torch.nn.init as init  # Import the init module from PyTorch\n",
        "\n",
        "class ConvolutionalNeuralNetwork2(nn.Module):\n",
        "    def __init__(self, input_dim, in_channels, output_dim, n_layers, n_units, dropout_prob, activation, optimizer_name,weight_init_method, learning_rate, cnn_kernel, cnn_stride, cnn_padding, cnn_channel):\n",
        "        super(ConvolutionalNeuralNetwork2, self).__init__()\n",
        "        layers = []\n",
        "\n",
        "        # self.conv1 = nn.Conv1d(in_channels=d, out_channels=128, kernel_size=5)\n",
        "        # self.conv2 = nn.Conv1d(in_channels=128, out_channels=256, kernel_size=3)\n",
        "\n",
        "        self.conv1 = nn.Conv1d(in_channels=in_channels, out_channels=cnn_channel, kernel_size=cnn_kernel, stride=cnn_stride, padding=cnn_padding)\n",
        "        input_dim = self.calculate_conv_output_size(input_dim, cnn_kernel, cnn_stride, cnn_padding)\n",
        "        input_dim = self.calculate_pool_output_size(input_dim, 2)\n",
        "\n",
        "        self.conv2 = nn.Conv1d(in_channels=cnn_channel, out_channels=cnn_channel, kernel_size=cnn_kernel, stride=cnn_stride, padding=cnn_padding)\n",
        "        input_dim = self.calculate_conv_output_size(input_dim, cnn_kernel, cnn_stride, cnn_padding)\n",
        "        input_dim = self.calculate_pool_output_size(input_dim, 2)\n",
        "\n",
        "        self.fc1 = nn.Linear(cnn_channel * input_dim, 128)\n",
        "\n",
        "        self.activation = activation\n",
        "        self.pool = nn.MaxPool1d(2)\n",
        "        self.bn = nn.BatchNorm1d(cnn_channel)\n",
        "\n",
        "        in_features = 128\n",
        "        for i in range(n_layers):\n",
        "            layers.append(nn.Linear(in_features, n_units))\n",
        "            layers.append(activation)\n",
        "            layers.append(nn.Dropout(dropout_prob))\n",
        "            in_features = n_units\n",
        "        layers.append(nn.Linear(in_features, output_dim))\n",
        "        self.layers = nn.Sequential(*layers)\n",
        "        # Initialize optimizer and learning rate scheduler\n",
        "        self.optimizer_name = optimizer_name\n",
        "        self.optimizer = self._get_optimizer(optimizer_name, learning_rate)\n",
        "        # self.apply_weight_init(weight_init_method)\n",
        "\n",
        "    def _get_optimizer(self, optimizer_name, learning_rate):\n",
        "        if optimizer_name == 'Adam':\n",
        "            return torch.optim.Adam(self.parameters(), lr=learning_rate)\n",
        "        elif optimizer_name == 'SGD':\n",
        "            return torch.optim.SGD(self.parameters(), lr=learning_rate, momentum=0.9)\n",
        "        elif optimizer_name == 'RMSprop':\n",
        "            return torch.optim.RMSprop(self.parameters(), lr=learning_rate)\n",
        "        else:\n",
        "            raise ValueError(f'Invalid optimizer name: {optimizer_name}')\n",
        "\n",
        "    def apply_weight_init(self, weight_init_method):\n",
        "        if weight_init_method == 'uniform':\n",
        "            init_func = init.uniform_\n",
        "        elif weight_init_method == 'normal':\n",
        "            init_func = init.normal_\n",
        "        elif weight_init_method == 'xavier':\n",
        "            init_func = init.xavier_uniform_\n",
        "        else:\n",
        "            raise ValueError(f'Invalid weight initialization method: {weight_init_method}')\n",
        "        # Apply weight initialization to each linear layer\n",
        "        for module in self.modules():\n",
        "            if isinstance(module, nn.Linear):\n",
        "                init_func(module.weight)\n",
        "                if module.bias is not None:\n",
        "                    init.constant_(module.bias, 0)\n",
        "\n",
        "    def calculate_conv_output_size(self, input_size, kernel_size, stride, padding):\n",
        "        return int(((input_size - kernel_size + 2 * padding) / stride) + 1)\n",
        "\n",
        "    def calculate_pool_output_size(self, input_size, pool_size):\n",
        "        return int((input_size  / pool_size))\n",
        "\n",
        "    def forward(self, x):\n",
        "        x = self.conv1(x)\n",
        "        x = self.bn(x)\n",
        "        x = self.activation(x)\n",
        "        x = self.pool(x)\n",
        "\n",
        "        x = self.conv2(x)\n",
        "        x = self.bn(x)\n",
        "        x = self.activation(x)\n",
        "        x = self.pool(x)\n",
        "\n",
        "        # Flatten the output before the fully connected layers\n",
        "        x = x.view(x.size(0), -1)\n",
        "        x = self.fc1(x)\n",
        "\n",
        "        return self.layers(x)"
      ]
    },
    {
      "cell_type": "code",
      "execution_count": 75,
      "metadata": {
        "id": "TvTUktp6mDGT"
      },
      "outputs": [],
      "source": [
        "def train_model(model, criterion, optimizer, dataloader, device):\n",
        "    model.train()\n",
        "    total_loss = 0.0\n",
        "    correct_predictions = 0\n",
        "    total_samples = 0\n",
        "\n",
        "    for inputs, targets in dataloader:\n",
        "        inputs, targets = inputs.to(device), targets.to(device)\n",
        "\n",
        "        optimizer.zero_grad()\n",
        "        outputs = model(inputs)\n",
        "        loss = criterion(outputs, targets)\n",
        "\n",
        "        # Calculate accuracy\n",
        "        y_pred = torch.argmax(outputs, dim = 1)\n",
        "        correct_predictions += (y_pred == targets).sum().item()\n",
        "        total_samples += len(targets)\n",
        "\n",
        "        loss.backward()\n",
        "        optimizer.step()\n",
        "\n",
        "        total_loss += loss.item()\n",
        "\n",
        "    accuracy = correct_predictions / total_samples\n",
        "    total_loss /= total_samples\n",
        "    return total_loss, accuracy"
      ]
    },
    {
      "cell_type": "code",
      "execution_count": 76,
      "metadata": {
        "id": "MYqgsJqBWfmT"
      },
      "outputs": [],
      "source": [
        "def evaluate_model(network, criterion, eval_dataloader, device):\n",
        "    network.eval()\n",
        "\n",
        "    total_loss = 0\n",
        "    correct_predictions = 0\n",
        "    total_samples = 0\n",
        "\n",
        "    with torch.no_grad():\n",
        "        for eval_x, eval_y in eval_dataloader:\n",
        "            eval_x = eval_x.to(device)\n",
        "            eval_y = eval_y.to(device)\n",
        "\n",
        "            y_pred = network(eval_x)\n",
        "            loss = criterion(y_pred, eval_y)\n",
        "\n",
        "            total_loss += loss.item()\n",
        "\n",
        "            # Calculate accuracy\n",
        "            y_pred = torch.argmax(y_pred, dim = 1)\n",
        "            correct_predictions += (y_pred == eval_y).sum().item()\n",
        "            total_samples += len(eval_y)\n",
        "\n",
        "    total_loss /= total_samples\n",
        "    accuracy = correct_predictions / total_samples\n",
        "\n",
        "    return total_loss, accuracy"
      ]
    },
    {
      "cell_type": "code",
      "execution_count": 77,
      "metadata": {
        "id": "2tbC4F1me8WC"
      },
      "outputs": [],
      "source": [
        "import optuna\n",
        "from torch.optim.lr_scheduler import StepLR, ExponentialLR\n",
        "from torch.nn.init import xavier_uniform_, kaiming_normal_\n",
        "from torch.optim import Adam, SGD\n",
        "from torch.optim.lr_scheduler import StepLR, ExponentialLR\n",
        "from torch.nn import LeakyReLU, PReLU\n",
        "from torch.utils.data import DataLoader\n",
        "from torch.nn import L1Loss, MSELoss\n",
        "\n",
        "def objective(trial):\n",
        "    # Define hyperparameters to be optimized\n",
        "    learning_rate = trial.suggest_float(\"learning_rate\", 1e-5, 1e-1, log=True)\n",
        "    batch_size = trial.suggest_categorical(\"batch_size\", [32, 64, 128])\n",
        "    n_layers = trial.suggest_int(\"n_layers\", 1, 2)\n",
        "    n_units = trial.suggest_int(\"n_units\", 16, 128)\n",
        "    dropout_prob = trial.suggest_float(\"dropout_prob\", 0.0, 0.5)\n",
        "    activation = trial.suggest_categorical(\"activation\", [\"ReLU\", \"LeakyReLU\", \"PReLU\"])\n",
        "    weight_init_method = trial.suggest_categorical(\"weight_init_method\", [\"uniform\", \"normal\", \"xavier\"])\n",
        "    optimizer_choice = trial.suggest_categorical(\"optimizer\", [\"Adam\", \"SGD\", \"RMSprop\"])\n",
        "    # lr_schedule = trial.suggest_categorical(\"lr_schedule\", [\"step_lr\", \"exp_lr\"])\n",
        "    use_early_stopping = trial.suggest_categorical(\"use_early_stopping\", [True, False])\n",
        "    patience = trial.suggest_int(\"patience\", 5, 10)\n",
        "    # gradient_accumulation_steps = trial.suggest_int(\"gradient_accumulation_steps\", 1, 5)\n",
        "    # regularization_strength = trial.suggest_float(\"regularization_strength\", 0.0, 0.1)\n",
        "    epochs = trial.suggest_int(\"epochs\", 10, 25)\n",
        "\n",
        "    #for CNN\n",
        "    cnn_kernel = 2 * (trial.suggest_int(\"cnn_kernel\", 1, 3)) + 1  # to get odd number using 2*x+1\n",
        "    max_stride_pad = (cnn_kernel - 1)/2\n",
        "    cnn_stride = trial.suggest_int(\"cnn_stride\", 1, max_stride_pad)\n",
        "    cnn_padding = trial.suggest_categorical(\"cnn_padding\", [0, 3])\n",
        "    cnn_channel = trial.suggest_categorical(\"cnn_channel\", [32, 64, 128])\n",
        "\n",
        "    # Wrap activation functions inside nn.Module subclass\n",
        "    if activation == \"ReLU\":\n",
        "        activation =nn.ReLU()\n",
        "    elif activation == \"LeakyReLU\":\n",
        "        activation =nn.LeakyReLU()\n",
        "    elif activation == \"PReLU\":\n",
        "        activation =nn.PReLU()\n",
        "    else:\n",
        "        raise ValueError(f'Invalid activation method: {activation}')\n",
        "\n",
        "    # Create an instance of your Network\n",
        "    network = ConvolutionalNeuralNetwork2(input_dim = input_dim_x, in_channels=1, output_dim=2, n_layers=n_layers,\n",
        "                            n_units=n_units, dropout_prob=dropout_prob, activation=activation,\n",
        "                            optimizer_name=optimizer_choice,weight_init_method=weight_init_method,\n",
        "                            learning_rate = learning_rate, cnn_kernel = cnn_kernel, cnn_stride = cnn_stride,\n",
        "                            cnn_padding = cnn_padding, cnn_channel = cnn_channel)\n",
        "\n",
        "    optimizer = network.optimizer\n",
        "\n",
        "    # input_size = (100, 970)  # (channels, width)\n",
        "\n",
        "    # # Print the model summary\n",
        "    # summary(network, input_size=input_size)\n",
        "\n",
        "    # Move the model to the appropriate device\n",
        "    network.to(device)\n",
        "    best_eval_loss = float('inf')\n",
        "    no_improvement = 0\n",
        "\n",
        "    # Define DataLoader instances\n",
        "    train_dataloader = DataLoader(train_dataset, batch_size=batch_size, shuffle=True)\n",
        "    eval_dataloader = DataLoader(eval_dataset, batch_size=batch_size, shuffle=False)\n",
        "    # test_dataloader = DataLoader(test_dataset, batch_size=batch_size, shuffle=False)\n",
        "\n",
        "    # Training loop\n",
        "    for epoch in tqdm(range(epochs), desc=\"Epochs\"):\n",
        "        train_loss , train_acc = train_model(network, criterion, optimizer, train_dataloader, device)\n",
        "        eval_loss, eval_acc = evaluate_model(network, criterion, eval_dataloader, device)\n",
        "\n",
        "        # Report the validation loss to Optuna for optimization\n",
        "        trial.report(eval_loss, epoch)\n",
        "\n",
        "        # Handle pruning based on the intermediate value\n",
        "        if trial.should_prune():\n",
        "            raise optuna.exceptions.TrialPruned()\n",
        "\n",
        "        # Early stopping\n",
        "        if use_early_stopping:\n",
        "            if eval_loss < best_eval_loss:\n",
        "                best_val_loss = eval_loss\n",
        "                no_improvement = 0\n",
        "            else:\n",
        "                no_improvement += 1\n",
        "                if no_improvement >= patience:\n",
        "                    break\n",
        "\n",
        "    print(f\"Training acc = {train_acc} , Val acc = {eval_acc}\")\n",
        "    return eval_acc  # eval_loss\n"
      ]
    },
    {
      "cell_type": "code",
      "execution_count": 78,
      "metadata": {
        "id": "hzSwD7ejzAku",
        "colab": {
          "base_uri": "https://localhost:8080/"
        },
        "outputId": "8929ba17-c592-4909-d7e8-53eed6941b9d"
      },
      "outputs": [
        {
          "output_type": "stream",
          "name": "stderr",
          "text": [
            "[I 2024-03-13 18:47:44,295] A new study created in memory with name: no-name-7b499153-8ba0-4608-a880-e76fb1db502f\n",
            "Epochs: 100%|██████████| 18/18 [00:30<00:00,  1.70s/it]\n",
            "[I 2024-03-13 18:48:14,951] Trial 0 finished with value: 0.9047169811320754 and parameters: {'learning_rate': 0.0007407862331029347, 'batch_size': 64, 'n_layers': 2, 'n_units': 104, 'dropout_prob': 0.3025121029857046, 'activation': 'LeakyReLU', 'weight_init_method': 'xavier', 'optimizer': 'RMSprop', 'use_early_stopping': False, 'patience': 10, 'epochs': 18, 'cnn_kernel': 1, 'cnn_stride': 1, 'cnn_padding': 0, 'cnn_channel': 128}. Best is trial 0 with value: 0.9047169811320754.\n"
          ]
        },
        {
          "output_type": "stream",
          "name": "stdout",
          "text": [
            "Training acc = 0.9550707547169811 , Val acc = 0.9047169811320754\n"
          ]
        },
        {
          "output_type": "stream",
          "name": "stderr",
          "text": [
            "Epochs: 100%|██████████| 16/16 [00:13<00:00,  1.15it/s]\n",
            "[I 2024-03-13 18:48:28,923] Trial 1 finished with value: 0.9311320754716981 and parameters: {'learning_rate': 1.5953727155913714e-05, 'batch_size': 64, 'n_layers': 2, 'n_units': 111, 'dropout_prob': 0.17091617950148918, 'activation': 'PReLU', 'weight_init_method': 'xavier', 'optimizer': 'Adam', 'use_early_stopping': True, 'patience': 9, 'epochs': 16, 'cnn_kernel': 3, 'cnn_stride': 1, 'cnn_padding': 3, 'cnn_channel': 64}. Best is trial 1 with value: 0.9311320754716981.\n"
          ]
        },
        {
          "output_type": "stream",
          "name": "stdout",
          "text": [
            "Training acc = 0.9550707547169811 , Val acc = 0.9311320754716981\n"
          ]
        },
        {
          "output_type": "stream",
          "name": "stderr",
          "text": [
            "Epochs: 100%|██████████| 15/15 [00:08<00:00,  1.87it/s]\n",
            "[I 2024-03-13 18:48:36,951] Trial 2 finished with value: 0.5 and parameters: {'learning_rate': 0.021438908631092452, 'batch_size': 64, 'n_layers': 1, 'n_units': 126, 'dropout_prob': 0.3281284058455737, 'activation': 'LeakyReLU', 'weight_init_method': 'uniform', 'optimizer': 'RMSprop', 'use_early_stopping': True, 'patience': 9, 'epochs': 15, 'cnn_kernel': 3, 'cnn_stride': 2, 'cnn_padding': 3, 'cnn_channel': 64}. Best is trial 1 with value: 0.9311320754716981.\n"
          ]
        },
        {
          "output_type": "stream",
          "name": "stdout",
          "text": [
            "Training acc = 0.625 , Val acc = 0.5\n"
          ]
        },
        {
          "output_type": "stream",
          "name": "stderr",
          "text": [
            "Epochs: 100%|██████████| 16/16 [00:14<00:00,  1.10it/s]\n",
            "[I 2024-03-13 18:48:51,565] Trial 3 finished with value: 0.6754716981132075 and parameters: {'learning_rate': 0.0016831388334171548, 'batch_size': 32, 'n_layers': 1, 'n_units': 124, 'dropout_prob': 0.4120119659898079, 'activation': 'ReLU', 'weight_init_method': 'uniform', 'optimizer': 'Adam', 'use_early_stopping': False, 'patience': 7, 'epochs': 16, 'cnn_kernel': 3, 'cnn_stride': 3, 'cnn_padding': 3, 'cnn_channel': 32}. Best is trial 1 with value: 0.9311320754716981.\n"
          ]
        },
        {
          "output_type": "stream",
          "name": "stdout",
          "text": [
            "Training acc = 0.9786556603773585 , Val acc = 0.6754716981132075\n"
          ]
        },
        {
          "output_type": "stream",
          "name": "stderr",
          "text": [
            "Epochs: 100%|██████████| 17/17 [00:09<00:00,  1.70it/s]\n",
            "[I 2024-03-13 18:49:01,589] Trial 4 finished with value: 0.5009433962264151 and parameters: {'learning_rate': 0.017341998053913604, 'batch_size': 128, 'n_layers': 1, 'n_units': 84, 'dropout_prob': 0.25880356500719304, 'activation': 'PReLU', 'weight_init_method': 'normal', 'optimizer': 'SGD', 'use_early_stopping': False, 'patience': 7, 'epochs': 17, 'cnn_kernel': 1, 'cnn_stride': 1, 'cnn_padding': 0, 'cnn_channel': 64}. Best is trial 1 with value: 0.9311320754716981.\n"
          ]
        },
        {
          "output_type": "stream",
          "name": "stdout",
          "text": [
            "Training acc = 0.96875 , Val acc = 0.5009433962264151\n"
          ]
        },
        {
          "output_type": "stream",
          "name": "stderr",
          "text": [
            "Epochs: 100%|██████████| 10/10 [00:10<00:00,  1.02s/it]\n",
            "[I 2024-03-13 18:49:11,850] Trial 5 finished with value: 0.8584905660377359 and parameters: {'learning_rate': 7.159613476593695e-05, 'batch_size': 32, 'n_layers': 2, 'n_units': 89, 'dropout_prob': 0.15949319662872802, 'activation': 'ReLU', 'weight_init_method': 'xavier', 'optimizer': 'SGD', 'use_early_stopping': False, 'patience': 10, 'epochs': 10, 'cnn_kernel': 2, 'cnn_stride': 2, 'cnn_padding': 3, 'cnn_channel': 128}. Best is trial 1 with value: 0.9311320754716981.\n"
          ]
        },
        {
          "output_type": "stream",
          "name": "stdout",
          "text": [
            "Training acc = 0.9002358490566038 , Val acc = 0.8584905660377359\n"
          ]
        },
        {
          "output_type": "stream",
          "name": "stderr",
          "text": [
            "Epochs: 100%|██████████| 17/17 [00:19<00:00,  1.14s/it]\n",
            "[I 2024-03-13 18:49:31,339] Trial 6 finished with value: 0.5 and parameters: {'learning_rate': 0.006080319545380235, 'batch_size': 32, 'n_layers': 2, 'n_units': 82, 'dropout_prob': 0.1018918376690538, 'activation': 'ReLU', 'weight_init_method': 'normal', 'optimizer': 'RMSprop', 'use_early_stopping': True, 'patience': 7, 'epochs': 17, 'cnn_kernel': 2, 'cnn_stride': 1, 'cnn_padding': 3, 'cnn_channel': 64}. Best is trial 1 with value: 0.9311320754716981.\n"
          ]
        },
        {
          "output_type": "stream",
          "name": "stdout",
          "text": [
            "Training acc = 0.9463443396226415 , Val acc = 0.5\n"
          ]
        },
        {
          "output_type": "stream",
          "name": "stderr",
          "text": [
            "Epochs: 100%|██████████| 19/19 [00:24<00:00,  1.29s/it]\n",
            "[I 2024-03-13 18:49:55,833] Trial 7 finished with value: 0.8160377358490566 and parameters: {'learning_rate': 0.00010582783419932988, 'batch_size': 64, 'n_layers': 1, 'n_units': 40, 'dropout_prob': 0.20341296491319466, 'activation': 'ReLU', 'weight_init_method': 'xavier', 'optimizer': 'RMSprop', 'use_early_stopping': True, 'patience': 8, 'epochs': 19, 'cnn_kernel': 1, 'cnn_stride': 1, 'cnn_padding': 0, 'cnn_channel': 128}. Best is trial 1 with value: 0.9311320754716981.\n"
          ]
        },
        {
          "output_type": "stream",
          "name": "stdout",
          "text": [
            "Training acc = 0.9673349056603774 , Val acc = 0.8160377358490566\n"
          ]
        },
        {
          "output_type": "stream",
          "name": "stderr",
          "text": [
            "Epochs: 100%|██████████| 21/21 [00:21<00:00,  1.01s/it]\n",
            "[I 2024-03-13 18:50:17,129] Trial 8 finished with value: 0.5 and parameters: {'learning_rate': 0.009551923246425462, 'batch_size': 32, 'n_layers': 2, 'n_units': 61, 'dropout_prob': 0.14231797826413406, 'activation': 'ReLU', 'weight_init_method': 'normal', 'optimizer': 'Adam', 'use_early_stopping': True, 'patience': 5, 'epochs': 21, 'cnn_kernel': 2, 'cnn_stride': 1, 'cnn_padding': 3, 'cnn_channel': 32}. Best is trial 1 with value: 0.9311320754716981.\n"
          ]
        },
        {
          "output_type": "stream",
          "name": "stdout",
          "text": [
            "Training acc = 0.5159198113207547 , Val acc = 0.5\n"
          ]
        },
        {
          "output_type": "stream",
          "name": "stderr",
          "text": [
            "Epochs: 100%|██████████| 12/12 [00:11<00:00,  1.08it/s]\n",
            "[I 2024-03-13 18:50:28,237] Trial 9 finished with value: 0.8490566037735849 and parameters: {'learning_rate': 0.008302827756975776, 'batch_size': 32, 'n_layers': 2, 'n_units': 58, 'dropout_prob': 0.49280115817442416, 'activation': 'ReLU', 'weight_init_method': 'normal', 'optimizer': 'SGD', 'use_early_stopping': True, 'patience': 10, 'epochs': 12, 'cnn_kernel': 2, 'cnn_stride': 2, 'cnn_padding': 0, 'cnn_channel': 32}. Best is trial 1 with value: 0.9311320754716981.\n"
          ]
        },
        {
          "output_type": "stream",
          "name": "stdout",
          "text": [
            "Training acc = 0.9549528301886793 , Val acc = 0.8490566037735849\n"
          ]
        },
        {
          "output_type": "stream",
          "name": "stderr",
          "text": [
            "Epochs:   0%|          | 0/25 [00:00<?, ?it/s]\n",
            "[I 2024-03-13 18:50:28,724] Trial 10 pruned. \n",
            "Epochs: 100%|██████████| 21/21 [00:28<00:00,  1.34s/it]\n",
            "[I 2024-03-13 18:50:56,859] Trial 11 finished with value: 0.8632075471698113 and parameters: {'learning_rate': 0.0003136486197128004, 'batch_size': 64, 'n_layers': 2, 'n_units': 104, 'dropout_prob': 0.29945558122787697, 'activation': 'LeakyReLU', 'weight_init_method': 'xavier', 'optimizer': 'Adam', 'use_early_stopping': False, 'patience': 9, 'epochs': 21, 'cnn_kernel': 1, 'cnn_stride': 1, 'cnn_padding': 0, 'cnn_channel': 128}. Best is trial 1 with value: 0.9311320754716981.\n"
          ]
        },
        {
          "output_type": "stream",
          "name": "stdout",
          "text": [
            "Training acc = 0.9864386792452831 , Val acc = 0.8632075471698113\n"
          ]
        },
        {
          "output_type": "stream",
          "name": "stderr",
          "text": [
            "Epochs: 100%|██████████| 14/14 [00:19<00:00,  1.36s/it]\n",
            "[I 2024-03-13 18:51:16,051] Trial 12 finished with value: 0.5 and parameters: {'learning_rate': 0.08548631741925701, 'batch_size': 64, 'n_layers': 2, 'n_units': 107, 'dropout_prob': 0.352740142924042, 'activation': 'PReLU', 'weight_init_method': 'xavier', 'optimizer': 'RMSprop', 'use_early_stopping': False, 'patience': 9, 'epochs': 14, 'cnn_kernel': 1, 'cnn_stride': 1, 'cnn_padding': 0, 'cnn_channel': 128}. Best is trial 1 with value: 0.9311320754716981.\n"
          ]
        },
        {
          "output_type": "stream",
          "name": "stdout",
          "text": [
            "Training acc = 0.7795990566037736 , Val acc = 0.5\n"
          ]
        },
        {
          "output_type": "stream",
          "name": "stderr",
          "text": [
            "Epochs:   0%|          | 0/19 [00:00<?, ?it/s]\n",
            "[I 2024-03-13 18:51:16,824] Trial 13 pruned. \n",
            "Epochs:   0%|          | 0/13 [00:00<?, ?it/s]\n",
            "[I 2024-03-13 18:51:17,766] Trial 14 pruned. \n",
            "Epochs:   0%|          | 0/23 [00:00<?, ?it/s]\n",
            "[I 2024-03-13 18:51:18,494] Trial 15 pruned. \n",
            "Epochs:   0%|          | 0/20 [00:01<?, ?it/s]\n",
            "[I 2024-03-13 18:51:19,928] Trial 16 pruned. \n",
            "Epochs: 100%|██████████| 18/18 [00:26<00:00,  1.47s/it]\n",
            "[I 2024-03-13 18:51:46,397] Trial 17 finished with value: 0.5 and parameters: {'learning_rate': 0.0005636284235582872, 'batch_size': 64, 'n_layers': 1, 'n_units': 93, 'dropout_prob': 0.2064363120247653, 'activation': 'LeakyReLU', 'weight_init_method': 'xavier', 'optimizer': 'RMSprop', 'use_early_stopping': False, 'patience': 8, 'epochs': 18, 'cnn_kernel': 2, 'cnn_stride': 1, 'cnn_padding': 0, 'cnn_channel': 128}. Best is trial 1 with value: 0.9311320754716981.\n"
          ]
        },
        {
          "output_type": "stream",
          "name": "stdout",
          "text": [
            "Training acc = 0.9551886792452831 , Val acc = 0.5\n"
          ]
        },
        {
          "output_type": "stream",
          "name": "stderr",
          "text": [
            "Epochs:   0%|          | 0/15 [00:00<?, ?it/s]\n",
            "[I 2024-03-13 18:51:47,157] Trial 18 pruned. \n",
            "Epochs:   0%|          | 0/11 [00:00<?, ?it/s]\n",
            "[I 2024-03-13 18:51:47,920] Trial 19 pruned. \n",
            "Epochs: 100%|██████████| 23/23 [00:31<00:00,  1.37s/it]\n",
            "[I 2024-03-13 18:52:19,417] Trial 20 finished with value: 0.5 and parameters: {'learning_rate': 0.09920258351851043, 'batch_size': 128, 'n_layers': 1, 'n_units': 113, 'dropout_prob': 0.15532285386935774, 'activation': 'PReLU', 'weight_init_method': 'xavier', 'optimizer': 'RMSprop', 'use_early_stopping': True, 'patience': 10, 'epochs': 23, 'cnn_kernel': 2, 'cnn_stride': 1, 'cnn_padding': 0, 'cnn_channel': 128}. Best is trial 1 with value: 0.9311320754716981.\n"
          ]
        },
        {
          "output_type": "stream",
          "name": "stdout",
          "text": [
            "Training acc = 0.7825471698113208 , Val acc = 0.5\n"
          ]
        },
        {
          "output_type": "stream",
          "name": "stderr",
          "text": [
            "Epochs:   0%|          | 0/21 [00:01<?, ?it/s]\n",
            "[I 2024-03-13 18:52:20,820] Trial 21 pruned. \n",
            "Epochs:   0%|          | 0/23 [00:01<?, ?it/s]\n",
            "[I 2024-03-13 18:52:22,225] Trial 22 pruned. \n",
            "Epochs:   0%|          | 0/18 [00:01<?, ?it/s]\n",
            "[I 2024-03-13 18:52:23,623] Trial 23 pruned. \n",
            "Epochs:   0%|          | 0/21 [00:01<?, ?it/s]\n",
            "[I 2024-03-13 18:52:25,027] Trial 24 pruned. \n",
            "Epochs: 100%|██████████| 16/16 [00:11<00:00,  1.39it/s]\n",
            "[I 2024-03-13 18:52:36,658] Trial 25 finished with value: 0.5150943396226415 and parameters: {'learning_rate': 0.00011641045786311003, 'batch_size': 64, 'n_layers': 2, 'n_units': 93, 'dropout_prob': 0.31456035869076365, 'activation': 'LeakyReLU', 'weight_init_method': 'xavier', 'optimizer': 'Adam', 'use_early_stopping': False, 'patience': 9, 'epochs': 16, 'cnn_kernel': 1, 'cnn_stride': 1, 'cnn_padding': 0, 'cnn_channel': 64}. Best is trial 1 with value: 0.9311320754716981.\n"
          ]
        },
        {
          "output_type": "stream",
          "name": "stdout",
          "text": [
            "Training acc = 0.9785377358490566 , Val acc = 0.5150943396226415\n"
          ]
        },
        {
          "output_type": "stream",
          "name": "stderr",
          "text": [
            "Epochs:   0%|          | 0/19 [00:01<?, ?it/s]\n",
            "[I 2024-03-13 18:52:38,240] Trial 26 pruned. \n",
            "Epochs:   0%|          | 0/22 [00:01<?, ?it/s]\n",
            "[I 2024-03-13 18:52:39,884] Trial 27 pruned. \n",
            "Epochs:   0%|          | 0/25 [00:00<?, ?it/s]\n",
            "[I 2024-03-13 18:52:40,553] Trial 28 pruned. \n",
            "Epochs: 100%|██████████| 15/15 [00:07<00:00,  1.91it/s]\n",
            "[I 2024-03-13 18:52:48,469] Trial 29 finished with value: 0.5 and parameters: {'learning_rate': 0.0034140288498136525, 'batch_size': 64, 'n_layers': 1, 'n_units': 123, 'dropout_prob': 0.342634719931772, 'activation': 'LeakyReLU', 'weight_init_method': 'normal', 'optimizer': 'SGD', 'use_early_stopping': True, 'patience': 9, 'epochs': 15, 'cnn_kernel': 3, 'cnn_stride': 2, 'cnn_padding': 3, 'cnn_channel': 32}. Best is trial 1 with value: 0.9311320754716981.\n"
          ]
        },
        {
          "output_type": "stream",
          "name": "stdout",
          "text": [
            "Training acc = 0.9693396226415094 , Val acc = 0.5\n",
            "Best trial:\n",
            "  Value:  0.9311320754716981\n",
            "  Params: \n",
            "    learning_rate: 1.5953727155913714e-05\n",
            "    batch_size: 64\n",
            "    n_layers: 2\n",
            "    n_units: 111\n",
            "    dropout_prob: 0.17091617950148918\n",
            "    activation: PReLU\n",
            "    weight_init_method: xavier\n",
            "    optimizer: Adam\n",
            "    use_early_stopping: True\n",
            "    patience: 9\n",
            "    epochs: 16\n",
            "    cnn_kernel: 3\n",
            "    cnn_stride: 1\n",
            "    cnn_padding: 3\n",
            "    cnn_channel: 64\n"
          ]
        }
      ],
      "source": [
        "# Create Optuna study and run optimization\n",
        "study = optuna.create_study(direction=\"maximize\")  # or \"minimize\" for a loss\n",
        "study.optimize(objective, n_trials=30, timeout=5000)\n",
        "\n",
        "print(\"Best trial:\")\n",
        "trial = study.best_trial\n",
        "print(\"  Value: \", trial.value)\n",
        "\n",
        "print(\"  Params: \")\n",
        "for key, value in trial.params.items():\n",
        "    print(\"    {}: {}\".format(key, value))"
      ]
    },
    {
      "cell_type": "code",
      "execution_count": 79,
      "metadata": {
        "id": "KYGQkwS2qZ5y"
      },
      "outputs": [],
      "source": [
        "train_epoch_loss = []\n",
        "eval_epoch_loss = []"
      ]
    },
    {
      "cell_type": "code",
      "execution_count": 80,
      "metadata": {
        "id": "HPl_pp2HmDI3",
        "colab": {
          "base_uri": "https://localhost:8080/"
        },
        "outputId": "4e354191-fbee-4646-ebda-71fa52e38506"
      },
      "outputs": [
        {
          "output_type": "stream",
          "name": "stdout",
          "text": [
            "----------------------------------------------------------------\n",
            "        Layer (type)               Output Shape         Param #\n",
            "================================================================\n",
            "            Conv1d-1              [-1, 64, 768]             512\n",
            "       BatchNorm1d-2              [-1, 64, 768]             128\n",
            "             PReLU-3              [-1, 64, 768]               1\n",
            "             PReLU-4              [-1, 64, 768]               1\n",
            "         MaxPool1d-5              [-1, 64, 384]               0\n",
            "            Conv1d-6              [-1, 64, 384]          28,736\n",
            "       BatchNorm1d-7              [-1, 64, 384]             128\n",
            "             PReLU-8              [-1, 64, 384]               1\n",
            "             PReLU-9              [-1, 64, 384]               1\n",
            "        MaxPool1d-10              [-1, 64, 192]               0\n",
            "           Linear-11                  [-1, 128]       1,572,992\n",
            "           Linear-12                  [-1, 111]          14,319\n",
            "            PReLU-13                  [-1, 111]               1\n",
            "            PReLU-14                  [-1, 111]               1\n",
            "          Dropout-15                  [-1, 111]               0\n",
            "           Linear-16                  [-1, 111]          12,432\n",
            "            PReLU-17                  [-1, 111]               1\n",
            "            PReLU-18                  [-1, 111]               1\n",
            "          Dropout-19                  [-1, 111]               0\n",
            "           Linear-20                    [-1, 2]             224\n",
            "================================================================\n",
            "Total params: 1,629,479\n",
            "Trainable params: 1,629,479\n",
            "Non-trainable params: 0\n",
            "----------------------------------------------------------------\n",
            "Input size (MB): 0.00\n",
            "Forward/backward pass size (MB): 2.54\n",
            "Params size (MB): 6.22\n",
            "Estimated Total Size (MB): 8.76\n",
            "----------------------------------------------------------------\n"
          ]
        },
        {
          "output_type": "stream",
          "name": "stderr",
          "text": [
            "Epochs: 100%|██████████| 16/16 [00:15<00:00,  1.02it/s]\n"
          ]
        }
      ],
      "source": [
        "from torchsummary import summary\n",
        "# Retrieve the best parameters\n",
        "best_params = study.best_params\n",
        "# example\n",
        "# best_params = {'learning_rate': 0.00012181579730390829, 'batch_size': 128, 'n_layers': 1, 'n_units': 128,\n",
        "            # 'dropout_prob': 0.48435216549373367, 'activation': 'PReLU', 'weight_init_method': 'normal', 'optimizer': 'SGD',\n",
        "            # 'use_early_stopping': False, 'patience': 8, 'epochs': 12, 'cnn_kernel': 3, 'cnn_stride': 2, 'cnn_padding': 3,\n",
        "            # 'cnn_channel': 32}\n",
        "\n",
        "\n",
        "# Wrap activation functions inside nn.Module subclass\n",
        "if best_params['activation'] == \"ReLU\":\n",
        "    activation =nn.ReLU()\n",
        "elif best_params['activation'] == \"LeakyReLU\":\n",
        "    activation =nn.LeakyReLU()\n",
        "elif best_params['activation'] == \"PReLU\":\n",
        "    activation =nn.PReLU()\n",
        "\n",
        "cnn_kernel = 2 * best_params['cnn_kernel'] + 1\n",
        "\n",
        "# Create an instance of your Network\n",
        "network2 = ConvolutionalNeuralNetwork2(input_dim = input_dim_x, in_channels=1, output_dim=2, n_layers=best_params['n_layers'],\n",
        "                        n_units=best_params['n_units'], dropout_prob=best_params['dropout_prob'], activation=activation,\n",
        "                        optimizer_name=best_params['optimizer'],weight_init_method=best_params['weight_init_method'],\n",
        "                        learning_rate = best_params['learning_rate'],cnn_kernel = cnn_kernel,\n",
        "                        cnn_stride = best_params['cnn_stride'], cnn_padding = best_params['cnn_padding'],\n",
        "                        cnn_channel = best_params['cnn_channel'])\n",
        "\n",
        "optimizer = network2.optimizer\n",
        "epochs = best_params['epochs']\n",
        "hyp_accuracy=study.best_value\n",
        "cond=True\n",
        "\n",
        "# if hyp_accuracy < prev_eval_acc:\n",
        "#     cond=False\n",
        "#     network2=ConvolutionalNeuralNetwork0(d , num_classes=2)\n",
        "#     best_params['use_early_stopping'] = False\n",
        "#     epochs=10\n",
        "#     optimizer = torch.optim.Adam(network.parameters(), lr = 0.001)\n",
        "# # Learning rate scheduler\n",
        "# if lr_schedule == \"step_lr\":\n",
        "#     scheduler = StepLR(optimizer, step_size=5, gamma=0.1)\n",
        "# elif lr_schedule == \"exp_lr\":\n",
        "#     scheduler = ExponentialLR(optimizer, gamma=0.9)\n",
        "\n",
        "# Move the model to the appropriate device\n",
        "network2 = network2.to(device)\n",
        "input_size = (1, input_dim_x)  # (channels, width)\n",
        "\n",
        "# Print the model summary\n",
        "summary(network2, input_size=input_size)\n",
        "\n",
        "\n",
        "best_eval_loss = float('inf')\n",
        "no_improvement = 0\n",
        "batch_size = best_params['batch_size']\n",
        "\n",
        "# Define DataLoader instances\n",
        "train_dataloader = DataLoader(train_dataset, batch_size=batch_size, shuffle=True)\n",
        "eval_dataloader = DataLoader(eval_dataset, batch_size=batch_size, shuffle=False)\n",
        "# test_dataloader = DataLoader(test_dataset, batch_size=batch_size, shuffle=False)\n",
        "\n",
        "# Training loop\n",
        "now_eval_acc = 0\n",
        "for epoch in tqdm(range(epochs), desc=\"Epochs\"):\n",
        "    train_loss , train_acc = train_model(network2, criterion, optimizer, train_dataloader, device)\n",
        "    eval_loss, eval_acc = evaluate_model(network2, criterion, eval_dataloader, device)\n",
        "\n",
        "    train_epoch_loss.append(train_loss)\n",
        "    eval_epoch_loss.append(eval_loss)\n",
        "    now_eval_acc = eval_acc\n",
        "    # Early stopping\n",
        "    if best_params['use_early_stopping']:\n",
        "        if eval_loss < best_eval_loss:\n",
        "            best_val_loss = eval_loss\n",
        "            no_improvement = 0\n",
        "        else:\n",
        "            no_improvement += 1\n",
        "            if no_improvement >= best_params['patience']:\n",
        "                break\n"
      ]
    },
    {
      "cell_type": "code",
      "execution_count": 81,
      "metadata": {
        "id": "2NHAGutAmDMS",
        "colab": {
          "base_uri": "https://localhost:8080/",
          "height": 449
        },
        "outputId": "41e5f7af-6ec1-49b1-c128-c7455da4c064"
      },
      "outputs": [
        {
          "output_type": "display_data",
          "data": {
            "text/plain": [
              "<Figure size 640x480 with 1 Axes>"
            ],
            "image/png": "[encoded data removed]"
          },
          "metadata": {}
        }
      ],
      "source": [
        "import matplotlib.pyplot as plt\n",
        "\n",
        "plt.plot(range(epochs), train_epoch_loss, label='train')\n",
        "plt.plot(range(epochs), eval_epoch_loss, label='eval')\n",
        "plt.xlabel('Epoch')\n",
        "plt.ylabel('Loss')\n",
        "plt.legend()\n",
        "plt.show()"
      ]
    },
    {
      "cell_type": "code",
      "execution_count": 82,
      "metadata": {
        "id": "BM_KToHeMmTx",
        "colab": {
          "base_uri": "https://localhost:8080/"
        },
        "outputId": "f02d2539-b9fb-4bdc-829e-612495594885"
      },
      "outputs": [
        {
          "output_type": "stream",
          "name": "stdout",
          "text": [
            "Accuracy on Eval Data 0.6622641509433962\n"
          ]
        }
      ],
      "source": [
        "eval_loss, eval_acc = evaluate_model(network2, criterion, eval_dataloader, device)\n",
        "print(f\"Accuracy on Eval Data {eval_acc}\")"
      ]
    },
    {
      "cell_type": "code",
      "execution_count": 83,
      "metadata": {
        "id": "k2ue7pgiWNRi",
        "colab": {
          "base_uri": "https://localhost:8080/"
        },
        "outputId": "893aa4ac-e431-47bf-d1e0-0d5d7909cba6"
      },
      "outputs": [
        {
          "output_type": "stream",
          "name": "stdout",
          "text": [
            "1\n"
          ]
        }
      ],
      "source": [
        "# save model\n",
        "filename = \"Cnn_model.pickle\"\n",
        "\n",
        "if prev_eval_acc > now_eval_acc:\n",
        "  print(\"1\")\n",
        "  # pickle.dump(prev_model, open(filename, \"wb\"))\n",
        "  torch.save(prev_model.state_dict(), 'Cnn_model.pth')\n",
        "else:\n",
        "  # pickle.dump(network2, open(filename, \"wb\"))\n",
        "  torch.save(network2.state_dict(), 'Cnn_model.pth')"
      ]
    },
    {
      "cell_type": "code",
      "execution_count": 84,
      "metadata": {
        "id": "JHIBKcLJ7Dt6"
      },
      "outputs": [],
      "source": [
        "import json\n",
        "\n",
        "torch.save(network2.state_dict(), 'Cnn_model.pth')\n",
        "# Assuming best_params is defined\n",
        "with open('Cnn_best_params.json', 'w') as f:\n",
        "    json.dump(best_params, f)"
      ]
    },
    {
      "cell_type": "code",
      "execution_count": 85,
      "metadata": {
        "id": "cq_v_DcI4u-z"
      },
      "outputs": [],
      "source": [
        "with open('bert_vectors_test_'+model_name+'.pkl', 'rb') as f:\n",
        "    encode_test_vectors, test_labels = pickle.load(f)\n",
        "test_dataset = CustomDataset(encode_test_vectors, test_labels)\n",
        "test_dataloader = DataLoader(test_dataset, batch_size = 32, shuffle = False)"
      ]
    },
    {
      "cell_type": "code",
      "execution_count": 86,
      "metadata": {
        "id": "JR1liwYjVF73"
      },
      "outputs": [],
      "source": [
        "from sklearn.metrics import accuracy_score, classification_report"
      ]
    },
    {
      "cell_type": "code",
      "execution_count": 87,
      "metadata": {
        "id": "XxqxjBtOVMAo"
      },
      "outputs": [],
      "source": [
        "def get_classification_report(model, test_dataloader, device, model_file = \"Cnn\"):\n",
        "    model.eval().to(device)\n",
        "    y_true = []\n",
        "    y_pred = []\n",
        "    with torch.no_grad():\n",
        "        for test_x, test_y in test_dataloader:\n",
        "            test_x, test_y = test_x.to(device), test_y.to(device)\n",
        "\n",
        "            if model_file == \"Cnn\":\n",
        "                outputs = model(test_x)\n",
        "            else:\n",
        "                outputs = model(test_x)\n",
        "            _, predicted = torch.max(outputs.data, 1)\n",
        "            y_true.extend(test_y.cpu().numpy())\n",
        "            y_pred.extend(predicted.cpu().numpy())\n",
        "\n",
        "    accuracy = accuracy_score(y_true, y_pred)\n",
        "    print(f\"{model_file} Accuracy: {accuracy:.4f}\")\n",
        "\n",
        "    # Calculate and print precision, recall, and f1-score\n",
        "    precision = precision_score(y_true, y_pred, average='weighted')\n",
        "    recall = recall_score(y_true, y_pred, average='weighted')\n",
        "    f1 = f1_score(y_true, y_pred, average='weighted')\n",
        "\n",
        "    print(f\"{model_file} Precision: {precision:.4f}\")\n",
        "    print(f\"{model_file} Recall: {recall:.4f}\")\n",
        "    print(f\"{model_file} F1-Score: {f1:.4f}\")\n",
        "\n",
        "    # Print the classification report\n",
        "    print(f\"{model_file} Classification Report:\")\n",
        "    print(classification_report(y_true, y_pred))\n",
        "    print(\"\\n\")"
      ]
    },
    {
      "cell_type": "code",
      "execution_count": 88,
      "metadata": {
        "id": "dvlqjPxAX4MF"
      },
      "outputs": [],
      "source": [
        "with open('Cnn_best_params.json', 'r') as f:\n",
        "    best_params = json.load(f)"
      ]
    },
    {
      "cell_type": "code",
      "execution_count": 90,
      "metadata": {
        "id": "PPZiCQ1MRc4x",
        "colab": {
          "base_uri": "https://localhost:8080/"
        },
        "outputId": "37f513d6-0a95-4350-b811-4c668951010e"
      },
      "outputs": [
        {
          "output_type": "stream",
          "name": "stdout",
          "text": [
            "Cnn Accuracy: 0.6491\n",
            "Cnn Precision: 0.7995\n",
            "Cnn Recall: 0.6491\n",
            "Cnn F1-Score: 0.6106\n",
            "Cnn Classification Report:\n",
            "              precision    recall  f1-score   support\n",
            "\n",
            "           0       0.57      1.00      0.73       496\n",
            "           1       1.00      0.34      0.51       564\n",
            "\n",
            "    accuracy                           0.65      1060\n",
            "   macro avg       0.79      0.67      0.62      1060\n",
            "weighted avg       0.80      0.65      0.61      1060\n",
            "\n",
            "\n",
            "\n"
          ]
        }
      ],
      "source": [
        "best_model = ConvolutionalNeuralNetwork0(input_dim_x)\n",
        "best_model2 = ConvolutionalNeuralNetwork2(input_dim = input_dim_x, in_channels=1, output_dim=2, n_layers=best_params['n_layers'],\n",
        "                        n_units=best_params['n_units'], dropout_prob=best_params['dropout_prob'], activation=activation,\n",
        "                        optimizer_name=best_params['optimizer'],weight_init_method=best_params['weight_init_method'],\n",
        "                        learning_rate = best_params['learning_rate'],cnn_kernel = cnn_kernel,\n",
        "                        cnn_stride = best_params['cnn_stride'], cnn_padding = best_params['cnn_padding'],\n",
        "                        cnn_channel = best_params['cnn_channel'])\n",
        "try:\n",
        "    best_model.load_state_dict(torch.load('Cnn_model.pth', map_location=torch.device(device)))\n",
        "    get_classification_report(best_model, test_dataloader, device,\"Cnn\")\n",
        "except:\n",
        "    best_model2.load_state_dict(torch.load('Cnn_model.pth', map_location=torch.device(device)))\n",
        "    get_classification_report(best_model2, test_dataloader, device,\"Cnn\")\n",
        "    best_model = best_model2"
      ]
    },
    {
      "cell_type": "markdown",
      "metadata": {
        "id": "dYrBjHhZHzKF"
      },
      "source": []
    }
  ],
  "metadata": {
    "accelerator": "GPU",
    "colab": {
      "gpuType": "T4",
      "provenance": []
    },
    "kaggle": {
      "accelerator": "none",
      "dataSources": [
        {
          "datasetId": 4515722,
          "sourceId": 7731342,
          "sourceType": "datasetVersion"
        }
      ],
      "dockerImageVersionId": 30664,
      "isGpuEnabled": false,
      "isInternetEnabled": true,
      "language": "python",
      "sourceType": "notebook"
    },
    "kernelspec": {
      "display_name": "Python 3",
      "name": "python3"
    },
    "language_info": {
      "codemirror_mode": {
        "name": "ipython",
        "version": 3
      },
      "file_extension": ".py",
      "mimetype": "text/x-python",
      "name": "python",
      "nbconvert_exporter": "python",
      "pygments_lexer": "ipython3",
      "version": "3.10.13"
    }
  },
  "nbformat": 4,
  "nbformat_minor": 0
}