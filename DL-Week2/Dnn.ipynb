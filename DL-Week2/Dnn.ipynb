{
  "cells": [
    {
      "cell_type": "code",
      "execution_count": 87,
      "metadata": {
        "colab": {
          "base_uri": "https://localhost:8080/"
        },
        "id": "fgoJ2JisGLF6",
        "outputId": "a1a474af-7f5b-4752-9844-c4dcccaf960d"
      },
      "outputs": [
        {
          "output_type": "stream",
          "name": "stdout",
          "text": [
            "Requirement already satisfied: optuna in /usr/local/lib/python3.10/dist-packages (3.5.0)\n",
            "Requirement already satisfied: alembic>=1.5.0 in /usr/local/lib/python3.10/dist-packages (from optuna) (1.13.1)\n",
            "Requirement already satisfied: colorlog in /usr/local/lib/python3.10/dist-packages (from optuna) (6.8.2)\n",
            "Requirement already satisfied: numpy in /usr/local/lib/python3.10/dist-packages (from optuna) (1.25.2)\n",
            "Requirement already satisfied: packaging>=20.0 in /usr/local/lib/python3.10/dist-packages (from optuna) (23.2)\n",
            "Requirement already satisfied: sqlalchemy>=1.3.0 in /usr/local/lib/python3.10/dist-packages (from optuna) (2.0.28)\n",
            "Requirement already satisfied: tqdm in /usr/local/lib/python3.10/dist-packages (from optuna) (4.66.2)\n",
            "Requirement already satisfied: PyYAML in /usr/local/lib/python3.10/dist-packages (from optuna) (6.0.1)\n",
            "Requirement already satisfied: Mako in /usr/local/lib/python3.10/dist-packages (from alembic>=1.5.0->optuna) (1.3.2)\n",
            "Requirement already satisfied: typing-extensions>=4 in /usr/local/lib/python3.10/dist-packages (from alembic>=1.5.0->optuna) (4.10.0)\n",
            "Requirement already satisfied: greenlet!=0.4.17 in /usr/local/lib/python3.10/dist-packages (from sqlalchemy>=1.3.0->optuna) (3.0.3)\n",
            "Requirement already satisfied: MarkupSafe>=0.9.2 in /usr/local/lib/python3.10/dist-packages (from Mako->alembic>=1.5.0->optuna) (2.1.5)\n"
          ]
        }
      ],
      "source": [
        "import pandas as pd\n",
        "from sklearn.feature_extraction.text import TfidfVectorizer\n",
        "from sklearn.svm import SVC,LinearSVC\n",
        "from sklearn.metrics import accuracy_score, classification_report\n",
        "from sklearn.model_selection import GridSearchCV\n",
        "from sklearn.metrics import confusion_matrix, accuracy_score, precision_score, recall_score, f1_score\n",
        "import pickle\n",
        "import torch\n",
        "import torch.nn as nn\n",
        "from torch.utils.data import Dataset\n",
        "from torch.utils.data import DataLoader\n",
        "from tqdm import tqdm\n",
        "! pip install optuna\n",
        "import optuna"
      ]
    },
    {
      "cell_type": "code",
      "source": [
        "model_name = \"bert-base-uncased\""
      ],
      "metadata": {
        "id": "yX-FrQxbflB6"
      },
      "execution_count": 88,
      "outputs": []
    },
    {
      "cell_type": "markdown",
      "metadata": {
        "id": "hSJJqKE0Hr8N"
      },
      "source": [
        "# task 1 , 2 , 3 (load)"
      ]
    },
    {
      "cell_type": "code",
      "execution_count": 89,
      "metadata": {
        "id": "4LWOSwYDH5ul"
      },
      "outputs": [],
      "source": [
        "with open('bert_vectors_train_'+model_name+'.pkl', 'rb') as f:\n",
        "    encode_train_vectors, train_labels = pickle.load(f)\n",
        "\n",
        "with open('bert_vectors_val_'+model_name+'.pkl', 'rb') as f:\n",
        "    encode_val_vectors, val_labels = pickle.load(f)\n"
      ]
    },
    {
      "cell_type": "code",
      "execution_count": 90,
      "metadata": {
        "colab": {
          "base_uri": "https://localhost:8080/"
        },
        "id": "eGk_iH1SkD2j",
        "outputId": "71fa2b25-0fc0-4823-c2df-6fa8df59bcfd"
      },
      "outputs": [
        {
          "output_type": "stream",
          "name": "stdout",
          "text": [
            "(8480,) (8480, 768)\n",
            "768\n"
          ]
        }
      ],
      "source": [
        "print(train_labels.values.shape , encode_train_vectors.shape)\n",
        "# train_labels = train_labels.values.flatten()\n",
        "# val_labels  = val_labels.values.flatten()\n",
        "input_dim_x = encode_train_vectors.shape[1]\n",
        "print(input_dim_x)"
      ]
    },
    {
      "cell_type": "markdown",
      "metadata": {
        "id": "Fa4nt3ALHnkV"
      },
      "source": [
        "# Task 4"
      ]
    },
    {
      "cell_type": "code",
      "execution_count": 91,
      "metadata": {
        "id": "xO71sCcof_bL"
      },
      "outputs": [],
      "source": [
        "class CustomDataset(Dataset):\n",
        "    def __init__(self, X, Y):\n",
        "        # Convert sparse matrix to dense tensor\n",
        "        self.x = torch.tensor(X, dtype=torch.float32)\n",
        "        self.y = torch.tensor(Y.values.flatten(), dtype=torch.long)\n",
        "\n",
        "    def __len__(self):\n",
        "        return len(self.y)\n",
        "\n",
        "    def __getitem__(self, idx):\n",
        "        return self.x[idx], self.y[idx]"
      ]
    },
    {
      "cell_type": "code",
      "execution_count": 92,
      "metadata": {
        "id": "fYtWeSVUgVBW"
      },
      "outputs": [],
      "source": [
        "train_dataset = CustomDataset(encode_train_vectors, train_labels)\n",
        "eval_dataset = CustomDataset(encode_val_vectors, val_labels)"
      ]
    },
    {
      "cell_type": "code",
      "execution_count": 93,
      "metadata": {
        "id": "6tVeq41whaz0"
      },
      "outputs": [],
      "source": [
        "train_dataloader = DataLoader(train_dataset, batch_size = 32, shuffle = True)\n",
        "eval_dataloader = DataLoader(eval_dataset, batch_size = 32, shuffle = False)"
      ]
    },
    {
      "cell_type": "code",
      "execution_count": 94,
      "metadata": {
        "colab": {
          "base_uri": "https://localhost:8080/"
        },
        "id": "CKm4VxFvhdYJ",
        "outputId": "d7a9de7b-b9f7-4bcb-b642-ac77ac017833"
      },
      "outputs": [
        {
          "output_type": "stream",
          "name": "stdout",
          "text": [
            "torch.Size([32, 768]) torch.Size([32])\n"
          ]
        }
      ],
      "source": [
        "for x, y in train_dataloader:\n",
        "    print(x.shape, y.shape)\n",
        "    break"
      ]
    },
    {
      "cell_type": "markdown",
      "metadata": {
        "id": "g_sv7-09hpph"
      },
      "source": [
        "## Basic Network"
      ]
    },
    {
      "cell_type": "code",
      "execution_count": 95,
      "metadata": {
        "colab": {
          "base_uri": "https://localhost:8080/",
          "height": 36
        },
        "id": "O7aNAiWbhsx7",
        "outputId": "68fbb54c-dca7-477d-a322-9ee6a0c56237"
      },
      "outputs": [
        {
          "output_type": "execute_result",
          "data": {
            "text/plain": [
              "'cpu'"
            ],
            "application/vnd.google.colaboratory.intrinsic+json": {
              "type": "string"
            }
          },
          "metadata": {},
          "execution_count": 95
        }
      ],
      "source": [
        "device = \"cuda\" if torch.cuda.is_available() else \"cpu\"\n",
        "device"
      ]
    },
    {
      "cell_type": "code",
      "execution_count": 96,
      "metadata": {
        "id": "wh1wF7rs1sUn"
      },
      "outputs": [],
      "source": [
        "# if not torch.cuda.is_available():\n",
        "#     raise RuntimeError(\"CUDA is not available.\")"
      ]
    },
    {
      "cell_type": "code",
      "execution_count": 97,
      "metadata": {
        "id": "YJNXYbCRhwJy"
      },
      "outputs": [],
      "source": [
        "class DeepNeuralNetworkO(nn.Module):\n",
        "  def __init__(self, input_dim = 768, output_dim = 2):\n",
        "    super().__init__()\n",
        "    self.linear_1 = nn.Linear(input_dim, 256)\n",
        "    self.activation_1 = nn.ReLU()\n",
        "\n",
        "    self.linear_2 = nn.Linear(256, 64)\n",
        "    self.activation_2 = nn.ReLU()\n",
        "\n",
        "    self.linear_3 = nn.Linear(64, output_dim)\n",
        "\n",
        "  def forward(self, x):\n",
        "    out = self.linear_1(x)\n",
        "    out = self.activation_1(out)\n",
        "\n",
        "    out = self.linear_2(out)\n",
        "    out = self.activation_2(out)\n",
        "\n",
        "    out = self.linear_3(out)\n",
        "\n",
        "    return out"
      ]
    },
    {
      "cell_type": "code",
      "execution_count": 98,
      "metadata": {
        "id": "5AM2oZ_-iuvW"
      },
      "outputs": [],
      "source": [
        "import torch\n",
        "network = DeepNeuralNetworkO(input_dim_x).to(device)"
      ]
    },
    {
      "cell_type": "code",
      "execution_count": 99,
      "metadata": {
        "colab": {
          "base_uri": "https://localhost:8080/"
        },
        "id": "Ek5Vekjoiu0C",
        "outputId": "18346eb3-aed6-4a54-a63a-73314e893360"
      },
      "outputs": [
        {
          "output_type": "stream",
          "name": "stdout",
          "text": [
            "----------------------------------------------------------------\n",
            "        Layer (type)               Output Shape         Param #\n",
            "================================================================\n",
            "            Linear-1               [-1, 1, 256]         196,864\n",
            "              ReLU-2               [-1, 1, 256]               0\n",
            "            Linear-3                [-1, 1, 64]          16,448\n",
            "              ReLU-4                [-1, 1, 64]               0\n",
            "            Linear-5                 [-1, 1, 2]             130\n",
            "================================================================\n",
            "Total params: 213,442\n",
            "Trainable params: 213,442\n",
            "Non-trainable params: 0\n",
            "----------------------------------------------------------------\n",
            "Input size (MB): 0.00\n",
            "Forward/backward pass size (MB): 0.00\n",
            "Params size (MB): 0.81\n",
            "Estimated Total Size (MB): 0.82\n",
            "----------------------------------------------------------------\n"
          ]
        }
      ],
      "source": [
        "from torchsummary import summary\n",
        "summary(network, (1, input_dim_x))"
      ]
    },
    {
      "cell_type": "code",
      "execution_count": 100,
      "metadata": {
        "colab": {
          "base_uri": "https://localhost:8080/"
        },
        "id": "S4sPuiZliu3A",
        "outputId": "ea47dee1-306c-4993-ea8b-b211a2e3fa83"
      },
      "outputs": [
        {
          "output_type": "stream",
          "name": "stdout",
          "text": [
            "torch.Size([32, 768]) torch.Size([32])\n"
          ]
        }
      ],
      "source": [
        "batch_x, batch_y = next(iter(train_dataloader))\n",
        "print(batch_x.shape, batch_y.shape)"
      ]
    },
    {
      "cell_type": "markdown",
      "metadata": {
        "id": "GF8b0Gili60M"
      },
      "source": [
        "## Basic Training Loop"
      ]
    },
    {
      "cell_type": "code",
      "execution_count": 101,
      "metadata": {
        "id": "o6caXoVbiu5u"
      },
      "outputs": [],
      "source": [
        "criterion = nn.CrossEntropyLoss()\n",
        "optim = torch.optim.Adam(network.parameters(), lr = 0.001)\n",
        "epochs = 10"
      ]
    },
    {
      "cell_type": "code",
      "execution_count": 102,
      "metadata": {
        "id": "6509b7hPiu7z"
      },
      "outputs": [],
      "source": [
        "train_epoch_loss = []\n",
        "eval_epoch_loss = []"
      ]
    },
    {
      "cell_type": "code",
      "execution_count": 103,
      "metadata": {
        "colab": {
          "base_uri": "https://localhost:8080/"
        },
        "id": "kQT1UUZyiu-b",
        "outputId": "1759cfa4-be09-4233-9be3-5a32b38cc07e"
      },
      "outputs": [
        {
          "output_type": "stream",
          "name": "stderr",
          "text": [
            "100%|██████████| 10/10 [00:14<00:00,  1.47s/it]\n"
          ]
        }
      ],
      "source": [
        "for epoch in tqdm(range(epochs)):\n",
        "    curr_loss = 0\n",
        "    total = 0\n",
        "    for train_x, train_y in train_dataloader:\n",
        "\n",
        "        train_x = train_x.to(device)\n",
        "        train_y = train_y.to(device)\n",
        "        optim.zero_grad()\n",
        "\n",
        "        y_pred = network(train_x)\n",
        "        loss = criterion(y_pred, train_y)\n",
        "\n",
        "        loss.backward()\n",
        "        optim.step()\n",
        "\n",
        "        curr_loss += loss.item()\n",
        "        total += len(train_y)\n",
        "    train_epoch_loss.append(curr_loss / total)\n",
        "\n",
        "    curr_loss = 0\n",
        "    total = 0\n",
        "    for eval_x, eval_y in eval_dataloader:\n",
        "        eval_x = eval_x.to(device)\n",
        "        eval_y = eval_y.to(device)\n",
        "        optim.zero_grad()\n",
        "\n",
        "        with torch.no_grad():\n",
        "            y_pred = network(eval_x)\n",
        "\n",
        "        loss = criterion(y_pred, eval_y)\n",
        "\n",
        "        curr_loss += loss.item()\n",
        "        total += len(train_y)\n",
        "    eval_epoch_loss.append(curr_loss / total)\n"
      ]
    },
    {
      "cell_type": "code",
      "execution_count": 104,
      "metadata": {
        "colab": {
          "base_uri": "https://localhost:8080/",
          "height": 449
        },
        "id": "4N58Lo0uivA1",
        "outputId": "b0b2b209-2c7b-403c-d513-a8a562202dcb"
      },
      "outputs": [
        {
          "output_type": "display_data",
          "data": {
            "text/plain": [
              "<Figure size 640x480 with 1 Axes>"
            ],
            "image/png": "[encoded data removed]"
          },
          "metadata": {}
        }
      ],
      "source": [
        "import matplotlib.pyplot as plt\n",
        "\n",
        "plt.plot(range(epochs), train_epoch_loss, label='train')\n",
        "plt.plot(range(epochs), eval_epoch_loss, label='eval')\n",
        "plt.xlabel('Epoch')\n",
        "plt.ylabel('Loss')\n",
        "plt.legend()\n",
        "plt.show()"
      ]
    },
    {
      "cell_type": "code",
      "execution_count": 105,
      "metadata": {
        "colab": {
          "base_uri": "https://localhost:8080/"
        },
        "id": "i9UDw7dgkIyD",
        "outputId": "a30858b9-430d-48d4-966a-e98fc3e85508"
      },
      "outputs": [
        {
          "output_type": "stream",
          "name": "stdout",
          "text": [
            "Accuracy on Eval Data 94.43\n"
          ]
        }
      ],
      "source": [
        "correct = 0\n",
        "total = 0\n",
        "for x, y in eval_dataloader:\n",
        "    x = x.to(device)\n",
        "    with torch.no_grad():\n",
        "        yp = network(x)\n",
        "    yp = torch.argmax(yp.cpu(), dim = 1)\n",
        "    correct += (yp == y).sum()\n",
        "    total += len(y)\n",
        "prev_eval_acc = correct / total\n",
        "print(f\"Accuracy on Eval Data {(prev_eval_acc * 100):.2f}\")"
      ]
    },
    {
      "cell_type": "code",
      "execution_count": 106,
      "metadata": {
        "id": "BWo9qnCWjcHb"
      },
      "outputs": [],
      "source": [
        "prev_model = network"
      ]
    },
    {
      "cell_type": "markdown",
      "metadata": {
        "id": "NKp3Kcxhn86w"
      },
      "source": [
        "## now hyperparameter optimization"
      ]
    },
    {
      "cell_type": "code",
      "execution_count": 107,
      "metadata": {
        "colab": {
          "base_uri": "https://localhost:8080/"
        },
        "id": "_kxYyFtPnkqt",
        "outputId": "422c34b9-fbac-4255-e230-37a8481b1d60"
      },
      "outputs": [
        {
          "output_type": "stream",
          "name": "stdout",
          "text": [
            "Requirement already satisfied: torchmetrics in /usr/local/lib/python3.10/dist-packages (1.3.1)\n",
            "Requirement already satisfied: numpy>1.20.0 in /usr/local/lib/python3.10/dist-packages (from torchmetrics) (1.25.2)\n",
            "Requirement already satisfied: packaging>17.1 in /usr/local/lib/python3.10/dist-packages (from torchmetrics) (23.2)\n",
            "Requirement already satisfied: torch>=1.10.0 in /usr/local/lib/python3.10/dist-packages (from torchmetrics) (2.1.0+cu121)\n",
            "Requirement already satisfied: lightning-utilities>=0.8.0 in /usr/local/lib/python3.10/dist-packages (from torchmetrics) (0.10.1)\n",
            "Requirement already satisfied: setuptools in /usr/local/lib/python3.10/dist-packages (from lightning-utilities>=0.8.0->torchmetrics) (67.7.2)\n",
            "Requirement already satisfied: typing-extensions in /usr/local/lib/python3.10/dist-packages (from lightning-utilities>=0.8.0->torchmetrics) (4.10.0)\n",
            "Requirement already satisfied: filelock in /usr/local/lib/python3.10/dist-packages (from torch>=1.10.0->torchmetrics) (3.13.1)\n",
            "Requirement already satisfied: sympy in /usr/local/lib/python3.10/dist-packages (from torch>=1.10.0->torchmetrics) (1.12)\n",
            "Requirement already satisfied: networkx in /usr/local/lib/python3.10/dist-packages (from torch>=1.10.0->torchmetrics) (3.2.1)\n",
            "Requirement already satisfied: jinja2 in /usr/local/lib/python3.10/dist-packages (from torch>=1.10.0->torchmetrics) (3.1.3)\n",
            "Requirement already satisfied: fsspec in /usr/local/lib/python3.10/dist-packages (from torch>=1.10.0->torchmetrics) (2023.6.0)\n",
            "Requirement already satisfied: triton==2.1.0 in /usr/local/lib/python3.10/dist-packages (from torch>=1.10.0->torchmetrics) (2.1.0)\n",
            "Requirement already satisfied: MarkupSafe>=2.0 in /usr/local/lib/python3.10/dist-packages (from jinja2->torch>=1.10.0->torchmetrics) (2.1.5)\n",
            "Requirement already satisfied: mpmath>=0.19 in /usr/local/lib/python3.10/dist-packages (from sympy->torch>=1.10.0->torchmetrics) (1.3.0)\n"
          ]
        }
      ],
      "source": [
        "!pip install torchmetrics\n",
        "from torchmetrics import Accuracy"
      ]
    },
    {
      "cell_type": "code",
      "execution_count": 108,
      "metadata": {
        "id": "Jktq4harhwMp"
      },
      "outputs": [],
      "source": [
        "import torch.nn.init as init  # Import the init module from PyTorch\n",
        "\n",
        "class DeepNeuralNetwork2(nn.Module):\n",
        "    def __init__(self, input_dim, output_dim, n_layers, n_units, dropout_prob, activation, optimizer_name,weight_init_method, learning_rate):\n",
        "        super(DeepNeuralNetwork2, self).__init__()\n",
        "\n",
        "        layers = []\n",
        "        in_features = input_dim\n",
        "        for i in range(n_layers):\n",
        "            layers.append(nn.Linear(in_features, n_units))\n",
        "            layers.append(activation)\n",
        "            layers.append(nn.Dropout(dropout_prob))\n",
        "            in_features = n_units\n",
        "        layers.append(nn.Linear(in_features, output_dim))\n",
        "\n",
        "        self.layers = nn.Sequential(*layers)\n",
        "        # Initialize optimizer and learning rate scheduler\n",
        "        self.optimizer_name = optimizer_name\n",
        "        self.optimizer = self._get_optimizer(optimizer_name, learning_rate)\n",
        "        self.apply_weight_init(weight_init_method)\n",
        "        # self.scheduler = self._get_lr_scheduler(lr_schedule_name)\n",
        "\n",
        "    def _get_optimizer(self, optimizer_name, learning_rate):\n",
        "        if optimizer_name == 'Adam':\n",
        "            return torch.optim.Adam(self.parameters(), lr=learning_rate)\n",
        "        elif optimizer_name == 'SGD':\n",
        "            return torch.optim.SGD(self.parameters(), lr=learning_rate, momentum=0.9)\n",
        "        elif optimizer_name == 'RMSprop':\n",
        "            return torch.optim.RMSprop(self.parameters(), lr=learning_rate)\n",
        "        else:\n",
        "            raise ValueError(f'Invalid optimizer name: {optimizer_name}')\n",
        "\n",
        "    def apply_weight_init(self, weight_init_method):\n",
        "        if weight_init_method == 'uniform':\n",
        "            init_func = init.uniform_\n",
        "        elif weight_init_method == 'normal':\n",
        "            init_func = init.normal_\n",
        "        elif weight_init_method == 'xavier':\n",
        "            init_func = init.xavier_uniform_\n",
        "        else:\n",
        "            raise ValueError(f'Invalid weight initialization method: {weight_init_method}')\n",
        "        # Apply weight initialization to each linear layer\n",
        "        for module in self.modules():\n",
        "            if isinstance(module, nn.Linear):\n",
        "                init_func(module.weight)\n",
        "                if module.bias is not None:\n",
        "                    init.constant_(module.bias, 0)\n",
        "\n",
        "    def forward(self, x):\n",
        "        return self.layers(x)\n"
      ]
    },
    {
      "cell_type": "code",
      "execution_count": 109,
      "metadata": {
        "id": "TvTUktp6mDGT"
      },
      "outputs": [],
      "source": [
        "def train_model(model, criterion, optimizer, dataloader, device):\n",
        "    model.train()\n",
        "    total_loss = 0.0\n",
        "    correct_predictions = 0\n",
        "    total_samples = 0\n",
        "\n",
        "    for inputs, targets in dataloader:\n",
        "        inputs, targets = inputs.to(device), targets.to(device)\n",
        "\n",
        "        optimizer.zero_grad()\n",
        "        outputs = model(inputs)\n",
        "        loss = criterion(outputs, targets)\n",
        "\n",
        "        # Calculate accuracy\n",
        "        y_pred = torch.argmax(outputs, dim = 1)\n",
        "        correct_predictions += (y_pred == targets).sum().item()\n",
        "        total_samples += len(targets)\n",
        "\n",
        "        loss.backward()\n",
        "        optimizer.step()\n",
        "\n",
        "        total_loss += loss.item()\n",
        "\n",
        "    accuracy = correct_predictions / total_samples\n",
        "    total_loss /= total_samples\n",
        "    return total_loss, accuracy"
      ]
    },
    {
      "cell_type": "code",
      "execution_count": 110,
      "metadata": {
        "id": "MYqgsJqBWfmT"
      },
      "outputs": [],
      "source": [
        "def evaluate_model(network, criterion, eval_dataloader, device):\n",
        "    network.eval()\n",
        "\n",
        "    total_loss = 0\n",
        "    correct_predictions = 0\n",
        "    total_samples = 0\n",
        "\n",
        "    with torch.no_grad():\n",
        "        for eval_x, eval_y in eval_dataloader:\n",
        "            eval_x = eval_x.to(device)\n",
        "            eval_y = eval_y.to(device)\n",
        "\n",
        "            y_pred = network(eval_x)\n",
        "            loss = criterion(y_pred, eval_y)\n",
        "\n",
        "            total_loss += loss.item()\n",
        "\n",
        "            # Calculate accuracy\n",
        "            y_pred = torch.argmax(y_pred, dim = 1)\n",
        "            correct_predictions += (y_pred == eval_y).sum().item()\n",
        "            total_samples += len(eval_y)\n",
        "\n",
        "    total_loss /= total_samples\n",
        "    accuracy = correct_predictions / total_samples\n",
        "\n",
        "    return total_loss, accuracy"
      ]
    },
    {
      "cell_type": "code",
      "execution_count": 111,
      "metadata": {
        "id": "2tbC4F1me8WC"
      },
      "outputs": [],
      "source": [
        "import optuna\n",
        "from torch.optim.lr_scheduler import StepLR, ExponentialLR\n",
        "from torch.nn.init import xavier_uniform_, kaiming_normal_\n",
        "from torch.optim import Adam, SGD\n",
        "from torch.optim.lr_scheduler import StepLR, ExponentialLR\n",
        "from torch.nn import LeakyReLU, PReLU\n",
        "from torch.utils.data import DataLoader\n",
        "from torch.nn import L1Loss, MSELoss\n",
        "\n",
        "def objective(trial):\n",
        "    # Define hyperparameters to be optimized\n",
        "    learning_rate = trial.suggest_float(\"learning_rate\", 1e-5, 1e-1, log=True)\n",
        "    batch_size = trial.suggest_categorical(\"batch_size\", [32, 64, 128])\n",
        "    n_layers = trial.suggest_int(\"n_layers\", 2, 10)\n",
        "    n_units = trial.suggest_int(\"n_units\", 16, 512)\n",
        "    dropout_prob = trial.suggest_float(\"dropout_prob\", 0.0, 0.5)\n",
        "    activation = trial.suggest_categorical(\"activation\", [\"ReLU\", \"LeakyReLU\", \"PReLU\"])\n",
        "    weight_init_method = trial.suggest_categorical(\"weight_init_method\", [\"uniform\", \"normal\", \"xavier\"])\n",
        "    optimizer_choice = trial.suggest_categorical(\"optimizer\", [\"Adam\", \"SGD\", \"RMSprop\"])\n",
        "    # lr_schedule = trial.suggest_categorical(\"lr_schedule\", [\"step_lr\", \"exp_lr\"])\n",
        "    use_early_stopping = trial.suggest_categorical(\"use_early_stopping\", [True, False])\n",
        "    patience = trial.suggest_int(\"patience\", 5, 20)\n",
        "    # gradient_accumulation_steps = trial.suggest_int(\"gradient_accumulation_steps\", 1, 5)\n",
        "    # regularization_strength = trial.suggest_float(\"regularization_strength\", 0.0, 0.1)\n",
        "    epochs = trial.suggest_int(\"epochs\", 10, 40)\n",
        "\n",
        "    # Wrap activation functions inside nn.Module subclass\n",
        "    if activation == \"ReLU\":\n",
        "        activation =nn.ReLU()\n",
        "    elif activation == \"LeakyReLU\":\n",
        "        activation =nn.LeakyReLU()\n",
        "    elif activation == \"PReLU\":\n",
        "        activation =nn.PReLU()\n",
        "    else:\n",
        "        raise ValueError(f'Invalid activation method: {activation}')\n",
        "\n",
        "    # Create an instance of your Network\n",
        "    network = DeepNeuralNetwork2(input_dim=input_dim_x, output_dim=2, n_layers=n_layers,\n",
        "                            n_units=n_units, dropout_prob=dropout_prob, activation=activation,\n",
        "                            optimizer_name=optimizer_choice,weight_init_method=weight_init_method, learning_rate = learning_rate)\n",
        "\n",
        "    optimizer = network.optimizer\n",
        "\n",
        "    # Move the model to the appropriate device\n",
        "    network.to(device)\n",
        "    best_eval_loss = float('inf')\n",
        "    no_improvement = 0\n",
        "\n",
        "    # Define DataLoader instances\n",
        "    train_dataloader = DataLoader(train_dataset, batch_size=batch_size, shuffle=True)\n",
        "    eval_dataloader = DataLoader(eval_dataset, batch_size=batch_size, shuffle=False)\n",
        "\n",
        "    # Training loop\n",
        "    for epoch in tqdm(range(epochs), desc=\"Epochs\"):\n",
        "        train_loss , train_acc = train_model(network, criterion, optimizer, train_dataloader, device)\n",
        "        eval_loss, eval_acc = evaluate_model(network, criterion, eval_dataloader, device)\n",
        "\n",
        "        # Report the validation loss to Optuna for optimization\n",
        "        trial.report(eval_loss, epoch)\n",
        "\n",
        "        # Handle pruning based on the intermediate value\n",
        "        if trial.should_prune():\n",
        "            raise optuna.exceptions.TrialPruned()\n",
        "\n",
        "        # Early stopping\n",
        "        if use_early_stopping:\n",
        "            if eval_loss < best_eval_loss:\n",
        "                best_val_loss = eval_loss\n",
        "                no_improvement = 0\n",
        "            else:\n",
        "                no_improvement += 1\n",
        "                if no_improvement >= patience:\n",
        "                    break\n",
        "\n",
        "    print(f\"Training acc = {train_acc} , Val acc = {eval_acc}\")\n",
        "    return eval_acc  # eval_loss\n"
      ]
    },
    {
      "cell_type": "code",
      "execution_count": 112,
      "metadata": {
        "id": "hzSwD7ejzAku",
        "colab": {
          "base_uri": "https://localhost:8080/"
        },
        "outputId": "797bfef8-9e07-46bf-bc5f-a50285289f11"
      },
      "outputs": [
        {
          "metadata": {
            "tags": null
          },
          "name": "stderr",
          "output_type": "stream",
          "text": [
            "[I 2024-03-13 17:08:03,155] A new study created in memory with name: no-name-7e6c532f-d2ba-4bae-82ef-af8399f9e0f7\n",
            "Epochs: 100%|██████████| 36/36 [00:50<00:00,  1.41s/it]\n",
            "[I 2024-03-13 17:08:54,105] Trial 0 finished with value: 0.9349056603773584 and parameters: {'learning_rate': 0.0003316160373203109, 'batch_size': 64, 'n_layers': 9, 'n_units': 112, 'dropout_prob': 0.4167484970960047, 'activation': 'ReLU', 'weight_init_method': 'xavier', 'optimizer': 'Adam', 'use_early_stopping': True, 'patience': 9, 'epochs': 36}. Best is trial 0 with value: 0.9349056603773584.\n"
          ]
        },
        {
          "metadata": {
            "tags": null
          },
          "name": "stdout",
          "output_type": "stream",
          "text": [
            "Training acc = 0.9606132075471698 , Val acc = 0.9349056603773584\n"
          ]
        },
        {
          "metadata": {
            "tags": null
          },
          "name": "stderr",
          "output_type": "stream",
          "text": [
            "Epochs: 100%|██████████| 39/39 [02:20<00:00,  3.60s/it]\n",
            "[I 2024-03-13 17:11:14,618] Trial 1 finished with value: 0.5 and parameters: {'learning_rate': 0.05253085825626325, 'batch_size': 128, 'n_layers': 5, 'n_units': 370, 'dropout_prob': 0.14957854779736995, 'activation': 'LeakyReLU', 'weight_init_method': 'uniform', 'optimizer': 'RMSprop', 'use_early_stopping': True, 'patience': 10, 'epochs': 39}. Best is trial 0 with value: 0.9349056603773584.\n"
          ]
        },
        {
          "metadata": {
            "tags": null
          },
          "name": "stdout",
          "output_type": "stream",
          "text": [
            "Training acc = 0.5093160377358491 , Val acc = 0.5\n"
          ]
        },
        {
          "metadata": {
            "tags": null
          },
          "name": "stderr",
          "output_type": "stream",
          "text": [
            "Epochs: 100%|██████████| 35/35 [00:14<00:00,  2.50it/s]\n",
            "[I 2024-03-13 17:11:28,665] Trial 2 finished with value: 0.6018867924528302 and parameters: {'learning_rate': 0.0018940818535772958, 'batch_size': 128, 'n_layers': 10, 'n_units': 41, 'dropout_prob': 0.2746571696315907, 'activation': 'LeakyReLU', 'weight_init_method': 'normal', 'optimizer': 'Adam', 'use_early_stopping': True, 'patience': 16, 'epochs': 35}. Best is trial 0 with value: 0.9349056603773584.\n"
          ]
        },
        {
          "metadata": {
            "tags": null
          },
          "name": "stdout",
          "output_type": "stream",
          "text": [
            "Training acc = 0.485377358490566 , Val acc = 0.6018867924528302\n"
          ]
        },
        {
          "metadata": {
            "tags": null
          },
          "name": "stderr",
          "output_type": "stream",
          "text": [
            "Epochs: 100%|██████████| 25/25 [00:40<00:00,  1.62s/it]\n",
            "[I 2024-03-13 17:12:09,221] Trial 3 finished with value: 0.95 and parameters: {'learning_rate': 0.00010752574333862809, 'batch_size': 32, 'n_layers': 4, 'n_units': 242, 'dropout_prob': 0.4348817834967466, 'activation': 'ReLU', 'weight_init_method': 'xavier', 'optimizer': 'Adam', 'use_early_stopping': True, 'patience': 16, 'epochs': 25}. Best is trial 3 with value: 0.95.\n"
          ]
        },
        {
          "metadata": {
            "tags": null
          },
          "name": "stdout",
          "output_type": "stream",
          "text": [
            "Training acc = 0.9701650943396226 , Val acc = 0.95\n"
          ]
        },
        {
          "metadata": {
            "tags": null
          },
          "name": "stderr",
          "output_type": "stream",
          "text": [
            "Epochs: 100%|██████████| 30/30 [00:29<00:00,  1.02it/s]\n",
            "[I 2024-03-13 17:12:38,715] Trial 4 finished with value: 0.9235849056603773 and parameters: {'learning_rate': 0.08053467758107107, 'batch_size': 128, 'n_layers': 5, 'n_units': 316, 'dropout_prob': 0.23168141347493726, 'activation': 'LeakyReLU', 'weight_init_method': 'xavier', 'optimizer': 'SGD', 'use_early_stopping': False, 'patience': 14, 'epochs': 30}. Best is trial 3 with value: 0.95.\n"
          ]
        },
        {
          "metadata": {
            "tags": null
          },
          "name": "stdout",
          "output_type": "stream",
          "text": [
            "Training acc = 0.9351415094339622 , Val acc = 0.9235849056603773\n"
          ]
        },
        {
          "metadata": {
            "tags": null
          },
          "name": "stderr",
          "output_type": "stream",
          "text": [
            "Epochs: 100%|██████████| 35/35 [00:20<00:00,  1.70it/s]\n",
            "[I 2024-03-13 17:12:59,366] Trial 5 finished with value: 0.5 and parameters: {'learning_rate': 0.0002589483708423535, 'batch_size': 64, 'n_layers': 5, 'n_units': 108, 'dropout_prob': 0.18147503890657635, 'activation': 'LeakyReLU', 'weight_init_method': 'uniform', 'optimizer': 'Adam', 'use_early_stopping': False, 'patience': 19, 'epochs': 35}. Best is trial 3 with value: 0.95.\n"
          ]
        },
        {
          "metadata": {
            "tags": null
          },
          "name": "stdout",
          "output_type": "stream",
          "text": [
            "Training acc = 0.5262971698113208 , Val acc = 0.5\n"
          ]
        },
        {
          "metadata": {
            "tags": null
          },
          "name": "stderr",
          "output_type": "stream",
          "text": [
            "Epochs: 100%|██████████| 30/30 [00:28<00:00,  1.06it/s]\n",
            "[I 2024-03-13 17:13:27,586] Trial 6 finished with value: 0.5 and parameters: {'learning_rate': 0.022745461562932702, 'batch_size': 64, 'n_layers': 6, 'n_units': 152, 'dropout_prob': 0.38019704420997963, 'activation': 'LeakyReLU', 'weight_init_method': 'normal', 'optimizer': 'RMSprop', 'use_early_stopping': False, 'patience': 18, 'epochs': 30}. Best is trial 3 with value: 0.95.\n"
          ]
        },
        {
          "metadata": {
            "tags": null
          },
          "name": "stdout",
          "output_type": "stream",
          "text": [
            "Training acc = 0.5017688679245284 , Val acc = 0.5\n"
          ]
        },
        {
          "metadata": {
            "tags": null
          },
          "name": "stderr",
          "output_type": "stream",
          "text": [
            "Epochs:   0%|          | 0/40 [00:02<?, ?it/s]\n",
            "[I 2024-03-13 17:13:29,664] Trial 7 pruned. \n",
            "Epochs: 100%|██████████| 38/38 [00:52<00:00,  1.38s/it]\n",
            "[I 2024-03-13 17:14:22,159] Trial 8 finished with value: 0.5 and parameters: {'learning_rate': 0.0010605016425932739, 'batch_size': 64, 'n_layers': 10, 'n_units': 175, 'dropout_prob': 0.4154318721793269, 'activation': 'LeakyReLU', 'weight_init_method': 'uniform', 'optimizer': 'Adam', 'use_early_stopping': False, 'patience': 16, 'epochs': 38}. Best is trial 3 with value: 0.95.\n"
          ]
        },
        {
          "metadata": {
            "tags": null
          },
          "name": "stdout",
          "output_type": "stream",
          "text": [
            "Training acc = 0.5142688679245283 , Val acc = 0.5\n"
          ]
        },
        {
          "metadata": {
            "tags": null
          },
          "name": "stderr",
          "output_type": "stream",
          "text": [
            "Epochs:   0%|          | 0/35 [00:00<?, ?it/s]\n",
            "[I 2024-03-13 17:14:22,537] Trial 9 pruned. \n",
            "Epochs:   0%|          | 0/16 [00:02<?, ?it/s]\n",
            "[I 2024-03-13 17:14:24,634] Trial 10 pruned. \n",
            "Epochs:   0%|          | 0/20 [00:00<?, ?it/s]\n",
            "[I 2024-03-13 17:14:25,682] Trial 11 pruned. \n",
            "Epochs:   0%|          | 0/24 [00:02<?, ?it/s]\n",
            "[I 2024-03-13 17:14:28,622] Trial 12 pruned. \n",
            "Epochs:   0%|          | 0/10 [00:02<?, ?it/s]\n",
            "[I 2024-03-13 17:14:30,968] Trial 13 pruned. \n",
            "Epochs:   0%|          | 0/27 [00:01<?, ?it/s]\n",
            "[I 2024-03-13 17:14:32,232] Trial 14 pruned. \n",
            "Epochs:   0%|          | 0/22 [00:00<?, ?it/s]\n",
            "[I 2024-03-13 17:14:32,750] Trial 15 pruned. \n",
            "Epochs:   0%|          | 0/18 [00:01<?, ?it/s]\n",
            "[I 2024-03-13 17:14:34,672] Trial 16 pruned. \n",
            "Epochs:   0%|          | 0/28 [00:00<?, ?it/s]\n",
            "[I 2024-03-13 17:14:35,608] Trial 17 pruned. \n",
            "Epochs: 100%|██████████| 14/14 [00:14<00:00,  1.02s/it]\n",
            "[I 2024-03-13 17:14:49,903] Trial 18 finished with value: 0.8773584905660378 and parameters: {'learning_rate': 6.056719141715909e-05, 'batch_size': 64, 'n_layers': 6, 'n_units': 201, 'dropout_prob': 0.0766233174925699, 'activation': 'PReLU', 'weight_init_method': 'normal', 'optimizer': 'RMSprop', 'use_early_stopping': True, 'patience': 20, 'epochs': 14}. Best is trial 3 with value: 0.95.\n"
          ]
        },
        {
          "metadata": {
            "tags": null
          },
          "name": "stdout",
          "output_type": "stream",
          "text": [
            "Training acc = 0.7920990566037736 , Val acc = 0.8773584905660378\n"
          ]
        },
        {
          "metadata": {
            "tags": null
          },
          "name": "stderr",
          "output_type": "stream",
          "text": [
            "Epochs:   0%|          | 0/25 [00:03<?, ?it/s]\n",
            "[I 2024-03-13 17:14:52,989] Trial 19 pruned. \n",
            "Epochs:   0%|          | 0/32 [00:00<?, ?it/s]\n",
            "[I 2024-03-13 17:14:53,569] Trial 20 pruned. \n",
            "Epochs:   0%|          | 0/31 [00:01<?, ?it/s]\n",
            "[I 2024-03-13 17:14:54,708] Trial 21 pruned. \n",
            "Epochs:   0%|          | 0/33 [00:00<?, ?it/s]\n",
            "[I 2024-03-13 17:14:55,480] Trial 22 pruned. \n",
            "Epochs:   0%|          | 0/29 [00:01<?, ?it/s]\n",
            "[I 2024-03-13 17:14:57,380] Trial 23 pruned. \n",
            "Epochs:   0%|          | 0/26 [00:00<?, ?it/s]\n",
            "[I 2024-03-13 17:14:58,244] Trial 24 pruned. \n",
            "Epochs:   0%|          | 0/23 [00:02<?, ?it/s]\n",
            "[I 2024-03-13 17:15:01,261] Trial 25 pruned. \n",
            "Epochs:   0%|          | 0/37 [00:01<?, ?it/s]\n",
            "[I 2024-03-13 17:15:02,764] Trial 26 pruned. \n",
            "Epochs:   0%|          | 0/33 [00:01<?, ?it/s]\n",
            "[I 2024-03-13 17:15:03,873] Trial 27 pruned. \n",
            "Epochs: 100%|██████████| 21/21 [00:20<00:00,  1.04it/s]\n",
            "[I 2024-03-13 17:15:24,256] Trial 28 finished with value: 0.5 and parameters: {'learning_rate': 0.013481263683395145, 'batch_size': 128, 'n_layers': 8, 'n_units': 205, 'dropout_prob': 0.3879307234665354, 'activation': 'PReLU', 'weight_init_method': 'uniform', 'optimizer': 'RMSprop', 'use_early_stopping': False, 'patience': 10, 'epochs': 21}. Best is trial 3 with value: 0.95.\n"
          ]
        },
        {
          "metadata": {
            "tags": null
          },
          "name": "stdout",
          "output_type": "stream",
          "text": [
            "Training acc = 0.5001179245283018 , Val acc = 0.5\n"
          ]
        },
        {
          "metadata": {
            "tags": null
          },
          "name": "stderr",
          "output_type": "stream",
          "text": [
            "Epochs:   0%|          | 0/37 [00:00<?, ?it/s]/usr/local/lib/python3.10/dist-packages/optuna/pruners/_percentile.py:19: RuntimeWarning: All-NaN slice encountered\n",
            "  return np.nanmax(values)\n",
            "Epochs:   0%|          | 0/37 [00:01<?, ?it/s]\n",
            "[I 2024-03-13 17:15:25,844] Trial 29 pruned. \n",
            "Epochs: 100%|██████████| 28/28 [00:28<00:00,  1.03s/it]\n",
            "[I 2024-03-13 17:15:54,881] Trial 30 finished with value: 0.5018867924528302 and parameters: {'learning_rate': 2.5739850529931748e-05, 'batch_size': 128, 'n_layers': 5, 'n_units': 309, 'dropout_prob': 0.21435704579287543, 'activation': 'LeakyReLU', 'weight_init_method': 'uniform', 'optimizer': 'RMSprop', 'use_early_stopping': True, 'patience': 12, 'epochs': 28}. Best is trial 3 with value: 0.95.\n"
          ]
        },
        {
          "metadata": {
            "tags": null
          },
          "name": "stdout",
          "output_type": "stream",
          "text": [
            "Training acc = 0.5255896226415094 , Val acc = 0.5018867924528302\n"
          ]
        },
        {
          "metadata": {
            "tags": null
          },
          "name": "stderr",
          "output_type": "stream",
          "text": [
            "Epochs: 100%|██████████| 13/13 [00:12<00:00,  1.02it/s]\n",
            "[I 2024-03-13 17:16:07,736] Trial 31 finished with value: 0.870754716981132 and parameters: {'learning_rate': 5.9664162736037025e-05, 'batch_size': 64, 'n_layers': 6, 'n_units': 198, 'dropout_prob': 0.08925986017362664, 'activation': 'PReLU', 'weight_init_method': 'normal', 'optimizer': 'RMSprop', 'use_early_stopping': True, 'patience': 20, 'epochs': 13}. Best is trial 3 with value: 0.95.\n"
          ]
        },
        {
          "metadata": {
            "tags": null
          },
          "name": "stdout",
          "output_type": "stream",
          "text": [
            "Training acc = 0.7683962264150943 , Val acc = 0.870754716981132\n"
          ]
        },
        {
          "metadata": {
            "tags": null
          },
          "name": "stderr",
          "output_type": "stream",
          "text": [
            "Epochs: 100%|██████████| 15/15 [00:09<00:00,  1.54it/s]\n",
            "[I 2024-03-13 17:16:17,531] Trial 32 finished with value: 0.8452830188679246 and parameters: {'learning_rate': 3.271077470492146e-05, 'batch_size': 64, 'n_layers': 5, 'n_units': 141, 'dropout_prob': 0.025220872875521855, 'activation': 'PReLU', 'weight_init_method': 'normal', 'optimizer': 'RMSprop', 'use_early_stopping': True, 'patience': 20, 'epochs': 15}. Best is trial 3 with value: 0.95.\n"
          ]
        },
        {
          "metadata": {
            "tags": null
          },
          "name": "stdout",
          "output_type": "stream",
          "text": [
            "Training acc = 0.7871462264150944 , Val acc = 0.8452830188679246\n"
          ]
        },
        {
          "metadata": {
            "tags": null
          },
          "name": "stderr",
          "output_type": "stream",
          "text": [
            "Epochs: 100%|██████████| 35/35 [00:48<00:00,  1.39s/it]\n",
            "[I 2024-03-13 17:17:06,363] Trial 33 finished with value: 0.8886792452830189 and parameters: {'learning_rate': 0.00010331293295071988, 'batch_size': 64, 'n_layers': 7, 'n_units': 246, 'dropout_prob': 0.11447531931789157, 'activation': 'PReLU', 'weight_init_method': 'normal', 'optimizer': 'RMSprop', 'use_early_stopping': True, 'patience': 18, 'epochs': 35}. Best is trial 3 with value: 0.95.\n"
          ]
        },
        {
          "metadata": {
            "tags": null
          },
          "name": "stdout",
          "output_type": "stream",
          "text": [
            "Training acc = 0.8200471698113208 , Val acc = 0.8886792452830189\n"
          ]
        },
        {
          "metadata": {
            "tags": null
          },
          "name": "stderr",
          "output_type": "stream",
          "text": [
            "Epochs: 100%|██████████| 35/35 [01:02<00:00,  1.79s/it]\n",
            "[I 2024-03-13 17:18:09,263] Trial 34 finished with value: 0.9037735849056604 and parameters: {'learning_rate': 0.00030544468147426584, 'batch_size': 64, 'n_layers': 9, 'n_units': 250, 'dropout_prob': 0.11074102895095929, 'activation': 'PReLU', 'weight_init_method': 'normal', 'optimizer': 'RMSprop', 'use_early_stopping': True, 'patience': 17, 'epochs': 35}. Best is trial 3 with value: 0.95.\n"
          ]
        },
        {
          "metadata": {
            "tags": null
          },
          "name": "stdout",
          "output_type": "stream",
          "text": [
            "Training acc = 0.8418632075471698 , Val acc = 0.9037735849056604\n"
          ]
        },
        {
          "metadata": {
            "tags": null
          },
          "name": "stderr",
          "output_type": "stream",
          "text": [
            "Epochs: 100%|██████████| 30/30 [01:16<00:00,  2.54s/it]\n",
            "[I 2024-03-13 17:19:25,642] Trial 35 finished with value: 0.8839622641509434 and parameters: {'learning_rate': 0.0002843504773202513, 'batch_size': 64, 'n_layers': 10, 'n_units': 336, 'dropout_prob': 0.16917438984625793, 'activation': 'LeakyReLU', 'weight_init_method': 'normal', 'optimizer': 'RMSprop', 'use_early_stopping': True, 'patience': 17, 'epochs': 30}. Best is trial 3 with value: 0.95.\n"
          ]
        },
        {
          "metadata": {
            "tags": null
          },
          "name": "stdout",
          "output_type": "stream",
          "text": [
            "Training acc = 0.7720518867924528 , Val acc = 0.8839622641509434\n"
          ]
        },
        {
          "metadata": {
            "tags": null
          },
          "name": "stderr",
          "output_type": "stream",
          "text": [
            "Epochs: 100%|██████████| 40/40 [01:57<00:00,  2.93s/it]\n",
            "[I 2024-03-13 17:21:22,871] Trial 36 finished with value: 0.6452830188679245 and parameters: {'learning_rate': 0.0023189575764193, 'batch_size': 64, 'n_layers': 9, 'n_units': 285, 'dropout_prob': 0.45252401035068834, 'activation': 'PReLU', 'weight_init_method': 'normal', 'optimizer': 'Adam', 'use_early_stopping': False, 'patience': 15, 'epochs': 40}. Best is trial 3 with value: 0.95.\n"
          ]
        },
        {
          "metadata": {
            "tags": null
          },
          "name": "stdout",
          "output_type": "stream",
          "text": [
            "Training acc = 0.6020047169811321 , Val acc = 0.6452830188679245\n"
          ]
        },
        {
          "metadata": {
            "tags": null
          },
          "name": "stderr",
          "output_type": "stream",
          "text": [
            "Epochs: 100%|██████████| 34/34 [04:09<00:00,  7.33s/it]\n",
            "[I 2024-03-13 17:25:32,330] Trial 37 finished with value: 0.5 and parameters: {'learning_rate': 0.0007673913991825538, 'batch_size': 128, 'n_layers': 10, 'n_units': 394, 'dropout_prob': 0.2771731097648122, 'activation': 'LeakyReLU', 'weight_init_method': 'uniform', 'optimizer': 'RMSprop', 'use_early_stopping': True, 'patience': 17, 'epochs': 34}. Best is trial 3 with value: 0.95.\n"
          ]
        },
        {
          "metadata": {
            "tags": null
          },
          "name": "stdout",
          "output_type": "stream",
          "text": [
            "Training acc = 0.5049528301886792 , Val acc = 0.5\n"
          ]
        },
        {
          "metadata": {
            "tags": null
          },
          "name": "stderr",
          "output_type": "stream",
          "text": [
            "Epochs:   0%|          | 0/37 [00:00<?, ?it/s]\n",
            "[I 2024-03-13 17:25:33,079] Trial 38 pruned. \n",
            "Epochs: 100%|██████████| 31/31 [00:21<00:00,  1.46it/s]\n",
            "[I 2024-03-13 17:25:54,387] Trial 39 finished with value: 0.8679245283018868 and parameters: {'learning_rate': 0.001373816216506661, 'batch_size': 128, 'n_layers': 8, 'n_units': 146, 'dropout_prob': 0.13060377057440464, 'activation': 'LeakyReLU', 'weight_init_method': 'normal', 'optimizer': 'Adam', 'use_early_stopping': True, 'patience': 11, 'epochs': 31}. Best is trial 3 with value: 0.95.\n"
          ]
        },
        {
          "metadata": {
            "tags": null
          },
          "name": "stdout",
          "output_type": "stream",
          "text": [
            "Training acc = 0.7944575471698113 , Val acc = 0.8679245283018868\n"
          ]
        },
        {
          "metadata": {
            "tags": null
          },
          "name": "stderr",
          "output_type": "stream",
          "text": [
            "Epochs:   0%|          | 0/39 [00:01<?, ?it/s]\n",
            "[I 2024-03-13 17:25:55,481] Trial 40 pruned. \n",
            "Epochs: 100%|██████████| 35/35 [01:07<00:00,  1.93s/it]\n",
            "[I 2024-03-13 17:27:03,025] Trial 41 finished with value: 0.879245283018868 and parameters: {'learning_rate': 9.942265060580043e-05, 'batch_size': 64, 'n_layers': 9, 'n_units': 261, 'dropout_prob': 0.11258088692296246, 'activation': 'PReLU', 'weight_init_method': 'normal', 'optimizer': 'RMSprop', 'use_early_stopping': True, 'patience': 18, 'epochs': 35}. Best is trial 3 with value: 0.95.\n"
          ]
        },
        {
          "metadata": {
            "tags": null
          },
          "name": "stdout",
          "output_type": "stream",
          "text": [
            "Training acc = 0.8004716981132075 , Val acc = 0.879245283018868\n"
          ]
        },
        {
          "metadata": {
            "tags": null
          },
          "name": "stderr",
          "output_type": "stream",
          "text": [
            "Epochs: 100%|██████████| 36/36 [00:55<00:00,  1.54s/it]\n",
            "[I 2024-03-13 17:27:58,546] Trial 42 finished with value: 0.9141509433962264 and parameters: {'learning_rate': 0.0001801422847483838, 'batch_size': 64, 'n_layers': 7, 'n_units': 252, 'dropout_prob': 0.045408426945961866, 'activation': 'PReLU', 'weight_init_method': 'normal', 'optimizer': 'RMSprop', 'use_early_stopping': True, 'patience': 16, 'epochs': 36}. Best is trial 3 with value: 0.95.\n"
          ]
        },
        {
          "metadata": {
            "tags": null
          },
          "name": "stdout",
          "output_type": "stream",
          "text": [
            "Training acc = 0.8767688679245284 , Val acc = 0.9141509433962264\n"
          ]
        },
        {
          "metadata": {
            "tags": null
          },
          "name": "stderr",
          "output_type": "stream",
          "text": [
            "Epochs: 100%|██████████| 36/36 [01:02<00:00,  1.73s/it]\n",
            "[I 2024-03-13 17:29:00,968] Trial 43 finished with value: 0.8933962264150943 and parameters: {'learning_rate': 0.00022982135236968563, 'batch_size': 64, 'n_layers': 10, 'n_units': 222, 'dropout_prob': 0.038087924794896366, 'activation': 'PReLU', 'weight_init_method': 'normal', 'optimizer': 'RMSprop', 'use_early_stopping': True, 'patience': 16, 'epochs': 36}. Best is trial 3 with value: 0.95.\n"
          ]
        },
        {
          "metadata": {
            "tags": null
          },
          "name": "stdout",
          "output_type": "stream",
          "text": [
            "Training acc = 0.85625 , Val acc = 0.8933962264150943\n"
          ]
        },
        {
          "metadata": {
            "tags": null
          },
          "name": "stderr",
          "output_type": "stream",
          "text": [
            "Epochs:   0%|          | 0/39 [00:00<?, ?it/s]\n",
            "[I 2024-03-13 17:29:01,677] Trial 44 pruned. \n",
            "Epochs:   0%|          | 0/33 [00:01<?, ?it/s]\n",
            "[I 2024-03-13 17:29:03,044] Trial 45 pruned. \n",
            "Epochs: 100%|██████████| 38/38 [02:31<00:00,  4.00s/it]\n",
            "[I 2024-03-13 17:31:34,969] Trial 46 finished with value: 0.9009433962264151 and parameters: {'learning_rate': 0.0004670280932122322, 'batch_size': 32, 'n_layers': 9, 'n_units': 308, 'dropout_prob': 0.059284753028534753, 'activation': 'ReLU', 'weight_init_method': 'normal', 'optimizer': 'Adam', 'use_early_stopping': True, 'patience': 16, 'epochs': 38}. Best is trial 3 with value: 0.95.\n"
          ]
        },
        {
          "metadata": {
            "tags": null
          },
          "name": "stdout",
          "output_type": "stream",
          "text": [
            "Training acc = 0.8647405660377359 , Val acc = 0.9009433962264151\n"
          ]
        },
        {
          "metadata": {
            "tags": null
          },
          "name": "stderr",
          "output_type": "stream",
          "text": [
            "Epochs:   0%|          | 0/30 [00:00<?, ?it/s]\n",
            "[I 2024-03-13 17:31:35,901] Trial 47 pruned. \n",
            "Epochs: 100%|██████████| 27/27 [00:46<00:00,  1.71s/it]\n",
            "[I 2024-03-13 17:32:22,094] Trial 48 finished with value: 0.5009433962264151 and parameters: {'learning_rate': 3.6438323011721556e-05, 'batch_size': 32, 'n_layers': 7, 'n_units': 222, 'dropout_prob': 0.0005352278444269373, 'activation': 'PReLU', 'weight_init_method': 'uniform', 'optimizer': 'RMSprop', 'use_early_stopping': False, 'patience': 18, 'epochs': 27}. Best is trial 3 with value: 0.95.\n"
          ]
        },
        {
          "metadata": {
            "tags": null
          },
          "name": "stdout",
          "output_type": "stream",
          "text": [
            "Training acc = 0.4998820754716981 , Val acc = 0.5009433962264151\n"
          ]
        },
        {
          "output_type": "stream",
          "name": "stderr",
          "text": [
            "Epochs:   0%|          | 0/35 [00:01<?, ?it/s]\n",
            "[I 2024-03-13 17:32:23,444] Trial 49 pruned. \n",
            "Epochs:   0%|          | 0/19 [00:00<?, ?it/s]\n",
            "[I 2024-03-13 17:32:23,708] Trial 50 pruned. \n",
            "Epochs: 100%|██████████| 38/38 [02:32<00:00,  4.01s/it]\n",
            "[I 2024-03-13 17:34:56,137] Trial 51 finished with value: 0.9047169811320754 and parameters: {'learning_rate': 0.00031441976641019564, 'batch_size': 32, 'n_layers': 9, 'n_units': 318, 'dropout_prob': 0.06156975750538662, 'activation': 'ReLU', 'weight_init_method': 'normal', 'optimizer': 'Adam', 'use_early_stopping': True, 'patience': 16, 'epochs': 38}. Best is trial 3 with value: 0.95.\n"
          ]
        },
        {
          "output_type": "stream",
          "name": "stdout",
          "text": [
            "Training acc = 0.8580188679245283 , Val acc = 0.9047169811320754\n"
          ]
        },
        {
          "output_type": "stream",
          "name": "stderr",
          "text": [
            "Epochs: 100%|██████████| 40/40 [02:22<00:00,  3.57s/it]\n",
            "[I 2024-03-13 17:37:19,054] Trial 52 finished with value: 0.8990566037735849 and parameters: {'learning_rate': 0.0003610051308018356, 'batch_size': 32, 'n_layers': 9, 'n_units': 287, 'dropout_prob': 0.04300038661855769, 'activation': 'ReLU', 'weight_init_method': 'normal', 'optimizer': 'Adam', 'use_early_stopping': True, 'patience': 15, 'epochs': 40}. Best is trial 3 with value: 0.95.\n"
          ]
        },
        {
          "output_type": "stream",
          "name": "stdout",
          "text": [
            "Training acc = 0.8658018867924528 , Val acc = 0.8990566037735849\n"
          ]
        },
        {
          "output_type": "stream",
          "name": "stderr",
          "text": [
            "Epochs: 100%|██████████| 36/36 [02:13<00:00,  3.71s/it]\n",
            "[I 2024-03-13 17:39:32,831] Trial 53 finished with value: 0.8981132075471698 and parameters: {'learning_rate': 0.00013969691834440646, 'batch_size': 32, 'n_layers': 8, 'n_units': 330, 'dropout_prob': 0.07295126394939397, 'activation': 'ReLU', 'weight_init_method': 'normal', 'optimizer': 'Adam', 'use_early_stopping': True, 'patience': 16, 'epochs': 36}. Best is trial 3 with value: 0.95.\n"
          ]
        },
        {
          "output_type": "stream",
          "name": "stdout",
          "text": [
            "Training acc = 0.8466981132075472 , Val acc = 0.8981132075471698\n"
          ]
        },
        {
          "output_type": "stream",
          "name": "stderr",
          "text": [
            "Epochs: 100%|██████████| 25/25 [01:58<00:00,  4.74s/it]\n",
            "[I 2024-03-13 17:41:31,454] Trial 54 finished with value: 0.4867924528301887 and parameters: {'learning_rate': 0.00019048580885001488, 'batch_size': 32, 'n_layers': 9, 'n_units': 367, 'dropout_prob': 0.4614675398720801, 'activation': 'ReLU', 'weight_init_method': 'normal', 'optimizer': 'Adam', 'use_early_stopping': True, 'patience': 5, 'epochs': 25}. Best is trial 3 with value: 0.95.\n"
          ]
        },
        {
          "output_type": "stream",
          "name": "stdout",
          "text": [
            "Training acc = 0.4991745283018868 , Val acc = 0.4867924528301887\n"
          ]
        },
        {
          "output_type": "stream",
          "name": "stderr",
          "text": [
            "Epochs:   0%|          | 0/38 [00:03<?, ?it/s]\n",
            "[I 2024-03-13 17:41:34,945] Trial 55 pruned. \n",
            "Epochs: 100%|██████████| 34/34 [03:09<00:00,  5.57s/it]\n",
            "[I 2024-03-13 17:44:44,282] Trial 56 finished with value: 0.5349056603773585 and parameters: {'learning_rate': 8.565193193473874e-05, 'batch_size': 32, 'n_layers': 10, 'n_units': 392, 'dropout_prob': 0.42917536716274624, 'activation': 'ReLU', 'weight_init_method': 'normal', 'optimizer': 'Adam', 'use_early_stopping': False, 'patience': 17, 'epochs': 34}. Best is trial 3 with value: 0.95.\n"
          ]
        },
        {
          "output_type": "stream",
          "name": "stdout",
          "text": [
            "Training acc = 0.5054245283018868 , Val acc = 0.5349056603773585\n"
          ]
        },
        {
          "output_type": "stream",
          "name": "stderr",
          "text": [
            "Epochs:   0%|          | 0/32 [00:01<?, ?it/s]\n",
            "[I 2024-03-13 17:44:46,308] Trial 57 pruned. \n",
            "Epochs:   0%|          | 0/36 [00:00<?, ?it/s]\n",
            "[I 2024-03-13 17:44:47,298] Trial 58 pruned. \n",
            "Epochs:   0%|          | 0/38 [00:00<?, ?it/s]\n",
            "[I 2024-03-13 17:44:48,363] Trial 59 pruned. \n"
          ]
        },
        {
          "output_type": "stream",
          "name": "stdout",
          "text": [
            "Best trial:\n",
            "  Value:  0.95\n",
            "  Params: \n",
            "    learning_rate: 0.00010752574333862809\n",
            "    batch_size: 32\n",
            "    n_layers: 4\n",
            "    n_units: 242\n",
            "    dropout_prob: 0.4348817834967466\n",
            "    activation: ReLU\n",
            "    weight_init_method: xavier\n",
            "    optimizer: Adam\n",
            "    use_early_stopping: True\n",
            "    patience: 16\n",
            "    epochs: 25\n"
          ]
        }
      ],
      "source": [
        "# Create Optuna study and run optimization\n",
        "study = optuna.create_study(direction=\"maximize\")  # or \"minimize\" for a loss\n",
        "study.optimize(objective, n_trials=60, timeout=2500)\n",
        "\n",
        "print(\"Best trial:\")\n",
        "trial = study.best_trial\n",
        "print(\"  Value: \", trial.value)\n",
        "\n",
        "print(\"  Params: \")\n",
        "for key, value in trial.params.items():\n",
        "    print(\"    {}: {}\".format(key, value))"
      ]
    },
    {
      "cell_type": "code",
      "execution_count": 113,
      "metadata": {
        "id": "KYGQkwS2qZ5y"
      },
      "outputs": [],
      "source": [
        "train_epoch_loss = []\n",
        "eval_epoch_loss = []"
      ]
    },
    {
      "cell_type": "code",
      "execution_count": 114,
      "metadata": {
        "id": "HPl_pp2HmDI3",
        "colab": {
          "base_uri": "https://localhost:8080/"
        },
        "outputId": "02940c5a-450b-4c37-cb89-a8eb2c371aa4"
      },
      "outputs": [
        {
          "output_type": "stream",
          "name": "stderr",
          "text": [
            "Epochs: 100%|██████████| 25/25 [00:54<00:00,  2.17s/it]\n"
          ]
        }
      ],
      "source": [
        "# Retrieve the best parameters\n",
        "best_params = study.best_params\n",
        "\n",
        "# Wrap activation functions inside nn.Module subclass\n",
        "if best_params['activation'] == \"ReLU\":\n",
        "    activation =nn.ReLU()\n",
        "elif best_params['activation'] == \"LeakyReLU\":\n",
        "    activation =nn.LeakyReLU()\n",
        "elif best_params['activation'] == \"PReLU\":\n",
        "    activation =nn.PReLU()\n",
        "\n",
        "# Create an instance of your Network\n",
        "network2 = DeepNeuralNetwork2(input_dim=input_dim_x, output_dim=2, n_layers=best_params['n_layers'],\n",
        "                        n_units=best_params['n_units'], dropout_prob=best_params['dropout_prob'], activation=activation,\n",
        "                        optimizer_name=best_params['optimizer'],weight_init_method=best_params['weight_init_method'], learning_rate = best_params['learning_rate'])\n",
        "\n",
        "optimizer = network2.optimizer\n",
        "\n",
        "epochs = best_params['epochs']\n",
        "hyp_accuracy=study.best_value\n",
        "cond=True\n",
        "\n",
        "# if hyp_accuracy < prev_eval_acc:\n",
        "#     cond=False\n",
        "#     network2=DeepNeuralNetworkO(input_dim_x , 2)\n",
        "#     best_params['use_early_stopping'] = False\n",
        "#     epochs=15\n",
        "#     optimizer = torch.optim.Adam(network.parameters(), lr = 0.001)\n",
        "# # Learning rate scheduler\n",
        "# if lr_schedule == \"step_lr\":\n",
        "#     scheduler = StepLR(optimizer, step_size=5, gamma=0.1)\n",
        "# elif lr_schedule == \"exp_lr\":\n",
        "#     scheduler = ExponentialLR(optimizer, gamma=0.9)\n",
        "\n",
        "# Move the model to the appropriate device\n",
        "network2.to(device)\n",
        "best_eval_loss = float('inf')\n",
        "no_improvement = 0\n",
        "batch_size = best_params['batch_size']\n",
        "\n",
        "# Define DataLoader instances\n",
        "train_dataloader = DataLoader(train_dataset, batch_size=batch_size, shuffle=True)\n",
        "eval_dataloader = DataLoader(eval_dataset, batch_size=batch_size, shuffle=False)\n",
        "\n",
        "# Training loop\n",
        "now_eval_acc = 0\n",
        "for epoch in tqdm(range(epochs), desc=\"Epochs\"):\n",
        "    train_loss , train_acc = train_model(network2, criterion, optimizer, train_dataloader, device)\n",
        "    eval_loss, eval_acc = evaluate_model(network2, criterion, eval_dataloader, device)\n",
        "\n",
        "    train_epoch_loss.append(train_loss)\n",
        "    eval_epoch_loss.append(eval_loss)\n",
        "    now_eval_acc = eval_acc\n",
        "    # Early stopping\n",
        "    if best_params['use_early_stopping']:\n",
        "        if eval_loss < best_eval_loss:\n",
        "            best_val_loss = eval_loss\n",
        "            no_improvement = 0\n",
        "        else:\n",
        "            no_improvement += 1\n",
        "            if no_improvement >= best_params['patience']:\n",
        "                break\n"
      ]
    },
    {
      "cell_type": "code",
      "execution_count": null,
      "metadata": {
        "id": "2NHAGutAmDMS"
      },
      "outputs": [],
      "source": [
        "import matplotlib.pyplot as plt\n",
        "\n",
        "plt.plot(range(epochs), train_epoch_loss, label='train')\n",
        "plt.plot(range(epochs), eval_epoch_loss, label='eval')\n",
        "plt.xlabel('Epoch')\n",
        "plt.ylabel('Loss')\n",
        "plt.legend()\n",
        "plt.show()"
      ]
    },
    {
      "cell_type": "code",
      "execution_count": null,
      "metadata": {
        "id": "5Tf4IhCwmd8z"
      },
      "outputs": [],
      "source": [
        "test_loss, test_acc = evaluate_model(network2, criterion, eval_dataloader, device)\n",
        "print(f\"Accuracy on Eval Data {test_acc}\")"
      ]
    },
    {
      "cell_type": "code",
      "execution_count": 117,
      "metadata": {
        "id": "o_TQWCw7SAt4"
      },
      "outputs": [],
      "source": [
        "# save model\n",
        "filename = \"Dnn_model.pickle\"\n",
        "\n",
        "if prev_eval_acc > now_eval_acc:\n",
        "  print(\"1\")\n",
        "  # pickle.dump(prev_model, open(filename, \"wb\"))\n",
        "  torch.save(prev_model.state_dict(), 'Dnn_model.pth')\n",
        "else:\n",
        "  # pickle.dump(network2, open(filename, \"wb\"))\n",
        "  torch.save(network2.state_dict(), 'Dnn_model.pth')"
      ]
    },
    {
      "cell_type": "code",
      "source": [
        "test_loss, test_acc = evaluate_model(network2, criterion, eval_dataloader, device)\n",
        "print(f\"Accuracy on Eval Data {test_acc}\")"
      ],
      "metadata": {
        "colab": {
          "base_uri": "https://localhost:8080/"
        },
        "id": "DYnPBAtiMM0Y",
        "outputId": "61d30037-0f88-4a5f-8e79-b36cfa02c635"
      },
      "execution_count": 118,
      "outputs": [
        {
          "output_type": "stream",
          "name": "stdout",
          "text": [
            "Accuracy on Eval Data 0.9471698113207547\n"
          ]
        }
      ]
    },
    {
      "cell_type": "code",
      "source": [
        "import json\n",
        "\n",
        "torch.save(network2.state_dict(), 'Dnn_model.pth')\n",
        "# Assuming best_params is defined\n",
        "with open('Dnn_best_params.json', 'w') as f:\n",
        "    json.dump(best_params, f)"
      ],
      "metadata": {
        "id": "kMD3GDnGZDIF"
      },
      "execution_count": 119,
      "outputs": []
    },
    {
      "cell_type": "code",
      "source": [
        "with open('bert_vectors_test_'+model_name+'.pkl', 'rb') as f:\n",
        "    encode_test_vectors, test_labels = pickle.load(f)\n",
        "test_dataset = CustomDataset(encode_test_vectors, test_labels)\n",
        "test_dataloader = DataLoader(test_dataset, batch_size = 32, shuffle = False)"
      ],
      "metadata": {
        "id": "B7HroxQlZDK8"
      },
      "execution_count": 120,
      "outputs": []
    },
    {
      "cell_type": "code",
      "source": [
        "from sklearn.metrics import accuracy_score, classification_report"
      ],
      "metadata": {
        "id": "1B68B-qZZDNh"
      },
      "execution_count": 121,
      "outputs": []
    },
    {
      "cell_type": "code",
      "source": [
        "def get_classification_report(model, test_dataloader, device, model_file = \"Cnn\"):\n",
        "    model.eval().to(device)\n",
        "    y_true = []\n",
        "    y_pred = []\n",
        "    with torch.no_grad():\n",
        "        for test_x, test_y in test_dataloader:\n",
        "            test_x, test_y = test_x.to(device), test_y.to(device)\n",
        "\n",
        "            if model_file == \"Cnn\":\n",
        "                outputs = model(test_x.permute(0,2,1))\n",
        "            else:\n",
        "                outputs = model(test_x)\n",
        "            _, predicted = torch.max(outputs.data, 1)\n",
        "            y_true.extend(test_y.cpu().numpy())\n",
        "            y_pred.extend(predicted.cpu().numpy())\n",
        "\n",
        "    accuracy = accuracy_score(y_true, y_pred)\n",
        "    print(f\"{model_file} Accuracy: {accuracy:.4f}\")\n",
        "\n",
        "    # Calculate and print precision, recall, and f1-score\n",
        "    precision = precision_score(y_true, y_pred, average='weighted')\n",
        "    recall = recall_score(y_true, y_pred, average='weighted')\n",
        "    f1 = f1_score(y_true, y_pred, average='weighted')\n",
        "\n",
        "    print(f\"{model_file} Precision: {precision:.4f}\")\n",
        "    print(f\"{model_file} Recall: {recall:.4f}\")\n",
        "    print(f\"{model_file} F1-Score: {f1:.4f}\")\n",
        "\n",
        "    # Print the classification report\n",
        "    print(f\"{model_file} Classification Report:\")\n",
        "    print(classification_report(y_true, y_pred))\n",
        "    print(\"\\n\")"
      ],
      "metadata": {
        "id": "56WoYy3UZKLQ"
      },
      "execution_count": 122,
      "outputs": []
    },
    {
      "cell_type": "code",
      "source": [
        "with open('Dnn_best_params.json', 'r') as f:\n",
        "    best_params = json.load(f)"
      ],
      "metadata": {
        "id": "4E2OdV9UZKf0"
      },
      "execution_count": 123,
      "outputs": []
    },
    {
      "cell_type": "code",
      "source": [
        "best_model = DeepNeuralNetworkO(input_dim_x)\n",
        "best_model2 = DeepNeuralNetwork2(input_dim=input_dim_x, output_dim=2, n_layers=best_params['n_layers'],\n",
        "                        n_units=best_params['n_units'], dropout_prob=best_params['dropout_prob'], activation=activation,\n",
        "                        optimizer_name=best_params['optimizer'],weight_init_method=best_params['weight_init_method'], learning_rate = best_params['learning_rate'])\n",
        "try:\n",
        "    best_model.load_state_dict(torch.load('Dnn_model.pth', map_location=torch.device(device)))\n",
        "    get_classification_report(best_model, test_dataloader, device,\"Dnn\")\n",
        "except:\n",
        "    best_model2.load_state_dict(torch.load('Dnn_model.pth', map_location=torch.device(device)))\n",
        "    report = get_classification_report(best_model2, test_dataloader, device,\"Dnn\")\n",
        "    best_model = best_model2"
      ],
      "metadata": {
        "colab": {
          "base_uri": "https://localhost:8080/"
        },
        "id": "08AN5kJFZOWZ",
        "outputId": "977b26a8-202a-4e95-ab82-ffbc97516d77"
      },
      "execution_count": 124,
      "outputs": [
        {
          "output_type": "stream",
          "name": "stdout",
          "text": [
            "Dnn Accuracy: 0.9509\n",
            "Dnn Precision: 0.9510\n",
            "Dnn Recall: 0.9509\n",
            "Dnn F1-Score: 0.9509\n",
            "Dnn Classification Report:\n",
            "              precision    recall  f1-score   support\n",
            "\n",
            "           0       0.95      0.94      0.95       496\n",
            "           1       0.95      0.96      0.95       564\n",
            "\n",
            "    accuracy                           0.95      1060\n",
            "   macro avg       0.95      0.95      0.95      1060\n",
            "weighted avg       0.95      0.95      0.95      1060\n",
            "\n",
            "\n",
            "\n",
            "Dnn Accuracy: 0.9509\n",
            "Dnn Precision: 0.9510\n",
            "Dnn Recall: 0.9509\n",
            "Dnn F1-Score: 0.9509\n",
            "Dnn Classification Report:\n",
            "              precision    recall  f1-score   support\n",
            "\n",
            "           0       0.95      0.94      0.95       496\n",
            "           1       0.95      0.96      0.95       564\n",
            "\n",
            "    accuracy                           0.95      1060\n",
            "   macro avg       0.95      0.95      0.95      1060\n",
            "weighted avg       0.95      0.95      0.95      1060\n",
            "\n",
            "\n",
            "\n"
          ]
        }
      ]
    },
    {
      "cell_type": "markdown",
      "metadata": {
        "id": "dYrBjHhZHzKF"
      },
      "source": []
    }
  ],
  "metadata": {
    "colab": {
      "provenance": []
    },
    "kaggle": {
      "accelerator": "none",
      "dataSources": [
        {
          "datasetId": 4515722,
          "sourceId": 7731342,
          "sourceType": "datasetVersion"
        }
      ],
      "dockerImageVersionId": 30664,
      "isGpuEnabled": false,
      "isInternetEnabled": true,
      "language": "python",
      "sourceType": "notebook"
    },
    "kernelspec": {
      "display_name": "Python 3",
      "name": "python3"
    },
    "language_info": {
      "codemirror_mode": {
        "name": "ipython",
        "version": 3
      },
      "file_extension": ".py",
      "mimetype": "text/x-python",
      "name": "python",
      "nbconvert_exporter": "python",
      "pygments_lexer": "ipython3",
      "version": "3.10.13"
    }
  },
  "nbformat": 4,
  "nbformat_minor": 0
}