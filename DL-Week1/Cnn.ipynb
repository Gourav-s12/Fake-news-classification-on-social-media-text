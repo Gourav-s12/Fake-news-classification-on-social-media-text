{
  "cells": [
    {
      "cell_type": "code",
      "execution_count": 108,
      "metadata": {
        "colab": {
          "base_uri": "https://localhost:8080/"
        },
        "id": "fgoJ2JisGLF6",
        "outputId": "365308d9-934b-4802-b74d-34ed01031704"
      },
      "outputs": [
        {
          "output_type": "stream",
          "name": "stdout",
          "text": [
            "Requirement already satisfied: optuna in /usr/local/lib/python3.10/dist-packages (3.5.0)\n",
            "Requirement already satisfied: alembic>=1.5.0 in /usr/local/lib/python3.10/dist-packages (from optuna) (1.13.1)\n",
            "Requirement already satisfied: colorlog in /usr/local/lib/python3.10/dist-packages (from optuna) (6.8.2)\n",
            "Requirement already satisfied: numpy in /usr/local/lib/python3.10/dist-packages (from optuna) (1.25.2)\n",
            "Requirement already satisfied: packaging>=20.0 in /usr/local/lib/python3.10/dist-packages (from optuna) (23.2)\n",
            "Requirement already satisfied: sqlalchemy>=1.3.0 in /usr/local/lib/python3.10/dist-packages (from optuna) (2.0.28)\n",
            "Requirement already satisfied: tqdm in /usr/local/lib/python3.10/dist-packages (from optuna) (4.66.2)\n",
            "Requirement already satisfied: PyYAML in /usr/local/lib/python3.10/dist-packages (from optuna) (6.0.1)\n",
            "Requirement already satisfied: Mako in /usr/local/lib/python3.10/dist-packages (from alembic>=1.5.0->optuna) (1.3.2)\n",
            "Requirement already satisfied: typing-extensions>=4 in /usr/local/lib/python3.10/dist-packages (from alembic>=1.5.0->optuna) (4.10.0)\n",
            "Requirement already satisfied: greenlet!=0.4.17 in /usr/local/lib/python3.10/dist-packages (from sqlalchemy>=1.3.0->optuna) (3.0.3)\n",
            "Requirement already satisfied: MarkupSafe>=0.9.2 in /usr/local/lib/python3.10/dist-packages (from Mako->alembic>=1.5.0->optuna) (2.1.5)\n",
            "Requirement already satisfied: fasttext in /usr/local/lib/python3.10/dist-packages (0.9.2)\n",
            "Requirement already satisfied: pybind11>=2.2 in /usr/local/lib/python3.10/dist-packages (from fasttext) (2.11.1)\n",
            "Requirement already satisfied: setuptools>=0.7.0 in /usr/local/lib/python3.10/dist-packages (from fasttext) (67.7.2)\n",
            "Requirement already satisfied: numpy in /usr/local/lib/python3.10/dist-packages (from fasttext) (1.25.2)\n"
          ]
        }
      ],
      "source": [
        "import pandas as pd\n",
        "from sklearn.feature_extraction.text import TfidfVectorizer\n",
        "from sklearn.svm import SVC,LinearSVC\n",
        "from sklearn.metrics import accuracy_score, classification_report\n",
        "from sklearn.model_selection import GridSearchCV\n",
        "from sklearn.metrics import confusion_matrix, accuracy_score, precision_score, recall_score, f1_score\n",
        "import pickle\n",
        "import torch\n",
        "import torch.nn as nn\n",
        "from torch.utils.data import Dataset\n",
        "from torch.utils.data import DataLoader\n",
        "from tqdm import tqdm\n",
        "! pip install optuna\n",
        "import optuna\n",
        "!pip install fasttext\n",
        "import fasttext"
      ]
    },
    {
      "cell_type": "markdown",
      "metadata": {
        "id": "hSJJqKE0Hr8N"
      },
      "source": [
        "# task 1 , 2 , 3 (load)"
      ]
    },
    {
      "cell_type": "code",
      "execution_count": 109,
      "metadata": {
        "id": "4LWOSwYDH5ul"
      },
      "outputs": [],
      "source": [
        "train_data = pd.read_csv('train_split.csv')\n",
        "val_data = pd.read_csv('val_split.csv')\n",
        "# test_data = pd.read_csv('test_split.csv')\n",
        "\n",
        "train_labels = train_data['label']\n",
        "val_labels = val_data['label']\n",
        "# test_labels = test_data['label']"
      ]
    },
    {
      "cell_type": "code",
      "execution_count": 110,
      "metadata": {
        "id": "arNsJnvixGtU"
      },
      "outputs": [],
      "source": [
        "# Combine train and validation data for fasttext training\n",
        "combined_data = pd.concat([train_data, val_data])\n",
        "\n",
        "# Combine train and validation sentences for fasttext training\n",
        "combined_data_df = pd.concat([train_data, val_data], axis=0)\n",
        "max_inp_len = max(combined_data_df['tweet'].apply(lambda x: len(x.split(\" \"))))\n",
        "combined_labels = combined_data_df['label']"
      ]
    },
    {
      "cell_type": "code",
      "execution_count": 111,
      "metadata": {
        "id": "RSc3vA7fxGvx"
      },
      "outputs": [],
      "source": [
        "combined_data_df[[\"tweet\"]].to_csv('combined_data.txt', header=False, index=False,  encoding='utf-8')"
      ]
    },
    {
      "cell_type": "code",
      "execution_count": 112,
      "metadata": {
        "id": "9bQQ6CraxGyQ"
      },
      "outputs": [],
      "source": [
        "# Specify the path for the fasttext model\n",
        "fasttext_model_path = 'fasttext_model.bin'\n",
        "\n",
        "# Train the FastText model on the combined dataset\n",
        "model = fasttext.train_unsupervised('combined_data.txt', model='skipgram')\n",
        "model.save_model(fasttext_model_path)"
      ]
    },
    {
      "cell_type": "code",
      "execution_count": 113,
      "metadata": {
        "colab": {
          "base_uri": "https://localhost:8080/"
        },
        "id": "v_gXC6x3G46X",
        "outputId": "a404cf8e-c93b-456e-bc5f-6a143a359493"
      },
      "outputs": [
        {
          "output_type": "stream",
          "name": "stderr",
          "text": [
            "Warning : `load_model` does not return WordVectorModel or SupervisedModel any more, but a `FastText` object which is very similar.\n"
          ]
        }
      ],
      "source": [
        "# Specify the path for the fasttext model\n",
        "fasttext_model_path = 'fasttext_model.bin'\n",
        "\n",
        "fasttext_model = fasttext.load_model(fasttext_model_path)"
      ]
    },
    {
      "cell_type": "code",
      "execution_count": 114,
      "metadata": {
        "id": "1h70GEC2KvQt"
      },
      "outputs": [],
      "source": [
        "import numpy as np\n",
        "\n",
        "def create_embedding_matrix(sentences, model, max_inp_len):\n",
        "    embedding_matrix = np.zeros((len(sentences), max_inp_len, model.get_dimension()))\n",
        "\n",
        "    for i, sentence in enumerate(sentences):\n",
        "        tokens = sentence.split()[:max_inp_len]\n",
        "        for j, token in enumerate(tokens):\n",
        "            embedding_matrix[i, j, :] = model.get_word_vector(token)\n",
        "\n",
        "    print(embedding_matrix.shape)\n",
        "    return embedding_matrix"
      ]
    },
    {
      "cell_type": "code",
      "execution_count": 115,
      "metadata": {
        "colab": {
          "base_uri": "https://localhost:8080/"
        },
        "id": "AOVfyC8dLI4s",
        "outputId": "ce182a72-4725-4430-ea74-22c1c188ee2d"
      },
      "outputs": [
        {
          "output_type": "stream",
          "name": "stdout",
          "text": [
            "970 100\n"
          ]
        }
      ],
      "source": [
        "max_inp_len = max(pd.concat([train_data, val_data], axis=0)['tweet'].apply(lambda x: len(x.split(\" \"))))\n",
        "d = fasttext_model.get_dimension()\n",
        "print(max_inp_len , d)"
      ]
    },
    {
      "cell_type": "code",
      "execution_count": 116,
      "metadata": {
        "colab": {
          "base_uri": "https://localhost:8080/"
        },
        "id": "XGUF6MWxJeau",
        "outputId": "b5e4587a-cdfd-40d0-e77d-6e93674f1de4"
      },
      "outputs": [
        {
          "output_type": "stream",
          "name": "stdout",
          "text": [
            "(8480, 970, 100)\n",
            "(1060, 970, 100)\n"
          ]
        }
      ],
      "source": [
        "\n",
        "# Create embedding matrices for train, val, and test datasets\n",
        "train_embedding_matrix = create_embedding_matrix(train_data['tweet'], fasttext_model, max_inp_len)\n",
        "val_embedding_matrix = create_embedding_matrix(val_data['tweet'], fasttext_model, max_inp_len)\n",
        "# test_embedding_matrix = create_embedding_matrix(test_data['tweet'], fasttext_model, max_inp_len)\n",
        "# train_val_embedding_matrix = create_embedding_matrix(combined_data_df['tweet'], fasttext_model, max_inp_len)"
      ]
    },
    {
      "cell_type": "code",
      "execution_count": 117,
      "metadata": {
        "colab": {
          "base_uri": "https://localhost:8080/"
        },
        "id": "eGk_iH1SkD2j",
        "outputId": "30c507c4-98f5-4c3c-e66f-08a049b43be3"
      },
      "outputs": [
        {
          "output_type": "stream",
          "name": "stdout",
          "text": [
            "(8480,) (8480, 970, 100)\n"
          ]
        }
      ],
      "source": [
        "print(train_labels.shape , train_embedding_matrix.shape)"
      ]
    },
    {
      "cell_type": "markdown",
      "metadata": {
        "id": "Fa4nt3ALHnkV"
      },
      "source": [
        "# Task 4"
      ]
    },
    {
      "cell_type": "code",
      "execution_count": 118,
      "metadata": {
        "id": "xO71sCcof_bL"
      },
      "outputs": [],
      "source": [
        "class CustomDataset(Dataset):\n",
        "    def __init__(self, X, Y):\n",
        "        # Convert sparse matrix to dense tensor\n",
        "        self.x = torch.tensor(X, dtype=torch.float32)\n",
        "        self.y = torch.tensor(Y, dtype=torch.long)\n",
        "\n",
        "    def __len__(self):\n",
        "        return len(self.y)\n",
        "\n",
        "    def __getitem__(self, idx):\n",
        "        # Add an extra dimension to represent channels (1 in this case)\n",
        "        x_sample = self.x[idx]   # .unsqueeze(0)\n",
        "        return x_sample, self.y[idx]"
      ]
    },
    {
      "cell_type": "code",
      "execution_count": 119,
      "metadata": {
        "id": "fYtWeSVUgVBW"
      },
      "outputs": [],
      "source": [
        "train_dataset = CustomDataset(train_embedding_matrix, train_labels)\n",
        "eval_dataset = CustomDataset(val_embedding_matrix, val_labels)\n",
        "# test_dataset = CustomDataset(test_embedding_matrix, test_labels)\n",
        "# train_val_dataset = CustomDataset(train_val_embedding_matrix, combined_labels)"
      ]
    },
    {
      "cell_type": "code",
      "execution_count": 120,
      "metadata": {
        "id": "6tVeq41whaz0"
      },
      "outputs": [],
      "source": [
        "train_dataloader = DataLoader(train_dataset, batch_size = 32, shuffle = True)\n",
        "eval_dataloader = DataLoader(eval_dataset, batch_size = 32, shuffle = False)\n",
        "# test_dataloader = DataLoader(test_dataset, batch_size = 32, shuffle = False)\n",
        "# train_dataloader = DataLoader(train_val_dataset, batch_size = 32, shuffle = True)"
      ]
    },
    {
      "cell_type": "code",
      "execution_count": 121,
      "metadata": {
        "colab": {
          "base_uri": "https://localhost:8080/"
        },
        "id": "CKm4VxFvhdYJ",
        "outputId": "9238ef6c-e210-4d50-b522-606915579783"
      },
      "outputs": [
        {
          "output_type": "stream",
          "name": "stdout",
          "text": [
            "torch.Size([32, 970, 100]) torch.Size([32])\n"
          ]
        }
      ],
      "source": [
        "for x, y in train_dataloader:\n",
        "    print(x.shape, y.shape)\n",
        "    break"
      ]
    },
    {
      "cell_type": "code",
      "execution_count": 122,
      "metadata": {
        "id": "Wijkk9mUX4kQ"
      },
      "outputs": [],
      "source": [
        "# train_loader = torch.utils.data.DataLoader(train_dataset,          # our raw data\n",
        "#                                            batch_size=32,  # the size of batches we want the dataloader to return\n",
        "#                                            shuffle=True,           # shuffle our data before batching\n",
        "#                                            drop_last=False)        # don't drop the last batch even if it's smaller than batch_size\n",
        "# imgs, targets = next(iter(train_loader))\n",
        "# imgs.shape"
      ]
    },
    {
      "cell_type": "markdown",
      "metadata": {
        "id": "g_sv7-09hpph"
      },
      "source": [
        "## Basic Network"
      ]
    },
    {
      "cell_type": "code",
      "execution_count": 123,
      "metadata": {
        "colab": {
          "base_uri": "https://localhost:8080/",
          "height": 35
        },
        "id": "O7aNAiWbhsx7",
        "outputId": "69caf121-a680-416f-ef5f-383a8ab7a273"
      },
      "outputs": [
        {
          "output_type": "execute_result",
          "data": {
            "text/plain": [
              "'cuda'"
            ],
            "application/vnd.google.colaboratory.intrinsic+json": {
              "type": "string"
            }
          },
          "metadata": {},
          "execution_count": 123
        }
      ],
      "source": [
        "device = \"cuda\" if torch.cuda.is_available() else \"cpu\"\n",
        "device"
      ]
    },
    {
      "cell_type": "code",
      "execution_count": 124,
      "metadata": {
        "id": "YJNXYbCRhwJy"
      },
      "outputs": [],
      "source": [
        "import torch.nn as nn\n",
        "\n",
        "class ConvolutionalNeuralNetwork0(nn.Module):\n",
        "    def __init__(self, d, num_classes=2):\n",
        "        super(ConvolutionalNeuralNetwork0, self).__init__()\n",
        "\n",
        "        self.conv1 = nn.Conv1d(in_channels=d, out_channels=128, kernel_size=5)\n",
        "        self.bn1 = nn.BatchNorm1d(128)\n",
        "        self.conv2 = nn.Conv1d(in_channels=128, out_channels=256, kernel_size=3)\n",
        "        self.bn2 = nn.BatchNorm1d(256)\n",
        "        self.conv3 = nn.Conv1d(in_channels=256, out_channels=256, kernel_size=3)\n",
        "        self.bn3 = nn.BatchNorm1d(256)\n",
        "\n",
        "        self.fc1 = nn.Linear(256 * 119, 128)\n",
        "        self.fc2 = nn.Linear(128, num_classes)\n",
        "        self.relu = nn.ReLU()\n",
        "        self.pool = nn.MaxPool1d(2)\n",
        "\n",
        "    def forward(self, x):\n",
        "        x = self.conv1(x)\n",
        "        x = self.bn1(x)\n",
        "        x = self.relu(x)\n",
        "        x = self.pool(x)\n",
        "\n",
        "        x = self.conv2(x)\n",
        "        x = self.bn2(x)\n",
        "        x = self.relu(x)\n",
        "        x = self.pool(x)\n",
        "\n",
        "        x = self.conv3(x)\n",
        "        x = self.bn3(x)\n",
        "        x = self.relu(x)\n",
        "        x = self.pool(x)\n",
        "\n",
        "        x = x.view(x.size(0), -1)\n",
        "        x = self.fc1(x)\n",
        "        x = self.relu(x)\n",
        "        x = self.fc2(x)\n",
        "\n",
        "        return x"
      ]
    },
    {
      "cell_type": "code",
      "execution_count": 125,
      "metadata": {
        "id": "5AM2oZ_-iuvW"
      },
      "outputs": [],
      "source": [
        "import torch\n",
        "network = ConvolutionalNeuralNetwork0(d).to(device)"
      ]
    },
    {
      "cell_type": "code",
      "execution_count": 126,
      "metadata": {
        "colab": {
          "base_uri": "https://localhost:8080/"
        },
        "id": "Ek5Vekjoiu0C",
        "outputId": "aa8aaae5-0e86-4295-e89f-f6ea3b3f618b"
      },
      "outputs": [
        {
          "output_type": "stream",
          "name": "stdout",
          "text": [
            "----------------------------------------------------------------\n",
            "        Layer (type)               Output Shape         Param #\n",
            "================================================================\n",
            "            Conv1d-1             [-1, 128, 966]          64,128\n",
            "       BatchNorm1d-2             [-1, 128, 966]             256\n",
            "              ReLU-3             [-1, 128, 966]               0\n",
            "         MaxPool1d-4             [-1, 128, 483]               0\n",
            "            Conv1d-5             [-1, 256, 481]          98,560\n",
            "       BatchNorm1d-6             [-1, 256, 481]             512\n",
            "              ReLU-7             [-1, 256, 481]               0\n",
            "         MaxPool1d-8             [-1, 256, 240]               0\n",
            "            Conv1d-9             [-1, 256, 238]         196,864\n",
            "      BatchNorm1d-10             [-1, 256, 238]             512\n",
            "             ReLU-11             [-1, 256, 238]               0\n",
            "        MaxPool1d-12             [-1, 256, 119]               0\n",
            "           Linear-13                  [-1, 128]       3,899,520\n",
            "             ReLU-14                  [-1, 128]               0\n",
            "           Linear-15                    [-1, 2]             258\n",
            "================================================================\n",
            "Total params: 4,260,610\n",
            "Trainable params: 4,260,610\n",
            "Non-trainable params: 0\n",
            "----------------------------------------------------------------\n",
            "Input size (MB): 0.37\n",
            "Forward/backward pass size (MB): 8.22\n",
            "Params size (MB): 16.25\n",
            "Estimated Total Size (MB): 24.84\n",
            "----------------------------------------------------------------\n"
          ]
        }
      ],
      "source": [
        "from torchsummary import summary\n",
        "# Assuming your input data size is (970, 100)\n",
        "input_size = (100, 970)  # (channels, width)\n",
        "\n",
        "# Print the model summary\n",
        "summary(network, input_size=input_size)"
      ]
    },
    {
      "cell_type": "code",
      "execution_count": 127,
      "metadata": {
        "colab": {
          "base_uri": "https://localhost:8080/"
        },
        "id": "S4sPuiZliu3A",
        "outputId": "6d6fd945-d88e-41ed-a5cb-206e62f886e3"
      },
      "outputs": [
        {
          "output_type": "stream",
          "name": "stdout",
          "text": [
            "torch.Size([32, 970, 100]) torch.Size([32, 100, 970]) torch.Size([32])\n"
          ]
        }
      ],
      "source": [
        "batch_x, batch_y = next(iter(train_dataloader))\n",
        "print(batch_x.shape, batch_x.permute(0, 2, 1).shape, batch_y.shape)"
      ]
    },
    {
      "cell_type": "markdown",
      "metadata": {
        "id": "GF8b0Gili60M"
      },
      "source": [
        "## Basic Training Loop"
      ]
    },
    {
      "cell_type": "code",
      "execution_count": 128,
      "metadata": {
        "id": "o6caXoVbiu5u"
      },
      "outputs": [],
      "source": [
        "criterion = nn.CrossEntropyLoss()\n",
        "optim = torch.optim.Adam(network.parameters(), lr = 0.001)\n",
        "epochs = 10"
      ]
    },
    {
      "cell_type": "code",
      "execution_count": 129,
      "metadata": {
        "id": "6509b7hPiu7z"
      },
      "outputs": [],
      "source": [
        "train_epoch_loss = []\n",
        "eval_epoch_loss = []"
      ]
    },
    {
      "cell_type": "code",
      "execution_count": null,
      "metadata": {
        "colab": {
          "base_uri": "https://localhost:8080/"
        },
        "id": "kQT1UUZyiu-b",
        "outputId": "c605527d-35af-405e-b381-12aa9cf9ca8c"
      },
      "outputs": [
        {
          "output_type": "stream",
          "name": "stderr",
          "text": [
            " 20%|██        | 2/10 [00:14<00:56,  7.05s/it]"
          ]
        }
      ],
      "source": [
        "for epoch in tqdm(range(epochs)):\n",
        "    curr_loss = 0\n",
        "    total = 0\n",
        "    for train_x, train_y in train_dataloader:\n",
        "\n",
        "        train_x = train_x.to(device)\n",
        "        train_y = train_y.to(device)\n",
        "        optim.zero_grad()\n",
        "\n",
        "        y_pred = network(train_x.permute(0, 2, 1))\n",
        "        loss = criterion(y_pred, train_y)\n",
        "\n",
        "        loss.backward()\n",
        "        optim.step()\n",
        "\n",
        "        curr_loss += loss.item()\n",
        "        total += len(train_y)\n",
        "    train_epoch_loss.append(curr_loss / total)\n",
        "\n",
        "    curr_loss = 0\n",
        "    total = 0\n",
        "    for eval_x, eval_y in eval_dataloader:\n",
        "        eval_x = eval_x.to(device)\n",
        "        eval_y = eval_y.to(device)\n",
        "        optim.zero_grad()\n",
        "\n",
        "        with torch.no_grad():\n",
        "            y_pred = network(eval_x.permute(0, 2, 1))\n",
        "\n",
        "        loss = criterion(y_pred, eval_y)\n",
        "\n",
        "        curr_loss += loss.item()\n",
        "        total += len(train_y)\n",
        "    eval_epoch_loss.append(curr_loss / total)\n"
      ]
    },
    {
      "cell_type": "code",
      "execution_count": null,
      "metadata": {
        "id": "4N58Lo0uivA1"
      },
      "outputs": [],
      "source": [
        "import matplotlib.pyplot as plt\n",
        "\n",
        "plt.plot(range(epochs), train_epoch_loss, label='train')\n",
        "plt.plot(range(epochs), eval_epoch_loss, label='eval')\n",
        "plt.xlabel('Epoch')\n",
        "plt.ylabel('Loss')\n",
        "plt.legend()\n",
        "plt.show()"
      ]
    },
    {
      "cell_type": "code",
      "execution_count": null,
      "metadata": {
        "id": "--jMTpLXivDJ"
      },
      "outputs": [],
      "source": [
        "correct = 0\n",
        "total = 0\n",
        "for x, y in eval_dataloader:\n",
        "    x = x.to(device)\n",
        "    with torch.no_grad():\n",
        "        yp = network(x.permute(0, 2, 1))\n",
        "    yp = torch.argmax(yp.cpu(), dim = 1)\n",
        "    correct += (yp == y).sum()\n",
        "    total += len(y)\n",
        "prev_eval_acc = correct / total\n",
        "print(f\"Accuracy on Eval Data {(prev_eval_acc * 100):.2f}\")"
      ]
    },
    {
      "cell_type": "code",
      "execution_count": null,
      "metadata": {
        "id": "Lv9R8U6BlwfF"
      },
      "outputs": [],
      "source": [
        "prev_model = network"
      ]
    },
    {
      "cell_type": "markdown",
      "metadata": {
        "id": "NKp3Kcxhn86w"
      },
      "source": [
        "## now hyperparameter optimization"
      ]
    },
    {
      "cell_type": "code",
      "execution_count": 27,
      "metadata": {
        "colab": {
          "base_uri": "https://localhost:8080/"
        },
        "id": "_kxYyFtPnkqt",
        "outputId": "bf16a08d-610e-499e-d084-d5b952ac19a1"
      },
      "outputs": [
        {
          "output_type": "stream",
          "name": "stdout",
          "text": [
            "Collecting torchmetrics\n",
            "  Downloading torchmetrics-1.3.1-py3-none-any.whl (840 kB)\n",
            "\u001b[2K     \u001b[90m━━━━━━━━━━━━━━━━━━━━━━━━━━━━━━━━━━━━━━━━\u001b[0m \u001b[32m840.4/840.4 kB\u001b[0m \u001b[31m7.0 MB/s\u001b[0m eta \u001b[36m0:00:00\u001b[0m\n",
            "\u001b[?25hRequirement already satisfied: numpy>1.20.0 in /usr/local/lib/python3.10/dist-packages (from torchmetrics) (1.25.2)\n",
            "Requirement already satisfied: packaging>17.1 in /usr/local/lib/python3.10/dist-packages (from torchmetrics) (23.2)\n",
            "Requirement already satisfied: torch>=1.10.0 in /usr/local/lib/python3.10/dist-packages (from torchmetrics) (2.1.0+cu121)\n",
            "Collecting lightning-utilities>=0.8.0 (from torchmetrics)\n",
            "  Downloading lightning_utilities-0.10.1-py3-none-any.whl (24 kB)\n",
            "Requirement already satisfied: setuptools in /usr/local/lib/python3.10/dist-packages (from lightning-utilities>=0.8.0->torchmetrics) (67.7.2)\n",
            "Requirement already satisfied: typing-extensions in /usr/local/lib/python3.10/dist-packages (from lightning-utilities>=0.8.0->torchmetrics) (4.10.0)\n",
            "Requirement already satisfied: filelock in /usr/local/lib/python3.10/dist-packages (from torch>=1.10.0->torchmetrics) (3.13.1)\n",
            "Requirement already satisfied: sympy in /usr/local/lib/python3.10/dist-packages (from torch>=1.10.0->torchmetrics) (1.12)\n",
            "Requirement already satisfied: networkx in /usr/local/lib/python3.10/dist-packages (from torch>=1.10.0->torchmetrics) (3.2.1)\n",
            "Requirement already satisfied: jinja2 in /usr/local/lib/python3.10/dist-packages (from torch>=1.10.0->torchmetrics) (3.1.3)\n",
            "Requirement already satisfied: fsspec in /usr/local/lib/python3.10/dist-packages (from torch>=1.10.0->torchmetrics) (2023.6.0)\n",
            "Requirement already satisfied: triton==2.1.0 in /usr/local/lib/python3.10/dist-packages (from torch>=1.10.0->torchmetrics) (2.1.0)\n",
            "Requirement already satisfied: MarkupSafe>=2.0 in /usr/local/lib/python3.10/dist-packages (from jinja2->torch>=1.10.0->torchmetrics) (2.1.5)\n",
            "Requirement already satisfied: mpmath>=0.19 in /usr/local/lib/python3.10/dist-packages (from sympy->torch>=1.10.0->torchmetrics) (1.3.0)\n",
            "Installing collected packages: lightning-utilities, torchmetrics\n",
            "Successfully installed lightning-utilities-0.10.1 torchmetrics-1.3.1\n"
          ]
        }
      ],
      "source": [
        "!pip install torchmetrics\n",
        "from torchmetrics import Accuracy"
      ]
    },
    {
      "cell_type": "code",
      "execution_count": 28,
      "metadata": {
        "id": "Jktq4harhwMp"
      },
      "outputs": [],
      "source": [
        "import torch.nn.init as init  # Import the init module from PyTorch\n",
        "\n",
        "class ConvolutionalNeuralNetwork2(nn.Module):\n",
        "    def __init__(self, input_dim, d, output_dim, n_layers, n_units, dropout_prob, activation, optimizer_name,weight_init_method, learning_rate, cnn_kernel, cnn_stride, cnn_padding, cnn_channel):\n",
        "        super(ConvolutionalNeuralNetwork2, self).__init__()\n",
        "        layers = []\n",
        "\n",
        "        # self.conv1 = nn.Conv1d(in_channels=d, out_channels=128, kernel_size=5)\n",
        "        # self.conv2 = nn.Conv1d(in_channels=128, out_channels=256, kernel_size=3)\n",
        "\n",
        "        self.conv1 = nn.Conv1d(in_channels=d, out_channels=cnn_channel, kernel_size=cnn_kernel, stride=cnn_stride, padding=cnn_padding)\n",
        "        input_dim = self.calculate_conv_output_size(input_dim, cnn_kernel, cnn_stride, cnn_padding)\n",
        "        input_dim = self.calculate_pool_output_size(input_dim, 2)\n",
        "\n",
        "        self.conv2 = nn.Conv1d(in_channels=cnn_channel, out_channels=cnn_channel, kernel_size=cnn_kernel, stride=cnn_stride, padding=cnn_padding)\n",
        "        input_dim = self.calculate_conv_output_size(input_dim, cnn_kernel, cnn_stride, cnn_padding)\n",
        "        input_dim = self.calculate_pool_output_size(input_dim, 2)\n",
        "\n",
        "        self.fc1 = nn.Linear(cnn_channel * input_dim, 128)\n",
        "\n",
        "        self.activation = activation\n",
        "        self.pool = nn.MaxPool1d(2)\n",
        "        self.bn = nn.BatchNorm1d(cnn_channel)\n",
        "\n",
        "        in_features = 128\n",
        "        for i in range(n_layers):\n",
        "            layers.append(nn.Linear(in_features, n_units))\n",
        "            layers.append(activation)\n",
        "            layers.append(nn.Dropout(dropout_prob))\n",
        "            in_features = n_units\n",
        "        layers.append(nn.Linear(in_features, output_dim))\n",
        "        self.layers = nn.Sequential(*layers)\n",
        "        # Initialize optimizer and learning rate scheduler\n",
        "        self.optimizer_name = optimizer_name\n",
        "        self.optimizer = self._get_optimizer(optimizer_name, learning_rate)\n",
        "        # self.apply_weight_init(weight_init_method)\n",
        "\n",
        "    def _get_optimizer(self, optimizer_name, learning_rate):\n",
        "        if optimizer_name == 'Adam':\n",
        "            return torch.optim.Adam(self.parameters(), lr=learning_rate)\n",
        "        elif optimizer_name == 'SGD':\n",
        "            return torch.optim.SGD(self.parameters(), lr=learning_rate, momentum=0.9)\n",
        "        elif optimizer_name == 'RMSprop':\n",
        "            return torch.optim.RMSprop(self.parameters(), lr=learning_rate)\n",
        "        else:\n",
        "            raise ValueError(f'Invalid optimizer name: {optimizer_name}')\n",
        "\n",
        "    def apply_weight_init(self, weight_init_method):\n",
        "        if weight_init_method == 'uniform':\n",
        "            init_func = init.uniform_\n",
        "        elif weight_init_method == 'normal':\n",
        "            init_func = init.normal_\n",
        "        elif weight_init_method == 'xavier':\n",
        "            init_func = init.xavier_uniform_\n",
        "        else:\n",
        "            raise ValueError(f'Invalid weight initialization method: {weight_init_method}')\n",
        "        # Apply weight initialization to each linear layer\n",
        "        for module in self.modules():\n",
        "            if isinstance(module, nn.Linear):\n",
        "                init_func(module.weight)\n",
        "                if module.bias is not None:\n",
        "                    init.constant_(module.bias, 0)\n",
        "\n",
        "    def calculate_conv_output_size(self, input_size, kernel_size, stride, padding):\n",
        "        return int(((input_size - kernel_size + 2 * padding) / stride) + 1)\n",
        "\n",
        "    def calculate_pool_output_size(self, input_size, pool_size):\n",
        "        return int((input_size  / pool_size))\n",
        "\n",
        "    def forward(self, x):\n",
        "        x = self.conv1(x)\n",
        "        x = self.bn(x)\n",
        "        x = self.activation(x)\n",
        "        x = self.pool(x)\n",
        "\n",
        "        x = self.conv2(x)\n",
        "        x = self.bn(x)\n",
        "        x = self.activation(x)\n",
        "        x = self.pool(x)\n",
        "\n",
        "        # Flatten the output before the fully connected layers\n",
        "        x = x.view(x.size(0), -1)\n",
        "        x = self.fc1(x)\n",
        "\n",
        "        return self.layers(x)"
      ]
    },
    {
      "cell_type": "code",
      "execution_count": 29,
      "metadata": {
        "id": "TvTUktp6mDGT"
      },
      "outputs": [],
      "source": [
        "def train_model(model, criterion, optimizer, dataloader, device):\n",
        "    model.train()\n",
        "    total_loss = 0.0\n",
        "    correct_predictions = 0\n",
        "    total_samples = 0\n",
        "\n",
        "    for inputs, targets in dataloader:\n",
        "        inputs, targets = inputs.to(device), targets.to(device)\n",
        "\n",
        "        optimizer.zero_grad()\n",
        "        outputs = model(inputs.permute(0, 2, 1))\n",
        "        loss = criterion(outputs, targets)\n",
        "\n",
        "        # Calculate accuracy\n",
        "        y_pred = torch.argmax(outputs, dim = 1)\n",
        "        correct_predictions += (y_pred == targets).sum().item()\n",
        "        total_samples += len(targets)\n",
        "\n",
        "        loss.backward()\n",
        "        optimizer.step()\n",
        "\n",
        "        total_loss += loss.item()\n",
        "\n",
        "    accuracy = correct_predictions / total_samples\n",
        "    total_loss /= total_samples\n",
        "    return total_loss, accuracy"
      ]
    },
    {
      "cell_type": "code",
      "execution_count": 30,
      "metadata": {
        "id": "MYqgsJqBWfmT"
      },
      "outputs": [],
      "source": [
        "def evaluate_model(network, criterion, eval_dataloader, device):\n",
        "    network.eval()\n",
        "\n",
        "    total_loss = 0\n",
        "    correct_predictions = 0\n",
        "    total_samples = 0\n",
        "\n",
        "    with torch.no_grad():\n",
        "        for eval_x, eval_y in eval_dataloader:\n",
        "            eval_x = eval_x.to(device)\n",
        "            eval_y = eval_y.to(device)\n",
        "\n",
        "            y_pred = network(eval_x.permute(0, 2, 1))\n",
        "            loss = criterion(y_pred, eval_y)\n",
        "\n",
        "            total_loss += loss.item()\n",
        "\n",
        "            # Calculate accuracy\n",
        "            y_pred = torch.argmax(y_pred, dim = 1)\n",
        "            correct_predictions += (y_pred == eval_y).sum().item()\n",
        "            total_samples += len(eval_y)\n",
        "\n",
        "    total_loss /= total_samples\n",
        "    accuracy = correct_predictions / total_samples\n",
        "\n",
        "    return total_loss, accuracy"
      ]
    },
    {
      "cell_type": "code",
      "execution_count": 31,
      "metadata": {
        "id": "2tbC4F1me8WC"
      },
      "outputs": [],
      "source": [
        "import optuna\n",
        "from torch.optim.lr_scheduler import StepLR, ExponentialLR\n",
        "from torch.nn.init import xavier_uniform_, kaiming_normal_\n",
        "from torch.optim import Adam, SGD\n",
        "from torch.optim.lr_scheduler import StepLR, ExponentialLR\n",
        "from torch.nn import LeakyReLU, PReLU\n",
        "from torch.utils.data import DataLoader\n",
        "from torch.nn import L1Loss, MSELoss\n",
        "\n",
        "def objective(trial):\n",
        "    # Define hyperparameters to be optimized\n",
        "    learning_rate = trial.suggest_float(\"learning_rate\", 1e-5, 1e-1, log=True)\n",
        "    batch_size = trial.suggest_categorical(\"batch_size\", [32, 64, 128])\n",
        "    n_layers = trial.suggest_int(\"n_layers\", 1, 2)\n",
        "    n_units = trial.suggest_int(\"n_units\", 16, 128)\n",
        "    dropout_prob = trial.suggest_float(\"dropout_prob\", 0.0, 0.5)\n",
        "    activation = trial.suggest_categorical(\"activation\", [\"ReLU\", \"LeakyReLU\", \"PReLU\"])\n",
        "    weight_init_method = trial.suggest_categorical(\"weight_init_method\", [\"uniform\", \"normal\", \"xavier\"])\n",
        "    optimizer_choice = trial.suggest_categorical(\"optimizer\", [\"Adam\", \"SGD\", \"RMSprop\"])\n",
        "    # lr_schedule = trial.suggest_categorical(\"lr_schedule\", [\"step_lr\", \"exp_lr\"])\n",
        "    use_early_stopping = trial.suggest_categorical(\"use_early_stopping\", [True, False])\n",
        "    patience = trial.suggest_int(\"patience\", 5, 10)\n",
        "    # gradient_accumulation_steps = trial.suggest_int(\"gradient_accumulation_steps\", 1, 5)\n",
        "    # regularization_strength = trial.suggest_float(\"regularization_strength\", 0.0, 0.1)\n",
        "    epochs = trial.suggest_int(\"epochs\", 10, 25)\n",
        "\n",
        "    #for CNN\n",
        "    cnn_kernel = 2 * (trial.suggest_int(\"cnn_kernel\", 1, 3)) + 1  # to get odd number using 2*x+1\n",
        "    max_stride_pad = (cnn_kernel - 1)/2\n",
        "    cnn_stride = trial.suggest_int(\"cnn_stride\", 1, max_stride_pad)\n",
        "    cnn_padding = trial.suggest_categorical(\"cnn_padding\", [0, 3])\n",
        "    cnn_channel = trial.suggest_categorical(\"cnn_channel\", [32, 64, 128])\n",
        "\n",
        "    # Wrap activation functions inside nn.Module subclass\n",
        "    if activation == \"ReLU\":\n",
        "        activation =nn.ReLU()\n",
        "    elif activation == \"LeakyReLU\":\n",
        "        activation =nn.LeakyReLU()\n",
        "    elif activation == \"PReLU\":\n",
        "        activation =nn.PReLU()\n",
        "    else:\n",
        "        raise ValueError(f'Invalid activation method: {activation}')\n",
        "\n",
        "    # Create an instance of your Network\n",
        "    network = ConvolutionalNeuralNetwork2(input_dim = max_inp_len, d = d, output_dim=2, n_layers=n_layers,\n",
        "                            n_units=n_units, dropout_prob=dropout_prob, activation=activation,\n",
        "                            optimizer_name=optimizer_choice,weight_init_method=weight_init_method,\n",
        "                            learning_rate = learning_rate, cnn_kernel = cnn_kernel, cnn_stride = cnn_stride,\n",
        "                            cnn_padding = cnn_padding, cnn_channel = cnn_channel)\n",
        "\n",
        "    optimizer = network.optimizer\n",
        "\n",
        "    # input_size = (100, 970)  # (channels, width)\n",
        "\n",
        "    # # Print the model summary\n",
        "    # summary(network, input_size=input_size)\n",
        "\n",
        "    # Move the model to the appropriate device\n",
        "    network.to(device)\n",
        "    best_eval_loss = float('inf')\n",
        "    no_improvement = 0\n",
        "\n",
        "    # Define DataLoader instances\n",
        "    train_dataloader = DataLoader(train_dataset, batch_size=batch_size, shuffle=True)\n",
        "    eval_dataloader = DataLoader(eval_dataset, batch_size=batch_size, shuffle=False)\n",
        "    # test_dataloader = DataLoader(test_dataset, batch_size=batch_size, shuffle=False)\n",
        "\n",
        "    # Training loop\n",
        "    for epoch in tqdm(range(epochs), desc=\"Epochs\"):\n",
        "        train_loss , train_acc = train_model(network, criterion, optimizer, train_dataloader, device)\n",
        "        eval_loss, eval_acc = evaluate_model(network, criterion, eval_dataloader, device)\n",
        "\n",
        "        # Report the validation loss to Optuna for optimization\n",
        "        trial.report(eval_loss, epoch)\n",
        "\n",
        "        # Handle pruning based on the intermediate value\n",
        "        if trial.should_prune():\n",
        "            raise optuna.exceptions.TrialPruned()\n",
        "\n",
        "        # Early stopping\n",
        "        if use_early_stopping:\n",
        "            if eval_loss < best_eval_loss:\n",
        "                best_val_loss = eval_loss\n",
        "                no_improvement = 0\n",
        "            else:\n",
        "                no_improvement += 1\n",
        "                if no_improvement >= patience:\n",
        "                    break\n",
        "\n",
        "    print(f\"Training acc = {train_acc} , Val acc = {eval_acc}\")\n",
        "    return eval_acc  # eval_loss\n"
      ]
    },
    {
      "cell_type": "code",
      "execution_count": 32,
      "metadata": {
        "colab": {
          "base_uri": "https://localhost:8080/"
        },
        "id": "hzSwD7ejzAku",
        "outputId": "77c6b9a2-0c9a-46d3-e88c-12702d47f156"
      },
      "outputs": [
        {
          "output_type": "stream",
          "name": "stderr",
          "text": [
            "[I 2024-03-12 19:40:27,928] A new study created in memory with name: no-name-e032e0a6-74ab-44fb-96d6-fd4d02607531\n",
            "Epochs: 100%|██████████| 24/24 [01:59<00:00,  4.98s/it]\n",
            "[I 2024-03-12 19:42:27,418] Trial 0 finished with value: 0.8358490566037736 and parameters: {'learning_rate': 3.799285833287359e-05, 'batch_size': 128, 'n_layers': 1, 'n_units': 117, 'dropout_prob': 0.4697903586223736, 'activation': 'PReLU', 'weight_init_method': 'uniform', 'optimizer': 'SGD', 'use_early_stopping': False, 'patience': 7, 'epochs': 24, 'cnn_kernel': 2, 'cnn_stride': 2, 'cnn_padding': 0, 'cnn_channel': 64}. Best is trial 0 with value: 0.8358490566037736.\n"
          ]
        },
        {
          "output_type": "stream",
          "name": "stdout",
          "text": [
            "Training acc = 0.8859669811320755 , Val acc = 0.8358490566037736\n"
          ]
        },
        {
          "output_type": "stream",
          "name": "stderr",
          "text": [
            "Epochs: 100%|██████████| 13/13 [01:13<00:00,  5.64s/it]\n",
            "[I 2024-03-12 19:43:40,752] Trial 1 finished with value: 0.6584905660377358 and parameters: {'learning_rate': 0.019923452974566012, 'batch_size': 128, 'n_layers': 2, 'n_units': 117, 'dropout_prob': 0.15538194197316796, 'activation': 'ReLU', 'weight_init_method': 'uniform', 'optimizer': 'Adam', 'use_early_stopping': True, 'patience': 7, 'epochs': 13, 'cnn_kernel': 3, 'cnn_stride': 1, 'cnn_padding': 0, 'cnn_channel': 64}. Best is trial 0 with value: 0.8358490566037736.\n"
          ]
        },
        {
          "output_type": "stream",
          "name": "stdout",
          "text": [
            "Training acc = 0.9076650943396226 , Val acc = 0.6584905660377358\n"
          ]
        },
        {
          "output_type": "stream",
          "name": "stderr",
          "text": [
            "Epochs: 100%|██████████| 21/21 [01:25<00:00,  4.05s/it]\n",
            "[I 2024-03-12 19:45:05,886] Trial 2 finished with value: 0.5283018867924528 and parameters: {'learning_rate': 6.998724643427357e-05, 'batch_size': 64, 'n_layers': 2, 'n_units': 84, 'dropout_prob': 0.2617735274117893, 'activation': 'LeakyReLU', 'weight_init_method': 'uniform', 'optimizer': 'RMSprop', 'use_early_stopping': True, 'patience': 8, 'epochs': 21, 'cnn_kernel': 3, 'cnn_stride': 1, 'cnn_padding': 0, 'cnn_channel': 128}. Best is trial 0 with value: 0.8358490566037736.\n"
          ]
        },
        {
          "output_type": "stream",
          "name": "stdout",
          "text": [
            "Training acc = 0.9966981132075472 , Val acc = 0.5283018867924528\n"
          ]
        },
        {
          "output_type": "stream",
          "name": "stderr",
          "text": [
            "Epochs: 100%|██████████| 13/13 [00:41<00:00,  3.21s/it]\n",
            "[I 2024-03-12 19:45:47,685] Trial 3 finished with value: 0.8783018867924528 and parameters: {'learning_rate': 0.002481580612173, 'batch_size': 64, 'n_layers': 1, 'n_units': 52, 'dropout_prob': 0.10374567505647281, 'activation': 'LeakyReLU', 'weight_init_method': 'xavier', 'optimizer': 'RMSprop', 'use_early_stopping': False, 'patience': 5, 'epochs': 13, 'cnn_kernel': 2, 'cnn_stride': 2, 'cnn_padding': 3, 'cnn_channel': 64}. Best is trial 3 with value: 0.8783018867924528.\n"
          ]
        },
        {
          "output_type": "stream",
          "name": "stdout",
          "text": [
            "Training acc = 0.9527122641509433 , Val acc = 0.8783018867924528\n"
          ]
        },
        {
          "output_type": "stream",
          "name": "stderr",
          "text": [
            "Epochs: 100%|██████████| 18/18 [00:51<00:00,  2.88s/it]\n",
            "[I 2024-03-12 19:46:39,579] Trial 4 finished with value: 0.5377358490566038 and parameters: {'learning_rate': 0.006185839385450872, 'batch_size': 32, 'n_layers': 1, 'n_units': 58, 'dropout_prob': 0.25877189679387813, 'activation': 'LeakyReLU', 'weight_init_method': 'uniform', 'optimizer': 'RMSprop', 'use_early_stopping': False, 'patience': 6, 'epochs': 18, 'cnn_kernel': 1, 'cnn_stride': 1, 'cnn_padding': 0, 'cnn_channel': 64}. Best is trial 3 with value: 0.8783018867924528.\n"
          ]
        },
        {
          "output_type": "stream",
          "name": "stdout",
          "text": [
            "Training acc = 0.9003537735849056 , Val acc = 0.5377358490566038\n"
          ]
        },
        {
          "output_type": "stream",
          "name": "stderr",
          "text": [
            "Epochs:   0%|          | 0/24 [00:03<?, ?it/s]\n",
            "[I 2024-03-12 19:46:43,101] Trial 5 pruned. \n",
            "Epochs:   0%|          | 0/24 [00:02<?, ?it/s]\n",
            "[I 2024-03-12 19:46:45,912] Trial 6 pruned. \n",
            "Epochs: 100%|██████████| 23/23 [01:34<00:00,  4.10s/it]\n",
            "[I 2024-03-12 19:48:20,274] Trial 7 finished with value: 0.5320754716981132 and parameters: {'learning_rate': 1.554019474586251e-05, 'batch_size': 32, 'n_layers': 2, 'n_units': 47, 'dropout_prob': 0.43848775100791176, 'activation': 'ReLU', 'weight_init_method': 'xavier', 'optimizer': 'RMSprop', 'use_early_stopping': True, 'patience': 10, 'epochs': 23, 'cnn_kernel': 2, 'cnn_stride': 1, 'cnn_padding': 3, 'cnn_channel': 128}. Best is trial 3 with value: 0.8783018867924528.\n"
          ]
        },
        {
          "output_type": "stream",
          "name": "stdout",
          "text": [
            "Training acc = 0.9806603773584905 , Val acc = 0.5320754716981132\n"
          ]
        },
        {
          "output_type": "stream",
          "name": "stderr",
          "text": [
            "Epochs:   5%|▍         | 1/21 [00:05<01:40,  5.01s/it]\n",
            "[I 2024-03-12 19:48:25,308] Trial 8 pruned. \n",
            "Epochs: 100%|██████████| 18/18 [01:10<00:00,  3.90s/it]\n",
            "[I 2024-03-12 19:49:35,514] Trial 9 finished with value: 0.7264150943396226 and parameters: {'learning_rate': 1.7032822198384993e-05, 'batch_size': 32, 'n_layers': 1, 'n_units': 87, 'dropout_prob': 0.03383614793489409, 'activation': 'LeakyReLU', 'weight_init_method': 'normal', 'optimizer': 'Adam', 'use_early_stopping': False, 'patience': 7, 'epochs': 18, 'cnn_kernel': 1, 'cnn_stride': 1, 'cnn_padding': 0, 'cnn_channel': 128}. Best is trial 3 with value: 0.8783018867924528.\n"
          ]
        },
        {
          "output_type": "stream",
          "name": "stdout",
          "text": [
            "Training acc = 0.9853773584905661 , Val acc = 0.7264150943396226\n"
          ]
        },
        {
          "output_type": "stream",
          "name": "stderr",
          "text": [
            "Epochs:   0%|          | 0/10 [00:02<?, ?it/s]\n",
            "[I 2024-03-12 19:49:38,197] Trial 10 pruned. \n",
            "Epochs:   0%|          | 0/14 [00:04<?, ?it/s]\n",
            "[I 2024-03-12 19:49:42,541] Trial 11 pruned. \n",
            "Epochs:   0%|          | 0/13 [00:04<?, ?it/s]\n",
            "[I 2024-03-12 19:49:47,150] Trial 12 pruned. \n",
            "Epochs:   0%|          | 0/16 [00:04<?, ?it/s]\n",
            "[I 2024-03-12 19:49:51,684] Trial 13 pruned. \n",
            "Epochs:   0%|          | 0/10 [00:02<?, ?it/s]\n",
            "[I 2024-03-12 19:49:54,682] Trial 14 pruned. \n",
            "Epochs:   0%|          | 0/20 [00:02<?, ?it/s]\n",
            "[I 2024-03-12 19:49:57,609] Trial 15 pruned. \n",
            "Epochs:   0%|          | 0/16 [00:03<?, ?it/s]\n",
            "[I 2024-03-12 19:50:01,602] Trial 16 pruned. \n",
            "Epochs:   0%|          | 0/25 [00:00<?, ?it/s]/usr/local/lib/python3.10/dist-packages/optuna/pruners/_percentile.py:19: RuntimeWarning: All-NaN slice encountered\n",
            "  return np.nanmax(values)\n",
            "Epochs:   0%|          | 0/25 [00:03<?, ?it/s]\n",
            "[I 2024-03-12 19:50:05,087] Trial 17 pruned. \n",
            "Epochs:   0%|          | 0/15 [00:05<?, ?it/s]\n",
            "[I 2024-03-12 19:50:10,211] Trial 18 pruned. \n",
            "Epochs: 100%|██████████| 12/12 [00:30<00:00,  2.56s/it]\n",
            "[I 2024-03-12 19:50:41,018] Trial 19 finished with value: 0.7094339622641509 and parameters: {'learning_rate': 5.239270614745558e-05, 'batch_size': 32, 'n_layers': 1, 'n_units': 88, 'dropout_prob': 0.20446249841674075, 'activation': 'ReLU', 'weight_init_method': 'normal', 'optimizer': 'Adam', 'use_early_stopping': False, 'patience': 5, 'epochs': 12, 'cnn_kernel': 3, 'cnn_stride': 3, 'cnn_padding': 0, 'cnn_channel': 32}. Best is trial 3 with value: 0.8783018867924528.\n"
          ]
        },
        {
          "output_type": "stream",
          "name": "stdout",
          "text": [
            "Training acc = 0.9620283018867924 , Val acc = 0.7094339622641509\n",
            "Best trial:\n",
            "  Value:  0.8783018867924528\n",
            "  Params: \n",
            "    learning_rate: 0.002481580612173\n",
            "    batch_size: 64\n",
            "    n_layers: 1\n",
            "    n_units: 52\n",
            "    dropout_prob: 0.10374567505647281\n",
            "    activation: LeakyReLU\n",
            "    weight_init_method: xavier\n",
            "    optimizer: RMSprop\n",
            "    use_early_stopping: False\n",
            "    patience: 5\n",
            "    epochs: 13\n",
            "    cnn_kernel: 2\n",
            "    cnn_stride: 2\n",
            "    cnn_padding: 3\n",
            "    cnn_channel: 64\n"
          ]
        }
      ],
      "source": [
        "# Create Optuna study and run optimization\n",
        "study = optuna.create_study(direction=\"maximize\")  # or \"minimize\" for a loss\n",
        "study.optimize(objective, n_trials=20, timeout=5000)\n",
        "\n",
        "print(\"Best trial:\")\n",
        "trial = study.best_trial\n",
        "print(\"  Value: \", trial.value)\n",
        "\n",
        "print(\"  Params: \")\n",
        "for key, value in trial.params.items():\n",
        "    print(\"    {}: {}\".format(key, value))"
      ]
    },
    {
      "cell_type": "code",
      "execution_count": 49,
      "metadata": {
        "id": "KYGQkwS2qZ5y"
      },
      "outputs": [],
      "source": [
        "train_epoch_loss = []\n",
        "eval_epoch_loss = []"
      ]
    },
    {
      "cell_type": "code",
      "execution_count": 72,
      "metadata": {
        "id": "HPl_pp2HmDI3",
        "colab": {
          "base_uri": "https://localhost:8080/"
        },
        "outputId": "b1376ccf-d92c-44c0-fcc3-f74a9ed0490b"
      },
      "outputs": [
        {
          "output_type": "stream",
          "name": "stdout",
          "text": [
            "----------------------------------------------------------------\n",
            "        Layer (type)               Output Shape         Param #\n",
            "================================================================\n",
            "            Conv1d-1              [-1, 64, 486]          32,064\n",
            "       BatchNorm1d-2              [-1, 64, 486]             128\n",
            "         LeakyReLU-3              [-1, 64, 486]               0\n",
            "         LeakyReLU-4              [-1, 64, 486]               0\n",
            "         MaxPool1d-5              [-1, 64, 243]               0\n",
            "            Conv1d-6              [-1, 64, 123]          20,544\n",
            "       BatchNorm1d-7              [-1, 64, 123]             128\n",
            "         LeakyReLU-8              [-1, 64, 123]               0\n",
            "         LeakyReLU-9              [-1, 64, 123]               0\n",
            "        MaxPool1d-10               [-1, 64, 61]               0\n",
            "           Linear-11                  [-1, 128]         499,840\n",
            "           Linear-12                   [-1, 52]           6,708\n",
            "        LeakyReLU-13                   [-1, 52]               0\n",
            "        LeakyReLU-14                   [-1, 52]               0\n",
            "          Dropout-15                   [-1, 52]               0\n",
            "           Linear-16                    [-1, 2]             106\n",
            "================================================================\n",
            "Total params: 559,518\n",
            "Trainable params: 559,518\n",
            "Non-trainable params: 0\n",
            "----------------------------------------------------------------\n",
            "Input size (MB): 0.37\n",
            "Forward/backward pass size (MB): 1.34\n",
            "Params size (MB): 2.13\n",
            "Estimated Total Size (MB): 3.84\n",
            "----------------------------------------------------------------\n"
          ]
        },
        {
          "output_type": "stream",
          "name": "stderr",
          "text": [
            "Epochs: 100%|██████████| 13/13 [00:37<00:00,  2.90s/it]\n"
          ]
        }
      ],
      "source": [
        "from torchsummary import summary\n",
        "# Retrieve the best parameters\n",
        "best_params = study.best_params\n",
        "# example\n",
        "# best_params = {'learning_rate': 0.00012181579730390829, 'batch_size': 128, 'n_layers': 1, 'n_units': 128,\n",
        "            # 'dropout_prob': 0.48435216549373367, 'activation': 'PReLU', 'weight_init_method': 'normal', 'optimizer': 'SGD',\n",
        "            # 'use_early_stopping': False, 'patience': 8, 'epochs': 12, 'cnn_kernel': 3, 'cnn_stride': 2, 'cnn_padding': 3,\n",
        "            # 'cnn_channel': 32}\n",
        "\n",
        "\n",
        "# Wrap activation functions inside nn.Module subclass\n",
        "if best_params['activation'] == \"ReLU\":\n",
        "    activation =nn.ReLU()\n",
        "elif best_params['activation'] == \"LeakyReLU\":\n",
        "    activation =nn.LeakyReLU()\n",
        "elif best_params['activation'] == \"PReLU\":\n",
        "    activation =nn.PReLU()\n",
        "\n",
        "cnn_kernel = 2 * best_params['cnn_kernel'] + 1\n",
        "\n",
        "# Create an instance of your Network\n",
        "network2 = ConvolutionalNeuralNetwork2(input_dim = max_inp_len, d = d, output_dim=2, n_layers=best_params['n_layers'],\n",
        "                        n_units=best_params['n_units'], dropout_prob=best_params['dropout_prob'], activation=activation,\n",
        "                        optimizer_name=best_params['optimizer'],weight_init_method=best_params['weight_init_method'],\n",
        "                        learning_rate = best_params['learning_rate'],cnn_kernel = cnn_kernel,\n",
        "                        cnn_stride = best_params['cnn_stride'], cnn_padding = best_params['cnn_padding'],\n",
        "                        cnn_channel = best_params['cnn_channel'])\n",
        "\n",
        "optimizer = network2.optimizer\n",
        "epochs = best_params['epochs']\n",
        "hyp_accuracy=study.best_value\n",
        "cond=True\n",
        "\n",
        "# if hyp_accuracy < prev_eval_acc:\n",
        "#     cond=False\n",
        "#     network2=ConvolutionalNeuralNetwork0(d , num_classes=2)\n",
        "#     best_params['use_early_stopping'] = False\n",
        "#     epochs=10\n",
        "#     optimizer = torch.optim.Adam(network.parameters(), lr = 0.001)\n",
        "# # Learning rate scheduler\n",
        "# if lr_schedule == \"step_lr\":\n",
        "#     scheduler = StepLR(optimizer, step_size=5, gamma=0.1)\n",
        "# elif lr_schedule == \"exp_lr\":\n",
        "#     scheduler = ExponentialLR(optimizer, gamma=0.9)\n",
        "\n",
        "# Move the model to the appropriate device\n",
        "network2 = network2.to(device)\n",
        "input_size = (100, 970)  # (channels, width)\n",
        "\n",
        "# Print the model summary\n",
        "summary(network2, input_size=input_size)\n",
        "\n",
        "\n",
        "best_eval_loss = float('inf')\n",
        "no_improvement = 0\n",
        "batch_size = best_params['batch_size']\n",
        "\n",
        "# Define DataLoader instances\n",
        "train_dataloader = DataLoader(train_dataset, batch_size=batch_size, shuffle=True)\n",
        "eval_dataloader = DataLoader(eval_dataset, batch_size=batch_size, shuffle=False)\n",
        "# test_dataloader = DataLoader(test_dataset, batch_size=batch_size, shuffle=False)\n",
        "\n",
        "# Training loop\n",
        "now_eval_acc = 0\n",
        "for epoch in tqdm(range(epochs), desc=\"Epochs\"):\n",
        "    train_loss , train_acc = train_model(network2, criterion, optimizer, train_dataloader, device)\n",
        "    eval_loss, eval_acc = evaluate_model(network2, criterion, eval_dataloader, device)\n",
        "\n",
        "    train_epoch_loss.append(train_loss)\n",
        "    eval_epoch_loss.append(eval_loss)\n",
        "    now_eval_acc = eval_acc\n",
        "    # Early stopping\n",
        "    if best_params['use_early_stopping']:\n",
        "        if eval_loss < best_eval_loss:\n",
        "            best_val_loss = eval_loss\n",
        "            no_improvement = 0\n",
        "        else:\n",
        "            no_improvement += 1\n",
        "            if no_improvement >= best_params['patience']:\n",
        "                break\n"
      ]
    },
    {
      "cell_type": "code",
      "execution_count": 78,
      "metadata": {
        "id": "2NHAGutAmDMS",
        "colab": {
          "base_uri": "https://localhost:8080/",
          "height": 449
        },
        "outputId": "4161fcb6-e69c-4ab8-f395-2196f73630ef"
      },
      "outputs": [
        {
          "output_type": "display_data",
          "data": {
            "text/plain": [
              "<Figure size 640x480 with 1 Axes>"
            ],
            "image/png": "[encoded data removed]"
          },
          "metadata": {}
        }
      ],
      "source": [
        "import matplotlib.pyplot as plt\n",
        "\n",
        "plt.plot(range(epochs), train_epoch_loss, label='train')\n",
        "plt.plot(range(epochs), eval_epoch_loss, label='eval')\n",
        "plt.xlabel('Epoch')\n",
        "plt.ylabel('Loss')\n",
        "plt.legend()\n",
        "plt.show()"
      ]
    },
    {
      "cell_type": "code",
      "execution_count": 95,
      "metadata": {
        "id": "k2ue7pgiWNRi",
        "colab": {
          "base_uri": "https://localhost:8080/"
        },
        "outputId": "7cf5ff30-51ae-4f8f-f489-fda4941a6152"
      },
      "outputs": [
        {
          "output_type": "stream",
          "name": "stdout",
          "text": [
            "1\n"
          ]
        }
      ],
      "source": [
        "# save model\n",
        "filename = \"Cnn_model.pickle\"\n",
        "\n",
        "if prev_eval_acc > now_eval_acc:\n",
        "  print(\"1\")\n",
        "  # pickle.dump(prev_model, open(filename, \"wb\"))\n",
        "  torch.save(prev_model.state_dict(), 'Cnn_model.pth')\n",
        "else:\n",
        "  # pickle.dump(network2, open(filename, \"wb\"))\n",
        "  torch.save(network2.state_dict(), 'Cnn_model.pth')"
      ]
    },
    {
      "cell_type": "code",
      "source": [
        "test_loss, test_acc = evaluate_model(network2, criterion, eval_dataloader, device)\n",
        "print(f\"Accuracy on Eval Data {test_acc}\")"
      ],
      "metadata": {
        "colab": {
          "base_uri": "https://localhost:8080/"
        },
        "id": "BM_KToHeMmTx",
        "outputId": "a219d44d-ea4c-49d0-a693-dc7f67ffc4e4"
      },
      "execution_count": 80,
      "outputs": [
        {
          "output_type": "stream",
          "name": "stdout",
          "text": [
            "Accuracy on Eval Data 0.7226415094339622\n"
          ]
        }
      ]
    },
    {
      "cell_type": "code",
      "source": [
        "import json\n",
        "\n",
        "torch.save(network2.state_dict(), 'Cnn_model.pth')\n",
        "# Assuming best_params is defined\n",
        "with open('Cnn_best_params.json', 'w') as f:\n",
        "    json.dump(best_params, f)"
      ],
      "metadata": {
        "id": "JHIBKcLJ7Dt6"
      },
      "execution_count": 81,
      "outputs": []
    },
    {
      "cell_type": "code",
      "source": [
        "# network2.load_state_dict(torch.load('Cnn_model.pth', map_location=torch.device('cpu')))"
      ],
      "metadata": {
        "id": "7qynOfxh5GyI"
      },
      "execution_count": 82,
      "outputs": []
    },
    {
      "cell_type": "code",
      "source": [
        "test_data = pd.read_csv('test_split.csv')\n",
        "test_labels = test_data['label']\n",
        "test_embedding_matrix = create_embedding_matrix(test_data['tweet'], fasttext_model, max_inp_len)\n",
        "test_dataset = CustomDataset(test_embedding_matrix, test_labels)\n",
        "test_dataloader = DataLoader(test_dataset, batch_size = 32, shuffle = False)"
      ],
      "metadata": {
        "id": "cq_v_DcI4u-z",
        "colab": {
          "base_uri": "https://localhost:8080/"
        },
        "outputId": "10a1a66f-2857-4f9e-d162-1df5d20f26eb"
      },
      "execution_count": 83,
      "outputs": [
        {
          "output_type": "stream",
          "name": "stdout",
          "text": [
            "(1060, 970, 100)\n"
          ]
        }
      ]
    },
    {
      "cell_type": "code",
      "source": [
        "from sklearn.metrics import accuracy_score, classification_report"
      ],
      "metadata": {
        "id": "JR1liwYjVF73"
      },
      "execution_count": 90,
      "outputs": []
    },
    {
      "cell_type": "code",
      "source": [
        "def get_classification_report(model, test_dataloader, device, model_file = \"Cnn\"):\n",
        "    model.eval().to(device)\n",
        "    y_true = []\n",
        "    y_pred = []\n",
        "    with torch.no_grad():\n",
        "        for test_x, test_y in test_dataloader:\n",
        "            test_x, test_y = test_x.to(device), test_y.to(device)\n",
        "\n",
        "            if model_file == \"Cnn\":\n",
        "                outputs = model(test_x.permute(0,2,1))\n",
        "            else:\n",
        "                outputs = model(test_x)\n",
        "            _, predicted = torch.max(outputs.data, 1)\n",
        "            y_true.extend(test_y.cpu().numpy())\n",
        "            y_pred.extend(predicted.cpu().numpy())\n",
        "\n",
        "    accuracy = accuracy_score(y_true, y_pred)\n",
        "    print(f\"{model_file} Accuracy: {accuracy:.4f}\")\n",
        "\n",
        "    # Calculate and print precision, recall, and f1-score\n",
        "    precision = precision_score(y_true, y_pred, average='weighted')\n",
        "    recall = recall_score(y_true, y_pred, average='weighted')\n",
        "    f1 = f1_score(y_true, y_pred, average='weighted')\n",
        "\n",
        "    print(f\"{model_file} Precision: {precision:.4f}\")\n",
        "    print(f\"{model_file} Recall: {recall:.4f}\")\n",
        "    print(f\"{model_file} F1-Score: {f1:.4f}\")\n",
        "\n",
        "    # Print the classification report\n",
        "    print(f\"{model_file} Classification Report:\")\n",
        "    print(classification_report(y_true, y_pred))\n",
        "    print(\"\\n\")"
      ],
      "metadata": {
        "id": "XxqxjBtOVMAo"
      },
      "execution_count": 106,
      "outputs": []
    },
    {
      "cell_type": "code",
      "source": [
        "with open('best_params.json', 'r') as f:\n",
        "    best_params = json.load(f)"
      ],
      "metadata": {
        "id": "dvlqjPxAX4MF"
      },
      "execution_count": null,
      "outputs": []
    },
    {
      "cell_type": "code",
      "source": [
        "best_model = ConvolutionalNeuralNetwork0(d)\n",
        "best_model2 = ConvolutionalNeuralNetwork2(input_dim = max_inp_len, d = d, output_dim=2, n_layers=best_params['n_layers'],\n",
        "                        n_units=best_params['n_units'], dropout_prob=best_params['dropout_prob'], activation=activation,\n",
        "                        optimizer_name=best_params['optimizer'],weight_init_method=best_params['weight_init_method'],\n",
        "                        learning_rate = best_params['learning_rate'],cnn_kernel = cnn_kernel,\n",
        "                        cnn_stride = best_params['cnn_stride'], cnn_padding = best_params['cnn_padding'],\n",
        "                        cnn_channel = best_params['cnn_channel'])\n",
        "try:\n",
        "    best_model.load_state_dict(torch.load('Cnn_model.pth', map_location=torch.device(device)))\n",
        "    get_classification_report(best_model, test_dataloader, device,\"Cnn\")\n",
        "except:\n",
        "    best_model2.load_state_dict(torch.load('Cnn_model.pth', map_location=torch.device(device)))\n",
        "    report = get_classification_report(best_model2, test_dataloader, device,\"Cnn\")\n",
        "    best_model = best_model2"
      ],
      "metadata": {
        "colab": {
          "base_uri": "https://localhost:8080/"
        },
        "id": "PPZiCQ1MRc4x",
        "outputId": "217935c0-d6b6-45c0-e6a8-e30c7d26db99"
      },
      "execution_count": 107,
      "outputs": [
        {
          "output_type": "stream",
          "name": "stdout",
          "text": [
            "Cnn Accuracy: 0.9132\n",
            "Cnn Precision: 0.9181\n",
            "Cnn Recall: 0.9132\n",
            "Cnn F1-Score: 0.9133\n",
            "Cnn Classification Report:\n",
            "              precision    recall  f1-score   support\n",
            "\n",
            "           0       0.87      0.96      0.91       496\n",
            "           1       0.96      0.87      0.91       564\n",
            "\n",
            "    accuracy                           0.91      1060\n",
            "   macro avg       0.92      0.92      0.91      1060\n",
            "weighted avg       0.92      0.91      0.91      1060\n",
            "\n",
            "\n",
            "\n"
          ]
        }
      ]
    },
    {
      "cell_type": "markdown",
      "metadata": {
        "id": "dYrBjHhZHzKF"
      },
      "source": []
    }
  ],
  "metadata": {
    "accelerator": "GPU",
    "colab": {
      "gpuType": "T4",
      "provenance": []
    },
    "kaggle": {
      "accelerator": "none",
      "dataSources": [
        {
          "datasetId": 4515722,
          "sourceId": 7731342,
          "sourceType": "datasetVersion"
        }
      ],
      "dockerImageVersionId": 30664,
      "isGpuEnabled": false,
      "isInternetEnabled": true,
      "language": "python",
      "sourceType": "notebook"
    },
    "kernelspec": {
      "display_name": "Python 3",
      "name": "python3"
    },
    "language_info": {
      "codemirror_mode": {
        "name": "ipython",
        "version": 3
      },
      "file_extension": ".py",
      "mimetype": "text/x-python",
      "name": "python",
      "nbconvert_exporter": "python",
      "pygments_lexer": "ipython3",
      "version": "3.10.13"
    }
  },
  "nbformat": 4,
  "nbformat_minor": 0
}