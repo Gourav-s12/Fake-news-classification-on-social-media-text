{
  "cells": [
    {
      "cell_type": "code",
      "execution_count": 2,
      "metadata": {
        "colab": {
          "base_uri": "https://localhost:8080/"
        },
        "id": "fgoJ2JisGLF6",
        "outputId": "4925310c-ee11-4e32-92bd-023a00ba4bda"
      },
      "outputs": [
        {
          "output_type": "stream",
          "name": "stdout",
          "text": [
            "Requirement already satisfied: optuna in /usr/local/lib/python3.10/dist-packages (3.5.0)\n",
            "Requirement already satisfied: alembic>=1.5.0 in /usr/local/lib/python3.10/dist-packages (from optuna) (1.13.1)\n",
            "Requirement already satisfied: colorlog in /usr/local/lib/python3.10/dist-packages (from optuna) (6.8.2)\n",
            "Requirement already satisfied: numpy in /usr/local/lib/python3.10/dist-packages (from optuna) (1.25.2)\n",
            "Requirement already satisfied: packaging>=20.0 in /usr/local/lib/python3.10/dist-packages (from optuna) (23.2)\n",
            "Requirement already satisfied: sqlalchemy>=1.3.0 in /usr/local/lib/python3.10/dist-packages (from optuna) (2.0.28)\n",
            "Requirement already satisfied: tqdm in /usr/local/lib/python3.10/dist-packages (from optuna) (4.66.2)\n",
            "Requirement already satisfied: PyYAML in /usr/local/lib/python3.10/dist-packages (from optuna) (6.0.1)\n",
            "Requirement already satisfied: Mako in /usr/local/lib/python3.10/dist-packages (from alembic>=1.5.0->optuna) (1.3.2)\n",
            "Requirement already satisfied: typing-extensions>=4 in /usr/local/lib/python3.10/dist-packages (from alembic>=1.5.0->optuna) (4.10.0)\n",
            "Requirement already satisfied: greenlet!=0.4.17 in /usr/local/lib/python3.10/dist-packages (from sqlalchemy>=1.3.0->optuna) (3.0.3)\n",
            "Requirement already satisfied: MarkupSafe>=0.9.2 in /usr/local/lib/python3.10/dist-packages (from Mako->alembic>=1.5.0->optuna) (2.1.5)\n",
            "Requirement already satisfied: fasttext in /usr/local/lib/python3.10/dist-packages (0.9.2)\n",
            "Requirement already satisfied: pybind11>=2.2 in /usr/local/lib/python3.10/dist-packages (from fasttext) (2.11.1)\n",
            "Requirement already satisfied: setuptools>=0.7.0 in /usr/local/lib/python3.10/dist-packages (from fasttext) (67.7.2)\n",
            "Requirement already satisfied: numpy in /usr/local/lib/python3.10/dist-packages (from fasttext) (1.25.2)\n"
          ]
        }
      ],
      "source": [
        "import pandas as pd\n",
        "from sklearn.feature_extraction.text import TfidfVectorizer\n",
        "from sklearn.svm import SVC,LinearSVC\n",
        "from sklearn.metrics import accuracy_score, classification_report\n",
        "from sklearn.model_selection import GridSearchCV\n",
        "from sklearn.metrics import confusion_matrix, accuracy_score, precision_score, recall_score, f1_score\n",
        "import pickle\n",
        "# import torch\n",
        "# import torch.nn as nn\n",
        "# from torch.utils.data import Dataset\n",
        "# from torch.utils.data import DataLoader\n",
        "from tqdm import tqdm\n",
        "! pip install optuna\n",
        "import optuna\n",
        "!pip install fasttext\n",
        "import fasttext"
      ]
    },
    {
      "cell_type": "code",
      "source": [
        "# !pip install torch torchvision torchaudio\n",
        "# !pip install --upgrade torch torchvision torchaudio\n"
      ],
      "metadata": {
        "id": "AhVJto6oBRh4"
      },
      "execution_count": 3,
      "outputs": []
    },
    {
      "cell_type": "code",
      "source": [
        "import torch\n",
        "import torch.nn as nn\n",
        "from torch.utils.data import Dataset\n",
        "from torch.utils.data import DataLoader"
      ],
      "metadata": {
        "id": "BPVW0sToA39I"
      },
      "execution_count": 4,
      "outputs": []
    },
    {
      "cell_type": "markdown",
      "metadata": {
        "id": "hSJJqKE0Hr8N"
      },
      "source": [
        "# task 1 , 2 , 3 (load)"
      ]
    },
    {
      "cell_type": "code",
      "execution_count": 5,
      "metadata": {
        "id": "4LWOSwYDH5ul"
      },
      "outputs": [],
      "source": [
        "train_data = pd.read_csv('train_split.csv')\n",
        "val_data = pd.read_csv('val_split.csv')\n",
        "# test_data = pd.read_csv('test_split.csv')\n",
        "\n",
        "train_labels = train_data['label']\n",
        "val_labels = val_data['label']\n",
        "# test_labels = test_data['label']"
      ]
    },
    {
      "cell_type": "code",
      "execution_count": 6,
      "metadata": {
        "id": "tRPeHw4fqr1l"
      },
      "outputs": [],
      "source": [
        "# Combine train and validation data for fasttext training\n",
        "combined_data = pd.concat([train_data, val_data])\n",
        "\n",
        "# Combine train and validation sentences for fasttext training\n",
        "combined_data_df = pd.concat([train_data, val_data], axis=0)\n",
        "max_inp_len = max(combined_data_df['tweet'].apply(lambda x: len(x.split(\" \"))))"
      ]
    },
    {
      "cell_type": "code",
      "execution_count": 7,
      "metadata": {
        "id": "zc0_CLVLqt_f"
      },
      "outputs": [],
      "source": [
        "combined_data_df[[\"tweet\"]].to_csv('combined_data.txt', header=False, index=False,  encoding='utf-8')"
      ]
    },
    {
      "cell_type": "code",
      "execution_count": 8,
      "metadata": {
        "id": "iS5E4uywquXj"
      },
      "outputs": [],
      "source": [
        "# Specify the path for the fasttext model\n",
        "fasttext_model_path = 'fasttext_model.bin'\n",
        "\n",
        "# Train the FastText model on the combined dataset\n",
        "model = fasttext.train_unsupervised('combined_data.txt', model='skipgram')\n",
        "model.save_model(fasttext_model_path)"
      ]
    },
    {
      "cell_type": "code",
      "execution_count": 9,
      "metadata": {
        "colab": {
          "base_uri": "https://localhost:8080/"
        },
        "id": "v_gXC6x3G46X",
        "outputId": "c14fcb76-6443-4dfe-eade-fde5105609a0"
      },
      "outputs": [
        {
          "output_type": "stream",
          "name": "stderr",
          "text": [
            "Warning : `load_model` does not return WordVectorModel or SupervisedModel any more, but a `FastText` object which is very similar.\n"
          ]
        }
      ],
      "source": [
        "# Specify the path for the fasttext model\n",
        "fasttext_model_path = 'fasttext_model.bin'\n",
        "\n",
        "fasttext_model = fasttext.load_model(fasttext_model_path)"
      ]
    },
    {
      "cell_type": "code",
      "execution_count": 10,
      "metadata": {
        "id": "1h70GEC2KvQt"
      },
      "outputs": [],
      "source": [
        "import numpy as np\n",
        "\n",
        "def create_embedding_matrix(sentences, model, max_inp_len):\n",
        "    embedding_matrix = np.zeros((len(sentences), max_inp_len, model.get_dimension()))\n",
        "\n",
        "    for i, sentence in enumerate(sentences):\n",
        "        tokens = sentence.split()[:max_inp_len]\n",
        "        for j, token in enumerate(tokens):\n",
        "            embedding_matrix[i, j, :] = model.get_word_vector(token)\n",
        "\n",
        "    print(embedding_matrix.shape)\n",
        "    return embedding_matrix"
      ]
    },
    {
      "cell_type": "code",
      "execution_count": 11,
      "metadata": {
        "colab": {
          "base_uri": "https://localhost:8080/"
        },
        "id": "AOVfyC8dLI4s",
        "outputId": "6834bba1-3f62-497b-f0c9-7caf6d4fbc4d"
      },
      "outputs": [
        {
          "output_type": "stream",
          "name": "stdout",
          "text": [
            "970 100\n"
          ]
        }
      ],
      "source": [
        "max_inp_len = max(pd.concat([train_data, val_data], axis=0)['tweet'].apply(lambda x: len(x.split(\" \"))))\n",
        "d = fasttext_model.get_dimension()\n",
        "print(max_inp_len , d)"
      ]
    },
    {
      "cell_type": "code",
      "execution_count": 12,
      "metadata": {
        "colab": {
          "base_uri": "https://localhost:8080/"
        },
        "id": "XGUF6MWxJeau",
        "outputId": "1c4022ac-7707-4d7a-9d1d-2baca945343e"
      },
      "outputs": [
        {
          "output_type": "stream",
          "name": "stdout",
          "text": [
            "(8480, 970, 100)\n",
            "(1060, 970, 100)\n"
          ]
        }
      ],
      "source": [
        "\n",
        "# Create embedding matrices for train, val, and test datasets\n",
        "train_embedding_matrix = create_embedding_matrix(train_data['tweet'], fasttext_model, max_inp_len)\n",
        "val_embedding_matrix = create_embedding_matrix(val_data['tweet'], fasttext_model, max_inp_len)\n",
        "# test_embedding_matrix = create_embedding_matrix(test_data['tweet'], fasttext_model, max_inp_len)"
      ]
    },
    {
      "cell_type": "code",
      "execution_count": 13,
      "metadata": {
        "colab": {
          "base_uri": "https://localhost:8080/"
        },
        "id": "eGk_iH1SkD2j",
        "outputId": "fc787005-e89c-422c-ba33-16af724c2cd2"
      },
      "outputs": [
        {
          "output_type": "execute_result",
          "data": {
            "text/plain": [
              "((8480,), (8480, 970, 100))"
            ]
          },
          "metadata": {},
          "execution_count": 13
        }
      ],
      "source": [
        "train_labels.shape , train_embedding_matrix.shape"
      ]
    },
    {
      "cell_type": "code",
      "execution_count": 14,
      "metadata": {
        "colab": {
          "base_uri": "https://localhost:8080/"
        },
        "id": "oh5lDtz2JM__",
        "outputId": "f0dcee78-f634-48f4-c52e-edc2e461c1f9"
      },
      "outputs": [
        {
          "output_type": "execute_result",
          "data": {
            "text/plain": [
              "((1060,), (1060, 970, 100))"
            ]
          },
          "metadata": {},
          "execution_count": 14
        }
      ],
      "source": [
        "val_labels.shape , val_embedding_matrix.shape"
      ]
    },
    {
      "cell_type": "markdown",
      "metadata": {
        "id": "Fa4nt3ALHnkV"
      },
      "source": [
        "# Task 4"
      ]
    },
    {
      "cell_type": "code",
      "execution_count": 15,
      "metadata": {
        "id": "xO71sCcof_bL"
      },
      "outputs": [],
      "source": [
        "class CustomDataset(Dataset):\n",
        "    def __init__(self, X, Y):\n",
        "        # Convert sparse matrix to dense tensor\n",
        "        self.x = torch.tensor(X, dtype=torch.float32)\n",
        "        self.y = torch.tensor(Y, dtype=torch.long)\n",
        "\n",
        "    def __len__(self):\n",
        "        return len(self.y)\n",
        "\n",
        "    def __getitem__(self, idx):\n",
        "        # Add an extra dimension to represent channels (1 in this case)\n",
        "        x_sample = self.x[idx]   # .unsqueeze(0)\n",
        "        return x_sample, self.y[idx]"
      ]
    },
    {
      "cell_type": "code",
      "execution_count": 16,
      "metadata": {
        "id": "fYtWeSVUgVBW"
      },
      "outputs": [],
      "source": [
        "train_dataset = CustomDataset(train_embedding_matrix, train_labels)\n",
        "eval_dataset = CustomDataset(val_embedding_matrix, val_labels)\n",
        "# test_dataset = CustomDataset(test_embedding_matrix, test_labels)"
      ]
    },
    {
      "cell_type": "code",
      "execution_count": 17,
      "metadata": {
        "id": "6tVeq41whaz0"
      },
      "outputs": [],
      "source": [
        "train_dataloader = DataLoader(train_dataset, batch_size = 32, shuffle = True)\n",
        "eval_dataloader = DataLoader(eval_dataset, batch_size = 32, shuffle = False)\n",
        "# test_dataloader = DataLoader(test_dataset, batch_size = 32, shuffle = False)"
      ]
    },
    {
      "cell_type": "code",
      "execution_count": 18,
      "metadata": {
        "colab": {
          "base_uri": "https://localhost:8080/"
        },
        "id": "CKm4VxFvhdYJ",
        "outputId": "1996e83e-91c1-42ca-f254-d28836b61de8"
      },
      "outputs": [
        {
          "output_type": "stream",
          "name": "stdout",
          "text": [
            "torch.Size([32, 970, 100]) torch.Size([32])\n"
          ]
        }
      ],
      "source": [
        "for x, y in train_dataloader:\n",
        "    print(x.shape, y.shape)\n",
        "    break"
      ]
    },
    {
      "cell_type": "code",
      "execution_count": 19,
      "metadata": {
        "id": "Wijkk9mUX4kQ"
      },
      "outputs": [],
      "source": [
        "# train_loader = torch.utils.data.DataLoader(train_dataset,          # our raw data\n",
        "#                                            batch_size=32,  # the size of batches we want the dataloader to return\n",
        "#                                            shuffle=True,           # shuffle our data before batching\n",
        "#                                            drop_last=False)        # don't drop the last batch even if it's smaller than batch_size\n",
        "# imgs, targets = next(iter(train_loader))\n",
        "# imgs.shape"
      ]
    },
    {
      "cell_type": "markdown",
      "metadata": {
        "id": "g_sv7-09hpph"
      },
      "source": [
        "## Basic Network"
      ]
    },
    {
      "cell_type": "code",
      "execution_count": 20,
      "metadata": {
        "colab": {
          "base_uri": "https://localhost:8080/"
        },
        "id": "O7aNAiWbhsx7",
        "outputId": "6f6c9225-3ade-4108-9103-9127593f6f87"
      },
      "outputs": [
        {
          "output_type": "stream",
          "name": "stdout",
          "text": [
            "cuda\n"
          ]
        }
      ],
      "source": [
        "device = \"cuda\" if torch.cuda.is_available() else \"cpu\"\n",
        "print(device)"
      ]
    },
    {
      "cell_type": "markdown",
      "metadata": {
        "id": "JEPcfmQWJ-dr"
      },
      "source": []
    },
    {
      "cell_type": "code",
      "execution_count": 21,
      "metadata": {
        "id": "YJNXYbCRhwJy"
      },
      "outputs": [],
      "source": [
        "import torch.nn as nn\n",
        "\n",
        "class LSTM0(nn.Module):\n",
        "    def __init__(self, input_size, num_layers= 1, output_size =2):\n",
        "        super(LSTM0, self).__init__()\n",
        "\n",
        "        self.lstm = nn.LSTM(input_size, 256, num_layers, batch_first=True, bidirectional=True)\n",
        "        self.fc = nn.Linear(256 * 2, output_size)  # multiplied by 2 for bidirectional LSTM\n",
        "\n",
        "    def forward(self, x):\n",
        "        lstm_out, _ = self.lstm(x)\n",
        "        lstm_out = lstm_out[:, -1, :]  # Take the output from the last time step\n",
        "        x = self.fc(lstm_out)\n",
        "        return x\n"
      ]
    },
    {
      "cell_type": "code",
      "execution_count": 22,
      "metadata": {
        "id": "5AM2oZ_-iuvW"
      },
      "outputs": [],
      "source": [
        "import torch\n",
        "network = LSTM0(input_size=d).to(device)"
      ]
    },
    {
      "cell_type": "code",
      "execution_count": 23,
      "metadata": {
        "id": "Ek5Vekjoiu0C"
      },
      "outputs": [],
      "source": [
        "from torchsummary import summary\n",
        "# Assuming your input data size is (970, 100)\n",
        "# input_size = (100 ,) # (channels, width)\n",
        "\n",
        "# # Print the model summary\n",
        "# summary(network, input_size=d)"
      ]
    },
    {
      "cell_type": "code",
      "execution_count": 24,
      "metadata": {
        "colab": {
          "base_uri": "https://localhost:8080/"
        },
        "id": "S4sPuiZliu3A",
        "outputId": "6916b63b-1615-4690-adb5-02c16e39ed52"
      },
      "outputs": [
        {
          "output_type": "stream",
          "name": "stdout",
          "text": [
            "torch.Size([32, 970, 100]) torch.Size([32])\n"
          ]
        }
      ],
      "source": [
        "batch_x, batch_y = next(iter(train_dataloader))\n",
        "print(batch_x.shape, batch_y.shape)"
      ]
    },
    {
      "cell_type": "markdown",
      "metadata": {
        "id": "GF8b0Gili60M"
      },
      "source": [
        "## Basic Training Loop"
      ]
    },
    {
      "cell_type": "code",
      "execution_count": 25,
      "metadata": {
        "id": "o6caXoVbiu5u"
      },
      "outputs": [],
      "source": [
        "criterion = nn.CrossEntropyLoss()\n",
        "optim = torch.optim.Adam(network.parameters(), lr = 0.001)\n",
        "epochs = 10"
      ]
    },
    {
      "cell_type": "code",
      "execution_count": 26,
      "metadata": {
        "id": "6509b7hPiu7z"
      },
      "outputs": [],
      "source": [
        "train_epoch_loss = []\n",
        "eval_epoch_loss = []"
      ]
    },
    {
      "cell_type": "code",
      "execution_count": 27,
      "metadata": {
        "colab": {
          "base_uri": "https://localhost:8080/"
        },
        "id": "kQT1UUZyiu-b",
        "outputId": "72beaa7b-5466-48cc-c3ee-68cfce94ec27"
      },
      "outputs": [
        {
          "output_type": "stream",
          "name": "stderr",
          "text": [
            "100%|██████████| 10/10 [03:21<00:00, 20.15s/it]\n"
          ]
        }
      ],
      "source": [
        "for epoch in tqdm(range(epochs)):\n",
        "    curr_loss = 0\n",
        "    total = 0\n",
        "    for train_x, train_y in train_dataloader:\n",
        "\n",
        "        train_x = train_x.to(device)\n",
        "        train_y = train_y.to(device)\n",
        "        optim.zero_grad()\n",
        "\n",
        "        y_pred = network(train_x)\n",
        "        loss = criterion(y_pred, train_y)\n",
        "\n",
        "        loss.backward()\n",
        "        optim.step()\n",
        "\n",
        "        curr_loss += loss.item()\n",
        "        total += len(train_y)\n",
        "    train_epoch_loss.append(curr_loss / total)\n",
        "\n",
        "    curr_loss = 0\n",
        "    total = 0\n",
        "    for eval_x, eval_y in eval_dataloader:\n",
        "        eval_x = eval_x.to(device)\n",
        "        eval_y = eval_y.to(device)\n",
        "        optim.zero_grad()\n",
        "\n",
        "        with torch.no_grad():\n",
        "            y_pred = network(eval_x)\n",
        "\n",
        "        loss = criterion(y_pred, eval_y)\n",
        "\n",
        "        curr_loss += loss.item()\n",
        "        total += len(train_y)\n",
        "    eval_epoch_loss.append(curr_loss / total)\n"
      ]
    },
    {
      "cell_type": "code",
      "execution_count": 28,
      "metadata": {
        "id": "4N58Lo0uivA1",
        "colab": {
          "base_uri": "https://localhost:8080/",
          "height": 449
        },
        "outputId": "0d270b1c-5283-47c7-e0e0-60237ea332fd"
      },
      "outputs": [
        {
          "output_type": "display_data",
          "data": {
            "text/plain": [
              "<Figure size 640x480 with 1 Axes>"
            ],
            "image/png": "[encoded data removed]"
          },
          "metadata": {}
        }
      ],
      "source": [
        "import matplotlib.pyplot as plt\n",
        "\n",
        "plt.plot(range(epochs), train_epoch_loss, label='train')\n",
        "plt.plot(range(epochs), eval_epoch_loss, label='eval')\n",
        "plt.xlabel('Epoch')\n",
        "plt.ylabel('Loss')\n",
        "plt.legend()\n",
        "plt.show()"
      ]
    },
    {
      "cell_type": "code",
      "execution_count": 29,
      "metadata": {
        "id": "--jMTpLXivDJ",
        "colab": {
          "base_uri": "https://localhost:8080/"
        },
        "outputId": "8f9d4ea8-20bd-463c-ca4f-8fda6b91b46f"
      },
      "outputs": [
        {
          "output_type": "stream",
          "name": "stdout",
          "text": [
            "Accuracy on Eval Data 50.00\n"
          ]
        }
      ],
      "source": [
        "correct = 0\n",
        "total = 0\n",
        "for x, y in eval_dataloader:\n",
        "    x = x.to(device)\n",
        "    with torch.no_grad():\n",
        "        yp = network(x)\n",
        "    yp = torch.argmax(yp.cpu(), dim = 1)\n",
        "    correct += (yp == y).sum()\n",
        "    total += len(y)\n",
        "prev_eval_acc = correct / total\n",
        "print(f\"Accuracy on Eval Data {(prev_eval_acc * 100):.2f}\")"
      ]
    },
    {
      "cell_type": "code",
      "execution_count": 30,
      "metadata": {
        "id": "gc5ymorcnlht"
      },
      "outputs": [],
      "source": [
        "prev_model = network"
      ]
    },
    {
      "cell_type": "code",
      "execution_count": 31,
      "metadata": {
        "id": "ZbbMiymw992P"
      },
      "outputs": [],
      "source": [
        "# save model\n",
        "torch.save(prev_model.state_dict(), 'lstm_model_p.pth')"
      ]
    },
    {
      "cell_type": "markdown",
      "metadata": {
        "id": "NKp3Kcxhn86w"
      },
      "source": [
        "## now hyperparameter optimization"
      ]
    },
    {
      "cell_type": "code",
      "execution_count": 32,
      "metadata": {
        "id": "_kxYyFtPnkqt",
        "colab": {
          "base_uri": "https://localhost:8080/"
        },
        "outputId": "7a900c96-7237-482d-f239-2bc9c2eddab4"
      },
      "outputs": [
        {
          "output_type": "stream",
          "name": "stdout",
          "text": [
            "Collecting torchmetrics\n",
            "  Downloading torchmetrics-1.3.1-py3-none-any.whl (840 kB)\n",
            "\u001b[2K     \u001b[90m━━━━━━━━━━━━━━━━━━━━━━━━━━━━━━━━━━━━━━━━\u001b[0m \u001b[32m840.4/840.4 kB\u001b[0m \u001b[31m10.2 MB/s\u001b[0m eta \u001b[36m0:00:00\u001b[0m\n",
            "\u001b[?25hRequirement already satisfied: numpy>1.20.0 in /usr/local/lib/python3.10/dist-packages (from torchmetrics) (1.25.2)\n",
            "Requirement already satisfied: packaging>17.1 in /usr/local/lib/python3.10/dist-packages (from torchmetrics) (23.2)\n",
            "Requirement already satisfied: torch>=1.10.0 in /usr/local/lib/python3.10/dist-packages (from torchmetrics) (2.2.1)\n",
            "Collecting lightning-utilities>=0.8.0 (from torchmetrics)\n",
            "  Downloading lightning_utilities-0.10.1-py3-none-any.whl (24 kB)\n",
            "Requirement already satisfied: setuptools in /usr/local/lib/python3.10/dist-packages (from lightning-utilities>=0.8.0->torchmetrics) (67.7.2)\n",
            "Requirement already satisfied: typing-extensions in /usr/local/lib/python3.10/dist-packages (from lightning-utilities>=0.8.0->torchmetrics) (4.10.0)\n",
            "Requirement already satisfied: filelock in /usr/local/lib/python3.10/dist-packages (from torch>=1.10.0->torchmetrics) (3.13.1)\n",
            "Requirement already satisfied: sympy in /usr/local/lib/python3.10/dist-packages (from torch>=1.10.0->torchmetrics) (1.12)\n",
            "Requirement already satisfied: networkx in /usr/local/lib/python3.10/dist-packages (from torch>=1.10.0->torchmetrics) (3.2.1)\n",
            "Requirement already satisfied: jinja2 in /usr/local/lib/python3.10/dist-packages (from torch>=1.10.0->torchmetrics) (3.1.3)\n",
            "Requirement already satisfied: fsspec in /usr/local/lib/python3.10/dist-packages (from torch>=1.10.0->torchmetrics) (2023.6.0)\n",
            "Requirement already satisfied: nvidia-cuda-nvrtc-cu12==12.1.105 in /usr/local/lib/python3.10/dist-packages (from torch>=1.10.0->torchmetrics) (12.1.105)\n",
            "Requirement already satisfied: nvidia-cuda-runtime-cu12==12.1.105 in /usr/local/lib/python3.10/dist-packages (from torch>=1.10.0->torchmetrics) (12.1.105)\n",
            "Requirement already satisfied: nvidia-cuda-cupti-cu12==12.1.105 in /usr/local/lib/python3.10/dist-packages (from torch>=1.10.0->torchmetrics) (12.1.105)\n",
            "Requirement already satisfied: nvidia-cudnn-cu12==8.9.2.26 in /usr/local/lib/python3.10/dist-packages (from torch>=1.10.0->torchmetrics) (8.9.2.26)\n",
            "Requirement already satisfied: nvidia-cublas-cu12==12.1.3.1 in /usr/local/lib/python3.10/dist-packages (from torch>=1.10.0->torchmetrics) (12.1.3.1)\n",
            "Requirement already satisfied: nvidia-cufft-cu12==11.0.2.54 in /usr/local/lib/python3.10/dist-packages (from torch>=1.10.0->torchmetrics) (11.0.2.54)\n",
            "Requirement already satisfied: nvidia-curand-cu12==10.3.2.106 in /usr/local/lib/python3.10/dist-packages (from torch>=1.10.0->torchmetrics) (10.3.2.106)\n",
            "Requirement already satisfied: nvidia-cusolver-cu12==11.4.5.107 in /usr/local/lib/python3.10/dist-packages (from torch>=1.10.0->torchmetrics) (11.4.5.107)\n",
            "Requirement already satisfied: nvidia-cusparse-cu12==12.1.0.106 in /usr/local/lib/python3.10/dist-packages (from torch>=1.10.0->torchmetrics) (12.1.0.106)\n",
            "Requirement already satisfied: nvidia-nccl-cu12==2.19.3 in /usr/local/lib/python3.10/dist-packages (from torch>=1.10.0->torchmetrics) (2.19.3)\n",
            "Requirement already satisfied: nvidia-nvtx-cu12==12.1.105 in /usr/local/lib/python3.10/dist-packages (from torch>=1.10.0->torchmetrics) (12.1.105)\n",
            "Requirement already satisfied: triton==2.2.0 in /usr/local/lib/python3.10/dist-packages (from torch>=1.10.0->torchmetrics) (2.2.0)\n",
            "Requirement already satisfied: nvidia-nvjitlink-cu12 in /usr/local/lib/python3.10/dist-packages (from nvidia-cusolver-cu12==11.4.5.107->torch>=1.10.0->torchmetrics) (12.4.99)\n",
            "Requirement already satisfied: MarkupSafe>=2.0 in /usr/local/lib/python3.10/dist-packages (from jinja2->torch>=1.10.0->torchmetrics) (2.1.5)\n",
            "Requirement already satisfied: mpmath>=0.19 in /usr/local/lib/python3.10/dist-packages (from sympy->torch>=1.10.0->torchmetrics) (1.3.0)\n",
            "Installing collected packages: lightning-utilities, torchmetrics\n",
            "Successfully installed lightning-utilities-0.10.1 torchmetrics-1.3.1\n"
          ]
        }
      ],
      "source": [
        "!pip install torchmetrics\n",
        "from torchmetrics import Accuracy"
      ]
    },
    {
      "cell_type": "code",
      "execution_count": 33,
      "metadata": {
        "id": "Jktq4harhwMp"
      },
      "outputs": [],
      "source": [
        "class LSTM2(nn.Module):\n",
        "    def __init__(self, input_dim, hidden_dim, output_dim =2, num_layers=1, dropout=0.2, bidirectional=False):\n",
        "        super(LSTM2, self).__init__()\n",
        "        self.input_dim = input_dim\n",
        "        self.hidden_dim = hidden_dim\n",
        "        self.output_dim = output_dim\n",
        "        self.num_layers = num_layers\n",
        "        self.dropout = dropout\n",
        "        self.bidirectional = bidirectional\n",
        "\n",
        "        # LSTM layer\n",
        "        self.lstm = nn.LSTM(input_dim, hidden_dim, num_layers=num_layers, batch_first=True, dropout=dropout, bidirectional=bidirectional)\n",
        "\n",
        "        # Fully connected layer\n",
        "        self.fc = nn.Linear(hidden_dim * 2 if bidirectional else hidden_dim, output_dim)\n",
        "\n",
        "    def forward(self, x):\n",
        "        # x: [batch_size, seq_length, input_dim]\n",
        "\n",
        "        # LSTM\n",
        "        lstm_out, _ = self.lstm(x)\n",
        "\n",
        "        # Extract the output of the last time step\n",
        "        last_output = lstm_out[:, -1, :]\n",
        "\n",
        "        # Fully connected layer\n",
        "        out = self.fc(last_output)\n",
        "\n",
        "        return out"
      ]
    },
    {
      "cell_type": "code",
      "execution_count": 34,
      "metadata": {
        "id": "TvTUktp6mDGT"
      },
      "outputs": [],
      "source": [
        "def train_model(model, criterion, optimizer, dataloader, device):\n",
        "    model.train()\n",
        "    total_loss = 0.0\n",
        "    correct_predictions = 0\n",
        "    total_samples = 0\n",
        "\n",
        "    for inputs, targets in dataloader:\n",
        "        inputs, targets = inputs.to(device), targets.to(device)\n",
        "\n",
        "        optimizer.zero_grad()\n",
        "        outputs = model(inputs)\n",
        "        loss = criterion(outputs, targets)\n",
        "\n",
        "        # Calculate accuracy\n",
        "        y_pred = torch.argmax(outputs, dim = 1)\n",
        "        correct_predictions += (y_pred == targets).sum().item()\n",
        "        total_samples += len(targets)\n",
        "\n",
        "        loss.backward()\n",
        "        optimizer.step()\n",
        "\n",
        "        total_loss += loss.item()\n",
        "\n",
        "    accuracy = correct_predictions / total_samples\n",
        "    total_loss /= total_samples\n",
        "    return total_loss, accuracy"
      ]
    },
    {
      "cell_type": "code",
      "execution_count": 35,
      "metadata": {
        "id": "MYqgsJqBWfmT"
      },
      "outputs": [],
      "source": [
        "def evaluate_model(network, criterion, eval_dataloader, device):\n",
        "    network.eval()\n",
        "\n",
        "    total_loss = 0\n",
        "    correct_predictions = 0\n",
        "    total_samples = 0\n",
        "\n",
        "    with torch.no_grad():\n",
        "        for eval_x, eval_y in eval_dataloader:\n",
        "            eval_x = eval_x.to(device)\n",
        "            eval_y = eval_y.to(device)\n",
        "\n",
        "            y_pred = network(eval_x)\n",
        "            loss = criterion(y_pred, eval_y)\n",
        "\n",
        "            total_loss += loss.item()\n",
        "\n",
        "            # Calculate accuracy\n",
        "            y_pred = torch.argmax(y_pred, dim = 1)\n",
        "            correct_predictions += (y_pred == eval_y).sum().item()\n",
        "            total_samples += len(eval_y)\n",
        "\n",
        "    total_loss /= total_samples\n",
        "    accuracy = correct_predictions / total_samples\n",
        "\n",
        "    return total_loss, accuracy"
      ]
    },
    {
      "cell_type": "code",
      "execution_count": 36,
      "metadata": {
        "id": "2tbC4F1me8WC"
      },
      "outputs": [],
      "source": [
        "import optuna\n",
        "from torch.optim.lr_scheduler import StepLR, ExponentialLR\n",
        "from torch.nn.init import xavier_uniform_, kaiming_normal_\n",
        "from torch.optim import Adam, SGD\n",
        "from torch.optim.lr_scheduler import StepLR, ExponentialLR\n",
        "from torch.nn import LeakyReLU, PReLU\n",
        "from torch.utils.data import DataLoader\n",
        "from torch.nn import L1Loss, MSELoss\n",
        "\n",
        "def objective(trial):\n",
        "    # Define hyperparameters to be optimized\n",
        "\n",
        "    hidden_dim = trial.suggest_int('hidden_dim', 64, 256)\n",
        "    num_layers = trial.suggest_int('num_layers', 1, 3)\n",
        "    dropout = trial.suggest_float('dropout', 0.0, 0.4)\n",
        "    bidirectional = trial.suggest_categorical('bidirectional', [True, False])\n",
        "    activation = trial.suggest_categorical(\"activation\", [\"ReLU\", \"LeakyReLU\", \"PReLU\"])\n",
        "    epochs = trial.suggest_int(\"epochs\", 10, 20)\n",
        "\n",
        "    # Instantiate the model with the sampled hyperparameters\n",
        "    network = LSTM2(d, hidden_dim, 2, num_layers, dropout, bidirectional)\n",
        "\n",
        "    optimizer = torch.optim.Adam(network.parameters(), lr = 0.001)\n",
        "\n",
        "    # input_size = (100, 970)  # (channels, width)\n",
        "\n",
        "    # # Print the model summary\n",
        "    # summary(network, input_size=input_size)\n",
        "\n",
        "    # Move the model to the appropriate device\n",
        "    network.to(device)\n",
        "    best_eval_loss = float('inf')\n",
        "    no_improvement = 0\n",
        "    batch_size =32\n",
        "\n",
        "    # Define DataLoader instances\n",
        "    train_dataloader = DataLoader(train_dataset, batch_size=batch_size, shuffle=True)\n",
        "    eval_dataloader = DataLoader(eval_dataset, batch_size=batch_size, shuffle=False)\n",
        "    # test_dataloader = DataLoader(test_dataset, batch_size=batch_size, shuffle=False)\n",
        "\n",
        "    # Training loop\n",
        "    for epoch in tqdm(range(epochs), desc=\"Epochs\"):\n",
        "        train_loss , train_acc = train_model(network, criterion, optimizer, train_dataloader, device)\n",
        "        eval_loss, eval_acc = evaluate_model(network, criterion, eval_dataloader, device)\n",
        "\n",
        "        # Report the validation loss to Optuna for optimization\n",
        "        trial.report(eval_loss, epoch)\n",
        "\n",
        "        # Handle pruning based on the intermediate value\n",
        "        if trial.should_prune():\n",
        "            raise optuna.exceptions.TrialPruned()\n",
        "\n",
        "    print(f\"Training acc = {train_acc} , Val acc = {eval_acc}\")\n",
        "    return eval_acc  # eval_loss\n"
      ]
    },
    {
      "cell_type": "code",
      "execution_count": 37,
      "metadata": {
        "id": "hzSwD7ejzAku",
        "colab": {
          "base_uri": "https://localhost:8080/"
        },
        "outputId": "c00642b3-f30a-4560-ac45-fb7e31bcca32"
      },
      "outputs": [
        {
          "output_type": "stream",
          "name": "stderr",
          "text": [
            "[I 2024-03-13 04:22:58,506] A new study created in memory with name: no-name-9860c18c-3d1d-476f-a2d8-dc64e1656622\n",
            "Epochs: 100%|██████████| 20/20 [15:57<00:00, 47.87s/it]\n",
            "[I 2024-03-13 04:38:55,953] Trial 0 finished with value: 0.5 and parameters: {'hidden_dim': 234, 'num_layers': 2, 'dropout': 0.06918043209522122, 'bidirectional': True, 'activation': 'ReLU', 'epochs': 20}. Best is trial 0 with value: 0.5.\n"
          ]
        },
        {
          "output_type": "stream",
          "name": "stdout",
          "text": [
            "Training acc = 0.5248820754716981 , Val acc = 0.5\n"
          ]
        },
        {
          "output_type": "stream",
          "name": "stderr",
          "text": [
            "Epochs: 100%|██████████| 10/10 [03:56<00:00, 23.64s/it]\n",
            "[I 2024-03-13 04:42:52,406] Trial 1 finished with value: 0.5 and parameters: {'hidden_dim': 228, 'num_layers': 2, 'dropout': 0.32065140391714836, 'bidirectional': False, 'activation': 'PReLU', 'epochs': 10}. Best is trial 0 with value: 0.5.\n"
          ]
        },
        {
          "output_type": "stream",
          "name": "stdout",
          "text": [
            "Training acc = 0.5248820754716981 , Val acc = 0.5\n"
          ]
        },
        {
          "output_type": "stream",
          "name": "stderr",
          "text": [
            "Epochs: 100%|██████████| 11/11 [04:02<00:00, 22.01s/it]\n",
            "[I 2024-03-13 04:46:54,557] Trial 2 finished with value: 0.5 and parameters: {'hidden_dim': 204, 'num_layers': 2, 'dropout': 0.10504357277908444, 'bidirectional': False, 'activation': 'PReLU', 'epochs': 11}. Best is trial 0 with value: 0.5.\n"
          ]
        },
        {
          "output_type": "stream",
          "name": "stdout",
          "text": [
            "Training acc = 0.5248820754716981 , Val acc = 0.5\n"
          ]
        },
        {
          "output_type": "stream",
          "name": "stderr",
          "text": [
            "Epochs: 100%|██████████| 20/20 [01:55<00:00,  5.79s/it]\n",
            "[I 2024-03-13 04:48:50,358] Trial 3 finished with value: 0.5 and parameters: {'hidden_dim': 65, 'num_layers': 3, 'dropout': 0.2939174247564136, 'bidirectional': False, 'activation': 'ReLU', 'epochs': 20}. Best is trial 0 with value: 0.5.\n"
          ]
        },
        {
          "output_type": "stream",
          "name": "stdout",
          "text": [
            "Training acc = 0.5248820754716981 , Val acc = 0.5\n"
          ]
        },
        {
          "output_type": "stream",
          "name": "stderr",
          "text": [
            "Epochs: 100%|██████████| 16/16 [08:15<00:00, 30.97s/it]\n",
            "[I 2024-03-13 04:57:05,948] Trial 4 finished with value: 0.5 and parameters: {'hidden_dim': 135, 'num_layers': 2, 'dropout': 0.31572143020427823, 'bidirectional': False, 'activation': 'PReLU', 'epochs': 16}. Best is trial 0 with value: 0.5.\n"
          ]
        },
        {
          "output_type": "stream",
          "name": "stdout",
          "text": [
            "Training acc = 0.5248820754716981 , Val acc = 0.5\n"
          ]
        },
        {
          "output_type": "stream",
          "name": "stderr",
          "text": [
            "Epochs:   0%|          | 0/19 [01:19<?, ?it/s]\n",
            "[I 2024-03-13 04:58:25,384] Trial 5 pruned. \n",
            "Epochs:   0%|          | 0/12 [00:31<?, ?it/s]\n",
            "[I 2024-03-13 04:58:56,859] Trial 6 pruned. \n",
            "/usr/local/lib/python3.10/dist-packages/torch/nn/modules/rnn.py:83: UserWarning: dropout option adds dropout after all but last recurrent layer, so non-zero dropout expects num_layers greater than 1, but got dropout=0.07627444926263408 and num_layers=1\n",
            "  warnings.warn(\"dropout option adds dropout after all but last \"\n",
            "Epochs:   0%|          | 0/12 [00:25<?, ?it/s]\n",
            "[I 2024-03-13 04:59:22,015] Trial 7 pruned. \n",
            "Epochs: 100%|██████████| 15/15 [01:10<00:00,  4.71s/it]\n",
            "[I 2024-03-13 05:00:32,616] Trial 8 finished with value: 0.5 and parameters: {'hidden_dim': 81, 'num_layers': 2, 'dropout': 0.01048512073007455, 'bidirectional': False, 'activation': 'PReLU', 'epochs': 15}. Best is trial 0 with value: 0.5.\n",
            "/usr/local/lib/python3.10/dist-packages/torch/nn/modules/rnn.py:83: UserWarning: dropout option adds dropout after all but last recurrent layer, so non-zero dropout expects num_layers greater than 1, but got dropout=0.03253258038884144 and num_layers=1\n",
            "  warnings.warn(\"dropout option adds dropout after all but last \"\n"
          ]
        },
        {
          "output_type": "stream",
          "name": "stdout",
          "text": [
            "Training acc = 0.5248820754716981 , Val acc = 0.5\n"
          ]
        },
        {
          "output_type": "stream",
          "name": "stderr",
          "text": [
            "Epochs:   0%|          | 0/11 [00:15<?, ?it/s]\n",
            "[I 2024-03-13 05:00:48,320] Trial 9 pruned. \n"
          ]
        },
        {
          "output_type": "stream",
          "name": "stdout",
          "text": [
            "Best trial:\n",
            "  Value:  0.5\n",
            "  Params: \n",
            "    hidden_dim: 234\n",
            "    num_layers: 2\n",
            "    dropout: 0.06918043209522122\n",
            "    bidirectional: True\n",
            "    activation: ReLU\n",
            "    epochs: 20\n"
          ]
        }
      ],
      "source": [
        "# Create Optuna study and run optimization\n",
        "study = optuna.create_study(direction=\"maximize\")  # or \"minimize\" for a loss\n",
        "study.optimize(objective, n_trials=10, timeout=5000)\n",
        "\n",
        "print(\"Best trial:\")\n",
        "trial = study.best_trial\n",
        "print(\"  Value: \", trial.value)\n",
        "\n",
        "print(\"  Params: \")\n",
        "for key, value in trial.params.items():\n",
        "    print(\"    {}: {}\".format(key, value))"
      ]
    },
    {
      "cell_type": "code",
      "execution_count": 41,
      "metadata": {
        "id": "KYGQkwS2qZ5y"
      },
      "outputs": [],
      "source": [
        "train_epoch_loss = []\n",
        "eval_epoch_loss = []"
      ]
    },
    {
      "cell_type": "code",
      "execution_count": 42,
      "metadata": {
        "id": "HPl_pp2HmDI3",
        "colab": {
          "base_uri": "https://localhost:8080/"
        },
        "outputId": "3407d736-034e-4871-e2bc-d4d84e39f55c"
      },
      "outputs": [
        {
          "output_type": "stream",
          "name": "stderr",
          "text": [
            "Epochs: 100%|██████████| 20/20 [16:02<00:00, 48.12s/it]\n"
          ]
        }
      ],
      "source": [
        "from torchsummary import summary\n",
        "# Retrieve the best parameters\n",
        "best_params = study.best_params\n",
        "# example\n",
        "# best_params = {'learning_rate': 0.007328217711618778, 'batch_size': 32, 'n_layers': 2, 'n_units': 64,\n",
        "#                'dropout_prob': 0.0758288355159868, 'activation': 'PReLU', 'weight_init_method': 'xavier',\n",
        "#                'optimizer': 'RMSprop', 'use_early_stopping': False, 'patience': 8, 'epochs': 19, 'cnn_kernel': 3,\n",
        "#                'cnn_stride': 3, 'cnn_padding': 0, 'cnn_channel': 128}\n",
        "\n",
        "\n",
        "# Create an instance of your Network\n",
        "network2 = LSTM2(d, hidden_dim=best_params['hidden_dim'], output_dim =2, num_layers=best_params['num_layers'], dropout=best_params['dropout'], bidirectional=best_params['bidirectional'])\n",
        "\n",
        "network2.to(device)\n",
        "optimizer = torch.optim.Adam(network2.parameters(), lr = 0.001)\n",
        "\n",
        "# # Learning rate scheduler\n",
        "# if lr_schedule == \"step_lr\":\n",
        "#     scheduler = StepLR(optimizer, step_size=5, gamma=0.1)\n",
        "# elif lr_schedule == \"exp_lr\":\n",
        "#     scheduler = ExponentialLR(optimizer, gamma=0.9)\n",
        "\n",
        "# Move the model to the appropriate device\n",
        "# input_size = (100, 970)  # (channels, width)\n",
        "\n",
        "# # Print the model summary\n",
        "# summary(network2, input_size=input_size)\n",
        "\n",
        "\n",
        "best_eval_loss = float('inf')\n",
        "no_improvement = 0\n",
        "batch_size = 32\n",
        "epochs = best_params['epochs']\n",
        "\n",
        "# Define DataLoader instances\n",
        "train_dataloader = DataLoader(train_dataset, batch_size=batch_size, shuffle=True)\n",
        "eval_dataloader = DataLoader(eval_dataset, batch_size=batch_size, shuffle=False)\n",
        "# test_dataloader = DataLoader(test_dataset, batch_size=batch_size, shuffle=False)\n",
        "\n",
        "# Training loop\n",
        "now_eval_acc = 0\n",
        "for epoch in tqdm(range(epochs), desc=\"Epochs\"):\n",
        "    train_loss , train_acc = train_model(network2, criterion, optimizer, train_dataloader, device)\n",
        "    eval_loss, eval_acc = evaluate_model(network2, criterion, eval_dataloader, device)\n",
        "\n",
        "    train_epoch_loss.append(train_loss)\n",
        "    eval_epoch_loss.append(eval_loss)\n",
        "    now_eval_acc = eval_acc\n"
      ]
    },
    {
      "cell_type": "code",
      "execution_count": 43,
      "metadata": {
        "id": "2NHAGutAmDMS",
        "colab": {
          "base_uri": "https://localhost:8080/",
          "height": 449
        },
        "outputId": "1ab83cf9-cd58-429a-fc6a-98db97bfe88a"
      },
      "outputs": [
        {
          "output_type": "display_data",
          "data": {
            "text/plain": [
              "<Figure size 640x480 with 1 Axes>"
            ],
            "image/png": "[encoded data removed]"
          },
          "metadata": {}
        }
      ],
      "source": [
        "import matplotlib.pyplot as plt\n",
        "\n",
        "plt.plot(range(epochs), train_epoch_loss, label='train')\n",
        "plt.plot(range(epochs), eval_epoch_loss, label='eval')\n",
        "plt.xlabel('Epoch')\n",
        "plt.ylabel('Loss')\n",
        "plt.legend()\n",
        "plt.show()"
      ]
    },
    {
      "cell_type": "code",
      "execution_count": 44,
      "metadata": {
        "id": "dNLAGlHYa2y1",
        "colab": {
          "base_uri": "https://localhost:8080/"
        },
        "outputId": "fd4d0995-499d-46de-ea4c-4877b53b38c6"
      },
      "outputs": [
        {
          "output_type": "stream",
          "name": "stdout",
          "text": [
            "Accuracy on Eval Data 0.5\n"
          ]
        }
      ],
      "source": [
        "test_loss, test_acc = evaluate_model(network2, criterion, eval_dataloader, device)\n",
        "print(f\"Accuracy on Eval Data {test_acc}\")"
      ]
    },
    {
      "cell_type": "code",
      "execution_count": 52,
      "metadata": {
        "id": "k2ue7pgiWNRi"
      },
      "outputs": [],
      "source": [
        "# save model\n",
        "filename = \"lstm_model.pickle\"\n",
        "\n",
        "if prev_eval_acc > now_eval_acc:\n",
        "  print(\"1\")\n",
        "  # pickle.dump(prev_model, open(filename, \"wb\"))\n",
        "  torch.save(prev_model.state_dict(), 'Lstm_model.pth')\n",
        "else:\n",
        "  # pickle.dump(network2, open(filename, \"wb\"))\n",
        "  torch.save(network2.state_dict(), 'Lstm_model.pth')"
      ]
    },
    {
      "cell_type": "code",
      "source": [
        "import json\n",
        "\n",
        "# torch.save(network2.state_dict(), 'Dnn_model.pth')\n",
        "# Assuming best_params is defined\n",
        "with open('Lstm_best_params.json', 'w') as f:\n",
        "    json.dump(best_params, f)"
      ],
      "metadata": {
        "id": "A95qVbzn1zC2"
      },
      "execution_count": 46,
      "outputs": []
    },
    {
      "cell_type": "code",
      "source": [
        "test_data = pd.read_csv('test_split.csv')\n",
        "test_labels = test_data['label']\n",
        "test_embedding_matrix = create_embedding_matrix(test_data['tweet'], fasttext_model, max_inp_len)\n",
        "test_dataset = CustomDataset(test_embedding_matrix, test_labels)\n",
        "test_dataloader = DataLoader(test_dataset, batch_size = 32, shuffle = False)"
      ],
      "metadata": {
        "id": "5EpYgka114B0",
        "colab": {
          "base_uri": "https://localhost:8080/"
        },
        "outputId": "a2b13084-21c3-4509-855d-f785a75292cc"
      },
      "execution_count": 47,
      "outputs": [
        {
          "output_type": "stream",
          "name": "stdout",
          "text": [
            "(1060, 970, 100)\n"
          ]
        }
      ]
    },
    {
      "cell_type": "code",
      "source": [
        "from sklearn.metrics import accuracy_score, classification_report"
      ],
      "metadata": {
        "id": "Oy1GpQYq14FF"
      },
      "execution_count": 48,
      "outputs": []
    },
    {
      "cell_type": "code",
      "source": [
        "def get_classification_report(model, test_dataloader, device, model_file = \"Cnn\"):\n",
        "    model.eval().to(device)\n",
        "    y_true = []\n",
        "    y_pred = []\n",
        "    with torch.no_grad():\n",
        "        for test_x, test_y in test_dataloader:\n",
        "            test_x, test_y = test_x.to(device), test_y.to(device)\n",
        "\n",
        "            if model_file == \"Cnn\":\n",
        "                outputs = model(test_x.permute(0,2,1))\n",
        "            else:\n",
        "                outputs = model(test_x)\n",
        "            _, predicted = torch.max(outputs.data, 1)\n",
        "            y_true.extend(test_y.cpu().numpy())\n",
        "            y_pred.extend(predicted.cpu().numpy())\n",
        "\n",
        "    accuracy = accuracy_score(y_true, y_pred)\n",
        "    print(f\"{model_file} Accuracy: {accuracy:.4f}\")\n",
        "\n",
        "    # Calculate and print precision, recall, and f1-score\n",
        "    precision = precision_score(y_true, y_pred, average='weighted')\n",
        "    recall = recall_score(y_true, y_pred, average='weighted')\n",
        "    f1 = f1_score(y_true, y_pred, average='weighted')\n",
        "\n",
        "    print(f\"{model_file} Precision: {precision:.4f}\")\n",
        "    print(f\"{model_file} Recall: {recall:.4f}\")\n",
        "    print(f\"{model_file} F1-Score: {f1:.4f}\")\n",
        "\n",
        "    # Print the classification report\n",
        "    print(f\"{model_file} Classification Report:\")\n",
        "    print(classification_report(y_true, y_pred))\n",
        "    print(\"\\n\")"
      ],
      "metadata": {
        "id": "XhcQgndr14J9"
      },
      "execution_count": 49,
      "outputs": []
    },
    {
      "cell_type": "code",
      "source": [
        "with open('Lstm_best_params.json', 'r') as f:\n",
        "    best_params = json.load(f)"
      ],
      "metadata": {
        "id": "UDkgvkf514Pg"
      },
      "execution_count": 50,
      "outputs": []
    },
    {
      "cell_type": "code",
      "source": [
        "best_model = LSTM0(input_size=d)\n",
        "best_model2 = LSTM2(d, hidden_dim=best_params['hidden_dim'], output_dim =2, num_layers=best_params['num_layers'], dropout=best_params['dropout'], bidirectional=best_params['bidirectional'])\n",
        "try:\n",
        "    best_model.load_state_dict(torch.load('Lstm_model.pth', map_location=torch.device(device)))\n",
        "    get_classification_report(best_model, test_dataloader, device,\"Lstm\")\n",
        "except:\n",
        "    best_model2.load_state_dict(torch.load('Lstm_model.pth', map_location=torch.device(device)))\n",
        "    report = get_classification_report(best_model2, test_dataloader, device,\"Lstm\")\n",
        "    best_model = best_model2"
      ],
      "metadata": {
        "id": "JP9ukIL114VU",
        "colab": {
          "base_uri": "https://localhost:8080/"
        },
        "outputId": "1cd917e2-d5fb-4b27-9da0-fb92ad4150b3"
      },
      "execution_count": 53,
      "outputs": [
        {
          "output_type": "stream",
          "name": "stdout",
          "text": [
            "Lstm Accuracy: 0.5321\n",
            "Lstm Precision: 0.2831\n",
            "Lstm Recall: 0.5321\n",
            "Lstm F1-Score: 0.3696\n",
            "Lstm Classification Report:\n",
            "              precision    recall  f1-score   support\n",
            "\n",
            "           0       0.00      0.00      0.00       496\n",
            "           1       0.53      1.00      0.69       564\n",
            "\n",
            "    accuracy                           0.53      1060\n",
            "   macro avg       0.27      0.50      0.35      1060\n",
            "weighted avg       0.28      0.53      0.37      1060\n",
            "\n",
            "\n",
            "\n"
          ]
        },
        {
          "output_type": "stream",
          "name": "stderr",
          "text": [
            "/usr/local/lib/python3.10/dist-packages/sklearn/metrics/_classification.py:1344: UndefinedMetricWarning: Precision is ill-defined and being set to 0.0 in labels with no predicted samples. Use `zero_division` parameter to control this behavior.\n",
            "  _warn_prf(average, modifier, msg_start, len(result))\n",
            "/usr/local/lib/python3.10/dist-packages/sklearn/metrics/_classification.py:1344: UndefinedMetricWarning: Precision and F-score are ill-defined and being set to 0.0 in labels with no predicted samples. Use `zero_division` parameter to control this behavior.\n",
            "  _warn_prf(average, modifier, msg_start, len(result))\n",
            "/usr/local/lib/python3.10/dist-packages/sklearn/metrics/_classification.py:1344: UndefinedMetricWarning: Precision and F-score are ill-defined and being set to 0.0 in labels with no predicted samples. Use `zero_division` parameter to control this behavior.\n",
            "  _warn_prf(average, modifier, msg_start, len(result))\n",
            "/usr/local/lib/python3.10/dist-packages/sklearn/metrics/_classification.py:1344: UndefinedMetricWarning: Precision and F-score are ill-defined and being set to 0.0 in labels with no predicted samples. Use `zero_division` parameter to control this behavior.\n",
            "  _warn_prf(average, modifier, msg_start, len(result))\n"
          ]
        }
      ]
    },
    {
      "cell_type": "markdown",
      "metadata": {
        "id": "dYrBjHhZHzKF"
      },
      "source": []
    }
  ],
  "metadata": {
    "colab": {
      "provenance": [],
      "gpuType": "T4"
    },
    "kaggle": {
      "accelerator": "none",
      "dataSources": [
        {
          "datasetId": 4515722,
          "sourceId": 7731342,
          "sourceType": "datasetVersion"
        }
      ],
      "dockerImageVersionId": 30664,
      "isGpuEnabled": false,
      "isInternetEnabled": true,
      "language": "python",
      "sourceType": "notebook"
    },
    "kernelspec": {
      "display_name": "Python 3",
      "name": "python3"
    },
    "language_info": {
      "codemirror_mode": {
        "name": "ipython",
        "version": 3
      },
      "file_extension": ".py",
      "mimetype": "text/x-python",
      "name": "python",
      "nbconvert_exporter": "python",
      "pygments_lexer": "ipython3",
      "version": "3.10.13"
    },
    "accelerator": "GPU"
  },
  "nbformat": 4,
  "nbformat_minor": 0
}