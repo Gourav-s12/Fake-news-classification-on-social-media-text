{
  "cells": [
    {
      "cell_type": "code",
      "execution_count": 1,
      "metadata": {
        "colab": {
          "base_uri": "https://localhost:8080/"
        },
        "id": "fgoJ2JisGLF6",
        "outputId": "35fb6e72-c97b-4a5d-a3d9-74cbf9761bb3"
      },
      "outputs": [
        {
          "output_type": "stream",
          "name": "stdout",
          "text": [
            "Collecting optuna\n",
            "  Downloading optuna-3.5.0-py3-none-any.whl (413 kB)\n",
            "\u001b[2K     \u001b[90m━━━━━━━━━━━━━━━━━━━━━━━━━━━━━━━━━━━━━━━━\u001b[0m \u001b[32m413.4/413.4 kB\u001b[0m \u001b[31m5.3 MB/s\u001b[0m eta \u001b[36m0:00:00\u001b[0m\n",
            "\u001b[?25hCollecting alembic>=1.5.0 (from optuna)\n",
            "  Downloading alembic-1.13.1-py3-none-any.whl (233 kB)\n",
            "\u001b[2K     \u001b[90m━━━━━━━━━━━━━━━━━━━━━━━━━━━━━━━━━━━━━━━━\u001b[0m \u001b[32m233.4/233.4 kB\u001b[0m \u001b[31m9.9 MB/s\u001b[0m eta \u001b[36m0:00:00\u001b[0m\n",
            "\u001b[?25hCollecting colorlog (from optuna)\n",
            "  Downloading colorlog-6.8.2-py3-none-any.whl (11 kB)\n",
            "Requirement already satisfied: numpy in /usr/local/lib/python3.10/dist-packages (from optuna) (1.25.2)\n",
            "Requirement already satisfied: packaging>=20.0 in /usr/local/lib/python3.10/dist-packages (from optuna) (23.2)\n",
            "Requirement already satisfied: sqlalchemy>=1.3.0 in /usr/local/lib/python3.10/dist-packages (from optuna) (2.0.28)\n",
            "Requirement already satisfied: tqdm in /usr/local/lib/python3.10/dist-packages (from optuna) (4.66.2)\n",
            "Requirement already satisfied: PyYAML in /usr/local/lib/python3.10/dist-packages (from optuna) (6.0.1)\n",
            "Collecting Mako (from alembic>=1.5.0->optuna)\n",
            "  Downloading Mako-1.3.2-py3-none-any.whl (78 kB)\n",
            "\u001b[2K     \u001b[90m━━━━━━━━━━━━━━━━━━━━━━━━━━━━━━━━━━━━━━━━\u001b[0m \u001b[32m78.7/78.7 kB\u001b[0m \u001b[31m11.0 MB/s\u001b[0m eta \u001b[36m0:00:00\u001b[0m\n",
            "\u001b[?25hRequirement already satisfied: typing-extensions>=4 in /usr/local/lib/python3.10/dist-packages (from alembic>=1.5.0->optuna) (4.10.0)\n",
            "Requirement already satisfied: greenlet!=0.4.17 in /usr/local/lib/python3.10/dist-packages (from sqlalchemy>=1.3.0->optuna) (3.0.3)\n",
            "Requirement already satisfied: MarkupSafe>=0.9.2 in /usr/local/lib/python3.10/dist-packages (from Mako->alembic>=1.5.0->optuna) (2.1.5)\n",
            "Installing collected packages: Mako, colorlog, alembic, optuna\n",
            "Successfully installed Mako-1.3.2 alembic-1.13.1 colorlog-6.8.2 optuna-3.5.0\n"
          ]
        }
      ],
      "source": [
        "import pandas as pd\n",
        "from sklearn.feature_extraction.text import TfidfVectorizer\n",
        "from sklearn.svm import SVC,LinearSVC\n",
        "from sklearn.metrics import accuracy_score, classification_report\n",
        "from sklearn.model_selection import GridSearchCV\n",
        "from sklearn.metrics import confusion_matrix, accuracy_score, precision_score, recall_score, f1_score\n",
        "import pickle\n",
        "import torch\n",
        "import torch.nn as nn\n",
        "from torch.utils.data import Dataset\n",
        "from torch.utils.data import DataLoader\n",
        "from tqdm import tqdm\n",
        "! pip install optuna\n",
        "import optuna"
      ]
    },
    {
      "cell_type": "markdown",
      "metadata": {
        "id": "hSJJqKE0Hr8N"
      },
      "source": [
        "# task 1 , 2 , 3 (load)"
      ]
    },
    {
      "cell_type": "code",
      "execution_count": 3,
      "metadata": {
        "id": "4LWOSwYDH5ul"
      },
      "outputs": [],
      "source": [
        "with open('tfidf_train_vectors_with_labels.pickle', 'rb') as f:\n",
        "    tfidf_train_vectors, train_labels = pickle.load(f)\n",
        "\n",
        "with open('tfidf_val_vectors_with_labels.pickle', 'rb') as f:\n",
        "    tfidf_val_vectors, val_labels = pickle.load(f)\n"
      ]
    },
    {
      "cell_type": "code",
      "execution_count": 4,
      "metadata": {
        "colab": {
          "base_uri": "https://localhost:8080/"
        },
        "id": "eGk_iH1SkD2j",
        "outputId": "3c53e309-5c10-4485-9eb1-8dc53c51681b"
      },
      "outputs": [
        {
          "output_type": "stream",
          "name": "stdout",
          "text": [
            "(8480,) (8480, 13704)\n",
            "13704\n"
          ]
        }
      ],
      "source": [
        "print(train_labels.values.shape , tfidf_train_vectors.toarray().shape)\n",
        "# train_labels = train_labels.values.flatten()\n",
        "# val_labels  = val_labels.values.flatten()\n",
        "input_dim_x = tfidf_train_vectors.toarray().shape[1]\n",
        "print(input_dim_x)"
      ]
    },
    {
      "cell_type": "markdown",
      "metadata": {
        "id": "Fa4nt3ALHnkV"
      },
      "source": [
        "# Task 4"
      ]
    },
    {
      "cell_type": "code",
      "execution_count": 5,
      "metadata": {
        "id": "xO71sCcof_bL"
      },
      "outputs": [],
      "source": [
        "class CustomDataset(Dataset):\n",
        "    def __init__(self, X, Y):\n",
        "        # Convert sparse matrix to dense tensor\n",
        "        self.x = torch.tensor(X.toarray(), dtype=torch.float32)\n",
        "        self.y = torch.tensor(Y.values.flatten(), dtype=torch.long)\n",
        "\n",
        "    def __len__(self):\n",
        "        return len(self.y)\n",
        "\n",
        "    def __getitem__(self, idx):\n",
        "        return self.x[idx], self.y[idx]"
      ]
    },
    {
      "cell_type": "code",
      "execution_count": 6,
      "metadata": {
        "id": "fYtWeSVUgVBW"
      },
      "outputs": [],
      "source": [
        "train_dataset = CustomDataset(tfidf_train_vectors, train_labels)\n",
        "eval_dataset = CustomDataset(tfidf_val_vectors, val_labels)"
      ]
    },
    {
      "cell_type": "code",
      "execution_count": 7,
      "metadata": {
        "id": "6tVeq41whaz0"
      },
      "outputs": [],
      "source": [
        "train_dataloader = DataLoader(train_dataset, batch_size = 32, shuffle = True)\n",
        "eval_dataloader = DataLoader(eval_dataset, batch_size = 32, shuffle = False)"
      ]
    },
    {
      "cell_type": "code",
      "execution_count": 8,
      "metadata": {
        "colab": {
          "base_uri": "https://localhost:8080/"
        },
        "id": "CKm4VxFvhdYJ",
        "outputId": "6dbf80c6-80f9-4e77-f50d-a5676d237e2a"
      },
      "outputs": [
        {
          "output_type": "stream",
          "name": "stdout",
          "text": [
            "torch.Size([32, 13704]) torch.Size([32])\n"
          ]
        }
      ],
      "source": [
        "for x, y in train_dataloader:\n",
        "    print(x.shape, y.shape)\n",
        "    break"
      ]
    },
    {
      "cell_type": "markdown",
      "metadata": {
        "id": "g_sv7-09hpph"
      },
      "source": [
        "## Basic Network"
      ]
    },
    {
      "cell_type": "code",
      "execution_count": 9,
      "metadata": {
        "colab": {
          "base_uri": "https://localhost:8080/",
          "height": 35
        },
        "id": "O7aNAiWbhsx7",
        "outputId": "65b6c0ed-f002-4718-8dd8-9d164b5df1fb"
      },
      "outputs": [
        {
          "output_type": "execute_result",
          "data": {
            "text/plain": [
              "'cuda'"
            ],
            "application/vnd.google.colaboratory.intrinsic+json": {
              "type": "string"
            }
          },
          "metadata": {},
          "execution_count": 9
        }
      ],
      "source": [
        "device = \"cuda\" if torch.cuda.is_available() else \"cpu\"\n",
        "device"
      ]
    },
    {
      "cell_type": "code",
      "execution_count": 10,
      "metadata": {
        "id": "wh1wF7rs1sUn"
      },
      "outputs": [],
      "source": [
        "# if not torch.cuda.is_available():\n",
        "#     raise RuntimeError(\"CUDA is not available.\")"
      ]
    },
    {
      "cell_type": "code",
      "execution_count": 11,
      "metadata": {
        "id": "YJNXYbCRhwJy"
      },
      "outputs": [],
      "source": [
        "class DeepNeuralNetworkO(nn.Module):\n",
        "  def __init__(self, input_dim = 13704, output_dim = 2):\n",
        "    super().__init__()\n",
        "    self.linear_1 = nn.Linear(13704, 256)\n",
        "    self.activation_1 = nn.ReLU()\n",
        "\n",
        "    self.linear_2 = nn.Linear(256, 64)\n",
        "    self.activation_2 = nn.ReLU()\n",
        "\n",
        "    self.linear_3 = nn.Linear(64, output_dim)\n",
        "\n",
        "  def forward(self, x):\n",
        "    out = self.linear_1(x)\n",
        "    out = self.activation_1(out)\n",
        "\n",
        "    out = self.linear_2(out)\n",
        "    out = self.activation_2(out)\n",
        "\n",
        "    out = self.linear_3(out)\n",
        "\n",
        "    return out"
      ]
    },
    {
      "cell_type": "code",
      "execution_count": 12,
      "metadata": {
        "id": "5AM2oZ_-iuvW"
      },
      "outputs": [],
      "source": [
        "import torch\n",
        "network = DeepNeuralNetworkO(input_dim_x).to(device)"
      ]
    },
    {
      "cell_type": "code",
      "execution_count": 13,
      "metadata": {
        "colab": {
          "base_uri": "https://localhost:8080/"
        },
        "id": "Ek5Vekjoiu0C",
        "outputId": "c3e9269d-4613-4ab1-d3cc-6684ee9bde30"
      },
      "outputs": [
        {
          "output_type": "stream",
          "name": "stdout",
          "text": [
            "----------------------------------------------------------------\n",
            "        Layer (type)               Output Shape         Param #\n",
            "================================================================\n",
            "            Linear-1               [-1, 2, 256]       3,508,480\n",
            "              ReLU-2               [-1, 2, 256]               0\n",
            "            Linear-3                [-1, 2, 64]          16,448\n",
            "              ReLU-4                [-1, 2, 64]               0\n",
            "            Linear-5                 [-1, 2, 2]             130\n",
            "================================================================\n",
            "Total params: 3,525,058\n",
            "Trainable params: 3,525,058\n",
            "Non-trainable params: 0\n",
            "----------------------------------------------------------------\n",
            "Input size (MB): 0.10\n",
            "Forward/backward pass size (MB): 0.01\n",
            "Params size (MB): 13.45\n",
            "Estimated Total Size (MB): 13.56\n",
            "----------------------------------------------------------------\n"
          ]
        }
      ],
      "source": [
        "from torchsummary import summary\n",
        "summary(network, (2, 13704))"
      ]
    },
    {
      "cell_type": "code",
      "execution_count": 14,
      "metadata": {
        "colab": {
          "base_uri": "https://localhost:8080/"
        },
        "id": "S4sPuiZliu3A",
        "outputId": "f7f010d2-a467-464c-b362-190451c5273c"
      },
      "outputs": [
        {
          "output_type": "stream",
          "name": "stdout",
          "text": [
            "torch.Size([32, 13704]) torch.Size([32])\n"
          ]
        }
      ],
      "source": [
        "batch_x, batch_y = next(iter(train_dataloader))\n",
        "print(batch_x.shape, batch_y.shape)"
      ]
    },
    {
      "cell_type": "markdown",
      "metadata": {
        "id": "GF8b0Gili60M"
      },
      "source": [
        "## Basic Training Loop"
      ]
    },
    {
      "cell_type": "code",
      "execution_count": 15,
      "metadata": {
        "id": "o6caXoVbiu5u"
      },
      "outputs": [],
      "source": [
        "criterion = nn.CrossEntropyLoss()\n",
        "optim = torch.optim.Adam(network.parameters(), lr = 0.001)\n",
        "epochs = 10"
      ]
    },
    {
      "cell_type": "code",
      "execution_count": 16,
      "metadata": {
        "id": "6509b7hPiu7z"
      },
      "outputs": [],
      "source": [
        "train_epoch_loss = []\n",
        "eval_epoch_loss = []"
      ]
    },
    {
      "cell_type": "code",
      "execution_count": 17,
      "metadata": {
        "colab": {
          "base_uri": "https://localhost:8080/"
        },
        "id": "kQT1UUZyiu-b",
        "outputId": "0a80e5ad-dbcb-4a74-9460-94718ceb8b46"
      },
      "outputs": [
        {
          "output_type": "stream",
          "name": "stderr",
          "text": [
            "100%|██████████| 10/10 [00:09<00:00,  1.01it/s]\n"
          ]
        }
      ],
      "source": [
        "for epoch in tqdm(range(epochs)):\n",
        "    curr_loss = 0\n",
        "    total = 0\n",
        "    for train_x, train_y in train_dataloader:\n",
        "\n",
        "        train_x = train_x.to(device)\n",
        "        train_y = train_y.to(device)\n",
        "        optim.zero_grad()\n",
        "\n",
        "        y_pred = network(train_x)\n",
        "        loss = criterion(y_pred, train_y)\n",
        "\n",
        "        loss.backward()\n",
        "        optim.step()\n",
        "\n",
        "        curr_loss += loss.item()\n",
        "        total += len(train_y)\n",
        "    train_epoch_loss.append(curr_loss / total)\n",
        "\n",
        "    curr_loss = 0\n",
        "    total = 0\n",
        "    for eval_x, eval_y in eval_dataloader:\n",
        "        eval_x = eval_x.to(device)\n",
        "        eval_y = eval_y.to(device)\n",
        "        optim.zero_grad()\n",
        "\n",
        "        with torch.no_grad():\n",
        "            y_pred = network(eval_x)\n",
        "\n",
        "        loss = criterion(y_pred, eval_y)\n",
        "\n",
        "        curr_loss += loss.item()\n",
        "        total += len(train_y)\n",
        "    eval_epoch_loss.append(curr_loss / total)\n"
      ]
    },
    {
      "cell_type": "code",
      "execution_count": 18,
      "metadata": {
        "colab": {
          "base_uri": "https://localhost:8080/",
          "height": 451
        },
        "id": "4N58Lo0uivA1",
        "outputId": "89e9a4c4-f056-4bfb-c724-a1e6fdd0052c"
      },
      "outputs": [
        {
          "output_type": "display_data",
          "data": {
            "text/plain": [
              "<Figure size 640x480 with 1 Axes>"
            ],
            "image/png": "[encoded data removed]"
          },
          "metadata": {}
        }
      ],
      "source": [
        "import matplotlib.pyplot as plt\n",
        "\n",
        "plt.plot(range(epochs), train_epoch_loss, label='train')\n",
        "plt.plot(range(epochs), eval_epoch_loss, label='eval')\n",
        "plt.xlabel('Epoch')\n",
        "plt.ylabel('Loss')\n",
        "plt.legend()\n",
        "plt.show()"
      ]
    },
    {
      "cell_type": "code",
      "execution_count": 19,
      "metadata": {
        "colab": {
          "base_uri": "https://localhost:8080/"
        },
        "id": "i9UDw7dgkIyD",
        "outputId": "d25a5575-eb8a-4ca5-da57-02cb1f2ddab7"
      },
      "outputs": [
        {
          "output_type": "stream",
          "name": "stdout",
          "text": [
            "Accuracy on Eval Data 93.02\n"
          ]
        }
      ],
      "source": [
        "correct = 0\n",
        "total = 0\n",
        "for x, y in eval_dataloader:\n",
        "    x = x.to(device)\n",
        "    with torch.no_grad():\n",
        "        yp = network(x)\n",
        "    yp = torch.argmax(yp.cpu(), dim = 1)\n",
        "    correct += (yp == y).sum()\n",
        "    total += len(y)\n",
        "prev_eval_acc = correct / total\n",
        "print(f\"Accuracy on Eval Data {(prev_eval_acc * 100):.2f}\")"
      ]
    },
    {
      "cell_type": "code",
      "execution_count": 20,
      "metadata": {
        "id": "BWo9qnCWjcHb"
      },
      "outputs": [],
      "source": [
        "prev_model = network"
      ]
    },
    {
      "cell_type": "markdown",
      "metadata": {
        "id": "NKp3Kcxhn86w"
      },
      "source": [
        "## now hyperparameter optimization"
      ]
    },
    {
      "cell_type": "code",
      "execution_count": 21,
      "metadata": {
        "colab": {
          "base_uri": "https://localhost:8080/"
        },
        "id": "_kxYyFtPnkqt",
        "outputId": "23e0eef5-2c0c-487f-d1e2-b5de4f61541e"
      },
      "outputs": [
        {
          "output_type": "stream",
          "name": "stdout",
          "text": [
            "Collecting torchmetrics\n",
            "  Downloading torchmetrics-1.3.1-py3-none-any.whl (840 kB)\n",
            "\u001b[?25l     \u001b[90m━━━━━━━━━━━━━━━━━━━━━━━━━━━━━━━━━━━━━━━━\u001b[0m \u001b[32m0.0/840.4 kB\u001b[0m \u001b[31m?\u001b[0m eta \u001b[36m-:--:--\u001b[0m\r\u001b[2K     \u001b[91m━━━━━━━━━━━━\u001b[0m\u001b[91m╸\u001b[0m\u001b[90m━━━━━━━━━━━━━━━━━━━━━━━━━━━\u001b[0m \u001b[32m266.2/840.4 kB\u001b[0m \u001b[31m7.8 MB/s\u001b[0m eta \u001b[36m0:00:01\u001b[0m\r\u001b[2K     \u001b[91m━━━━━━━━━━━━━━━━━━━━━━━━━━━━━━━━━━━━━━\u001b[0m\u001b[91m╸\u001b[0m\u001b[90m━\u001b[0m \u001b[32m809.0/840.4 kB\u001b[0m \u001b[31m11.9 MB/s\u001b[0m eta \u001b[36m0:00:01\u001b[0m\r\u001b[2K     \u001b[90m━━━━━━━━━━━━━━━━━━━━━━━━━━━━━━━━━━━━━━━━\u001b[0m \u001b[32m840.4/840.4 kB\u001b[0m \u001b[31m10.6 MB/s\u001b[0m eta \u001b[36m0:00:00\u001b[0m\n",
            "\u001b[?25hRequirement already satisfied: numpy>1.20.0 in /usr/local/lib/python3.10/dist-packages (from torchmetrics) (1.25.2)\n",
            "Requirement already satisfied: packaging>17.1 in /usr/local/lib/python3.10/dist-packages (from torchmetrics) (23.2)\n",
            "Requirement already satisfied: torch>=1.10.0 in /usr/local/lib/python3.10/dist-packages (from torchmetrics) (2.1.0+cu121)\n",
            "Collecting lightning-utilities>=0.8.0 (from torchmetrics)\n",
            "  Downloading lightning_utilities-0.10.1-py3-none-any.whl (24 kB)\n",
            "Requirement already satisfied: setuptools in /usr/local/lib/python3.10/dist-packages (from lightning-utilities>=0.8.0->torchmetrics) (67.7.2)\n",
            "Requirement already satisfied: typing-extensions in /usr/local/lib/python3.10/dist-packages (from lightning-utilities>=0.8.0->torchmetrics) (4.10.0)\n",
            "Requirement already satisfied: filelock in /usr/local/lib/python3.10/dist-packages (from torch>=1.10.0->torchmetrics) (3.13.1)\n",
            "Requirement already satisfied: sympy in /usr/local/lib/python3.10/dist-packages (from torch>=1.10.0->torchmetrics) (1.12)\n",
            "Requirement already satisfied: networkx in /usr/local/lib/python3.10/dist-packages (from torch>=1.10.0->torchmetrics) (3.2.1)\n",
            "Requirement already satisfied: jinja2 in /usr/local/lib/python3.10/dist-packages (from torch>=1.10.0->torchmetrics) (3.1.3)\n",
            "Requirement already satisfied: fsspec in /usr/local/lib/python3.10/dist-packages (from torch>=1.10.0->torchmetrics) (2023.6.0)\n",
            "Requirement already satisfied: triton==2.1.0 in /usr/local/lib/python3.10/dist-packages (from torch>=1.10.0->torchmetrics) (2.1.0)\n",
            "Requirement already satisfied: MarkupSafe>=2.0 in /usr/local/lib/python3.10/dist-packages (from jinja2->torch>=1.10.0->torchmetrics) (2.1.5)\n",
            "Requirement already satisfied: mpmath>=0.19 in /usr/local/lib/python3.10/dist-packages (from sympy->torch>=1.10.0->torchmetrics) (1.3.0)\n",
            "Installing collected packages: lightning-utilities, torchmetrics\n",
            "Successfully installed lightning-utilities-0.10.1 torchmetrics-1.3.1\n"
          ]
        }
      ],
      "source": [
        "!pip install torchmetrics\n",
        "from torchmetrics import Accuracy"
      ]
    },
    {
      "cell_type": "code",
      "execution_count": 22,
      "metadata": {
        "id": "Jktq4harhwMp"
      },
      "outputs": [],
      "source": [
        "import torch.nn.init as init  # Import the init module from PyTorch\n",
        "\n",
        "class DeepNeuralNetwork2(nn.Module):\n",
        "    def __init__(self, input_dim, output_dim, n_layers, n_units, dropout_prob, activation, optimizer_name,weight_init_method, learning_rate):\n",
        "        super(DeepNeuralNetwork2, self).__init__()\n",
        "\n",
        "        layers = []\n",
        "        in_features = input_dim\n",
        "        for i in range(n_layers):\n",
        "            layers.append(nn.Linear(in_features, n_units))\n",
        "            layers.append(activation)\n",
        "            layers.append(nn.Dropout(dropout_prob))\n",
        "            in_features = n_units\n",
        "        layers.append(nn.Linear(in_features, output_dim))\n",
        "\n",
        "        self.layers = nn.Sequential(*layers)\n",
        "        # Initialize optimizer and learning rate scheduler\n",
        "        self.optimizer_name = optimizer_name\n",
        "        self.optimizer = self._get_optimizer(optimizer_name, learning_rate)\n",
        "        self.apply_weight_init(weight_init_method)\n",
        "        # self.scheduler = self._get_lr_scheduler(lr_schedule_name)\n",
        "\n",
        "    def _get_optimizer(self, optimizer_name, learning_rate):\n",
        "        if optimizer_name == 'Adam':\n",
        "            return torch.optim.Adam(self.parameters(), lr=learning_rate)\n",
        "        elif optimizer_name == 'SGD':\n",
        "            return torch.optim.SGD(self.parameters(), lr=learning_rate, momentum=0.9)\n",
        "        elif optimizer_name == 'RMSprop':\n",
        "            return torch.optim.RMSprop(self.parameters(), lr=learning_rate)\n",
        "        else:\n",
        "            raise ValueError(f'Invalid optimizer name: {optimizer_name}')\n",
        "\n",
        "    def apply_weight_init(self, weight_init_method):\n",
        "        if weight_init_method == 'uniform':\n",
        "            init_func = init.uniform_\n",
        "        elif weight_init_method == 'normal':\n",
        "            init_func = init.normal_\n",
        "        elif weight_init_method == 'xavier':\n",
        "            init_func = init.xavier_uniform_\n",
        "        else:\n",
        "            raise ValueError(f'Invalid weight initialization method: {weight_init_method}')\n",
        "        # Apply weight initialization to each linear layer\n",
        "        for module in self.modules():\n",
        "            if isinstance(module, nn.Linear):\n",
        "                init_func(module.weight)\n",
        "                if module.bias is not None:\n",
        "                    init.constant_(module.bias, 0)\n",
        "\n",
        "    def forward(self, x):\n",
        "        return self.layers(x)\n"
      ]
    },
    {
      "cell_type": "code",
      "execution_count": 23,
      "metadata": {
        "id": "TvTUktp6mDGT"
      },
      "outputs": [],
      "source": [
        "def train_model(model, criterion, optimizer, dataloader, device):\n",
        "    model.train()\n",
        "    total_loss = 0.0\n",
        "    correct_predictions = 0\n",
        "    total_samples = 0\n",
        "\n",
        "    for inputs, targets in dataloader:\n",
        "        inputs, targets = inputs.to(device), targets.to(device)\n",
        "\n",
        "        optimizer.zero_grad()\n",
        "        outputs = model(inputs)\n",
        "        loss = criterion(outputs, targets)\n",
        "\n",
        "        # Calculate accuracy\n",
        "        y_pred = torch.argmax(outputs, dim = 1)\n",
        "        correct_predictions += (y_pred == targets).sum().item()\n",
        "        total_samples += len(targets)\n",
        "\n",
        "        loss.backward()\n",
        "        optimizer.step()\n",
        "\n",
        "        total_loss += loss.item()\n",
        "\n",
        "    accuracy = correct_predictions / total_samples\n",
        "    total_loss /= total_samples\n",
        "    return total_loss, accuracy"
      ]
    },
    {
      "cell_type": "code",
      "execution_count": 24,
      "metadata": {
        "id": "MYqgsJqBWfmT"
      },
      "outputs": [],
      "source": [
        "def evaluate_model(network, criterion, eval_dataloader, device):\n",
        "    network.eval()\n",
        "\n",
        "    total_loss = 0\n",
        "    correct_predictions = 0\n",
        "    total_samples = 0\n",
        "\n",
        "    with torch.no_grad():\n",
        "        for eval_x, eval_y in eval_dataloader:\n",
        "            eval_x = eval_x.to(device)\n",
        "            eval_y = eval_y.to(device)\n",
        "\n",
        "            y_pred = network(eval_x)\n",
        "            loss = criterion(y_pred, eval_y)\n",
        "\n",
        "            total_loss += loss.item()\n",
        "\n",
        "            # Calculate accuracy\n",
        "            y_pred = torch.argmax(y_pred, dim = 1)\n",
        "            correct_predictions += (y_pred == eval_y).sum().item()\n",
        "            total_samples += len(eval_y)\n",
        "\n",
        "    total_loss /= total_samples\n",
        "    accuracy = correct_predictions / total_samples\n",
        "\n",
        "    return total_loss, accuracy"
      ]
    },
    {
      "cell_type": "code",
      "execution_count": 25,
      "metadata": {
        "id": "2tbC4F1me8WC"
      },
      "outputs": [],
      "source": [
        "import optuna\n",
        "from torch.optim.lr_scheduler import StepLR, ExponentialLR\n",
        "from torch.nn.init import xavier_uniform_, kaiming_normal_\n",
        "from torch.optim import Adam, SGD\n",
        "from torch.optim.lr_scheduler import StepLR, ExponentialLR\n",
        "from torch.nn import LeakyReLU, PReLU\n",
        "from torch.utils.data import DataLoader\n",
        "from torch.nn import L1Loss, MSELoss\n",
        "\n",
        "def objective(trial):\n",
        "    # Define hyperparameters to be optimized\n",
        "    learning_rate = trial.suggest_float(\"learning_rate\", 1e-5, 1e-1, log=True)\n",
        "    batch_size = trial.suggest_categorical(\"batch_size\", [32, 64, 128])\n",
        "    n_layers = trial.suggest_int(\"n_layers\", 2, 10)\n",
        "    n_units = trial.suggest_int(\"n_units\", 16, 512)\n",
        "    dropout_prob = trial.suggest_float(\"dropout_prob\", 0.0, 0.5)\n",
        "    activation = trial.suggest_categorical(\"activation\", [\"ReLU\", \"LeakyReLU\", \"PReLU\"])\n",
        "    weight_init_method = trial.suggest_categorical(\"weight_init_method\", [\"uniform\", \"normal\", \"xavier\"])\n",
        "    optimizer_choice = trial.suggest_categorical(\"optimizer\", [\"Adam\", \"SGD\", \"RMSprop\"])\n",
        "    # lr_schedule = trial.suggest_categorical(\"lr_schedule\", [\"step_lr\", \"exp_lr\"])\n",
        "    use_early_stopping = trial.suggest_categorical(\"use_early_stopping\", [True, False])\n",
        "    patience = trial.suggest_int(\"patience\", 5, 20)\n",
        "    # gradient_accumulation_steps = trial.suggest_int(\"gradient_accumulation_steps\", 1, 5)\n",
        "    # regularization_strength = trial.suggest_float(\"regularization_strength\", 0.0, 0.1)\n",
        "    epochs = trial.suggest_int(\"epochs\", 10, 40)\n",
        "\n",
        "    # Wrap activation functions inside nn.Module subclass\n",
        "    if activation == \"ReLU\":\n",
        "        activation =nn.ReLU()\n",
        "    elif activation == \"LeakyReLU\":\n",
        "        activation =nn.LeakyReLU()\n",
        "    elif activation == \"PReLU\":\n",
        "        activation =nn.PReLU()\n",
        "    else:\n",
        "        raise ValueError(f'Invalid activation method: {activation}')\n",
        "\n",
        "    # Create an instance of your Network\n",
        "    network = DeepNeuralNetwork2(input_dim=13704, output_dim=2, n_layers=n_layers,\n",
        "                            n_units=n_units, dropout_prob=dropout_prob, activation=activation,\n",
        "                            optimizer_name=optimizer_choice,weight_init_method=weight_init_method, learning_rate = learning_rate)\n",
        "\n",
        "    optimizer = network.optimizer\n",
        "\n",
        "    # Move the model to the appropriate device\n",
        "    network.to(device)\n",
        "    best_eval_loss = float('inf')\n",
        "    no_improvement = 0\n",
        "\n",
        "    # Define DataLoader instances\n",
        "    train_dataloader = DataLoader(train_dataset, batch_size=batch_size, shuffle=True)\n",
        "    eval_dataloader = DataLoader(eval_dataset, batch_size=batch_size, shuffle=False)\n",
        "\n",
        "    # Training loop\n",
        "    for epoch in tqdm(range(epochs), desc=\"Epochs\"):\n",
        "        train_loss , train_acc = train_model(network, criterion, optimizer, train_dataloader, device)\n",
        "        eval_loss, eval_acc = evaluate_model(network, criterion, eval_dataloader, device)\n",
        "\n",
        "        # Report the validation loss to Optuna for optimization\n",
        "        trial.report(eval_loss, epoch)\n",
        "\n",
        "        # Handle pruning based on the intermediate value\n",
        "        if trial.should_prune():\n",
        "            raise optuna.exceptions.TrialPruned()\n",
        "\n",
        "        # Early stopping\n",
        "        if use_early_stopping:\n",
        "            if eval_loss < best_eval_loss:\n",
        "                best_val_loss = eval_loss\n",
        "                no_improvement = 0\n",
        "            else:\n",
        "                no_improvement += 1\n",
        "                if no_improvement >= patience:\n",
        "                    break\n",
        "\n",
        "    print(f\"Training acc = {train_acc} , Val acc = {eval_acc}\")\n",
        "    return eval_acc  # eval_loss\n"
      ]
    },
    {
      "cell_type": "code",
      "execution_count": 26,
      "metadata": {
        "id": "hzSwD7ejzAku",
        "colab": {
          "base_uri": "https://localhost:8080/"
        },
        "outputId": "6c457fd5-f8d8-4c28-cfb1-2684d6ed71cf"
      },
      "outputs": [
        {
          "output_type": "stream",
          "name": "stderr",
          "text": [
            "[I 2024-03-12 20:46:09,620] A new study created in memory with name: no-name-d15d70c8-1858-40be-b195-468aac7caad8\n",
            "Epochs: 100%|██████████| 25/25 [00:44<00:00,  1.80s/it]\n",
            "[I 2024-03-12 20:46:54,536] Trial 0 finished with value: 0.5 and parameters: {'learning_rate': 0.013754039210859102, 'batch_size': 32, 'n_layers': 10, 'n_units': 70, 'dropout_prob': 0.06170672092841051, 'activation': 'LeakyReLU', 'weight_init_method': 'xavier', 'optimizer': 'Adam', 'use_early_stopping': True, 'patience': 16, 'epochs': 25}. Best is trial 0 with value: 0.5.\n"
          ]
        },
        {
          "output_type": "stream",
          "name": "stdout",
          "text": [
            "Training acc = 0.5132075471698113 , Val acc = 0.5\n"
          ]
        },
        {
          "output_type": "stream",
          "name": "stderr",
          "text": [
            "Epochs: 100%|██████████| 15/15 [00:18<00:00,  1.26s/it]\n",
            "[I 2024-03-12 20:47:13,447] Trial 1 finished with value: 0.9283018867924528 and parameters: {'learning_rate': 0.0019468362913090385, 'batch_size': 32, 'n_layers': 7, 'n_units': 192, 'dropout_prob': 0.18688260255500033, 'activation': 'PReLU', 'weight_init_method': 'xavier', 'optimizer': 'RMSprop', 'use_early_stopping': True, 'patience': 17, 'epochs': 15}. Best is trial 1 with value: 0.9283018867924528.\n"
          ]
        },
        {
          "output_type": "stream",
          "name": "stdout",
          "text": [
            "Training acc = 1.0 , Val acc = 0.9283018867924528\n"
          ]
        },
        {
          "output_type": "stream",
          "name": "stderr",
          "text": [
            "Epochs: 100%|██████████| 13/13 [00:08<00:00,  1.44it/s]\n",
            "[I 2024-03-12 20:47:22,536] Trial 2 finished with value: 0.5028301886792453 and parameters: {'learning_rate': 0.00316777217947307, 'batch_size': 64, 'n_layers': 4, 'n_units': 323, 'dropout_prob': 0.045575999186420024, 'activation': 'LeakyReLU', 'weight_init_method': 'uniform', 'optimizer': 'RMSprop', 'use_early_stopping': True, 'patience': 18, 'epochs': 13}. Best is trial 1 with value: 0.9283018867924528.\n"
          ]
        },
        {
          "output_type": "stream",
          "name": "stdout",
          "text": [
            "Training acc = 0.5091981132075472 , Val acc = 0.5028301886792453\n"
          ]
        },
        {
          "output_type": "stream",
          "name": "stderr",
          "text": [
            "Epochs: 100%|██████████| 14/14 [00:08<00:00,  1.70it/s]\n",
            "[I 2024-03-12 20:47:30,861] Trial 3 finished with value: 0.5433962264150943 and parameters: {'learning_rate': 0.00045640879016457233, 'batch_size': 64, 'n_layers': 2, 'n_units': 414, 'dropout_prob': 0.33802960178269553, 'activation': 'PReLU', 'weight_init_method': 'xavier', 'optimizer': 'SGD', 'use_early_stopping': False, 'patience': 6, 'epochs': 14}. Best is trial 1 with value: 0.9283018867924528.\n"
          ]
        },
        {
          "output_type": "stream",
          "name": "stdout",
          "text": [
            "Training acc = 0.586438679245283 , Val acc = 0.5433962264150943\n"
          ]
        },
        {
          "output_type": "stream",
          "name": "stderr",
          "text": [
            "Epochs:  31%|███       | 12/39 [00:14<00:33,  1.24s/it]\n",
            "[I 2024-03-12 20:47:45,763] Trial 4 finished with value: 0.5 and parameters: {'learning_rate': 0.004888704645357558, 'batch_size': 32, 'n_layers': 8, 'n_units': 16, 'dropout_prob': 0.11715056721396855, 'activation': 'PReLU', 'weight_init_method': 'normal', 'optimizer': 'SGD', 'use_early_stopping': True, 'patience': 13, 'epochs': 39}. Best is trial 1 with value: 0.9283018867924528.\n"
          ]
        },
        {
          "output_type": "stream",
          "name": "stdout",
          "text": [
            "Training acc = 0.47511792452830187 , Val acc = 0.5\n"
          ]
        },
        {
          "output_type": "stream",
          "name": "stderr",
          "text": [
            "Epochs:   0%|          | 0/23 [00:00<?, ?it/s]\n",
            "[I 2024-03-12 20:47:46,241] Trial 5 pruned. \n",
            "Epochs: 100%|██████████| 30/30 [00:25<00:00,  1.17it/s]\n",
            "[I 2024-03-12 20:48:11,986] Trial 6 finished with value: 0.9113207547169812 and parameters: {'learning_rate': 0.0006965882332328007, 'batch_size': 64, 'n_layers': 4, 'n_units': 403, 'dropout_prob': 0.22752954393499558, 'activation': 'PReLU', 'weight_init_method': 'normal', 'optimizer': 'Adam', 'use_early_stopping': False, 'patience': 17, 'epochs': 30}. Best is trial 1 with value: 0.9283018867924528.\n"
          ]
        },
        {
          "output_type": "stream",
          "name": "stdout",
          "text": [
            "Training acc = 0.9373820754716982 , Val acc = 0.9113207547169812\n"
          ]
        },
        {
          "output_type": "stream",
          "name": "stderr",
          "text": [
            "Epochs:   0%|          | 0/35 [00:00<?, ?it/s]\n",
            "[I 2024-03-12 20:48:12,697] Trial 7 pruned. \n",
            "Epochs:  91%|█████████▏| 21/23 [00:15<00:01,  1.39it/s]\n",
            "[I 2024-03-12 20:48:27,812] Trial 8 pruned. \n",
            "Epochs:  52%|█████▏    | 15/29 [00:08<00:07,  1.85it/s]\n",
            "[I 2024-03-12 20:48:35,992] Trial 9 pruned. \n",
            "Epochs:  83%|████████▎ | 15/18 [00:17<00:03,  1.19s/it]\n",
            "[I 2024-03-12 20:48:53,976] Trial 10 pruned. \n",
            "Epochs: 100%|██████████| 30/30 [00:51<00:00,  1.73s/it]\n",
            "[I 2024-03-12 20:49:46,165] Trial 11 finished with value: 0.8320754716981132 and parameters: {'learning_rate': 0.0003064994041783398, 'batch_size': 32, 'n_layers': 6, 'n_units': 489, 'dropout_prob': 0.24174263696790968, 'activation': 'PReLU', 'weight_init_method': 'normal', 'optimizer': 'Adam', 'use_early_stopping': False, 'patience': 10, 'epochs': 30}. Best is trial 1 with value: 0.9283018867924528.\n"
          ]
        },
        {
          "output_type": "stream",
          "name": "stdout",
          "text": [
            "Training acc = 0.7445754716981132 , Val acc = 0.8320754716981132\n"
          ]
        },
        {
          "output_type": "stream",
          "name": "stderr",
          "text": [
            "Epochs:   0%|          | 0/18 [00:00<?, ?it/s]\n",
            "[I 2024-03-12 20:49:47,066] Trial 12 pruned. \n",
            "Epochs: 100%|██████████| 32/32 [00:49<00:00,  1.56s/it]\n",
            "[I 2024-03-12 20:50:37,039] Trial 13 finished with value: 0.4962264150943396 and parameters: {'learning_rate': 7.715520136039718e-05, 'batch_size': 32, 'n_layers': 10, 'n_units': 140, 'dropout_prob': 0.3472529093756709, 'activation': 'PReLU', 'weight_init_method': 'normal', 'optimizer': 'Adam', 'use_early_stopping': False, 'patience': 20, 'epochs': 32}. Best is trial 1 with value: 0.9283018867924528.\n"
          ]
        },
        {
          "output_type": "stream",
          "name": "stdout",
          "text": [
            "Training acc = 0.4979952830188679 , Val acc = 0.4962264150943396\n"
          ]
        },
        {
          "output_type": "stream",
          "name": "stderr",
          "text": [
            "Epochs:   0%|          | 0/10 [00:00<?, ?it/s]/usr/local/lib/python3.10/dist-packages/optuna/pruners/_percentile.py:19: RuntimeWarning: All-NaN slice encountered\n",
            "  return np.nanmax(values)\n",
            "Epochs:   0%|          | 0/10 [00:00<?, ?it/s]\n",
            "[I 2024-03-12 20:50:37,714] Trial 14 pruned. \n",
            "Epochs:   0%|          | 0/18 [00:00<?, ?it/s]\n",
            "[I 2024-03-12 20:50:38,681] Trial 15 pruned. \n",
            "Epochs: 100%|██████████| 26/26 [00:39<00:00,  1.53s/it]\n",
            "[I 2024-03-12 20:51:18,585] Trial 16 finished with value: 0.5 and parameters: {'learning_rate': 0.006086326946510178, 'batch_size': 32, 'n_layers': 6, 'n_units': 413, 'dropout_prob': 0.4434852771087706, 'activation': 'ReLU', 'weight_init_method': 'normal', 'optimizer': 'Adam', 'use_early_stopping': True, 'patience': 12, 'epochs': 26}. Best is trial 1 with value: 0.9283018867924528.\n"
          ]
        },
        {
          "output_type": "stream",
          "name": "stdout",
          "text": [
            "Training acc = 0.5166273584905661 , Val acc = 0.5\n"
          ]
        },
        {
          "output_type": "stream",
          "name": "stderr",
          "text": [
            "Epochs:   0%|          | 0/35 [00:01<?, ?it/s]\n",
            "[I 2024-03-12 20:51:19,744] Trial 17 pruned. \n",
            "Epochs:   0%|          | 0/22 [00:00<?, ?it/s]\n",
            "[I 2024-03-12 20:51:20,836] Trial 18 pruned. \n",
            "Epochs:   0%|          | 0/39 [00:00<?, ?it/s]\n",
            "[I 2024-03-12 20:51:21,472] Trial 19 pruned. \n",
            "Epochs:   0%|          | 0/28 [00:00<?, ?it/s]\n",
            "[I 2024-03-12 20:51:22,209] Trial 20 pruned. \n",
            "Epochs: 100%|██████████| 31/31 [00:58<00:00,  1.89s/it]\n",
            "[I 2024-03-12 20:52:20,841] Trial 21 finished with value: 0.7490566037735849 and parameters: {'learning_rate': 0.00034007735489086533, 'batch_size': 32, 'n_layers': 7, 'n_units': 508, 'dropout_prob': 0.23632189833026482, 'activation': 'PReLU', 'weight_init_method': 'normal', 'optimizer': 'Adam', 'use_early_stopping': False, 'patience': 10, 'epochs': 31}. Best is trial 1 with value: 0.9283018867924528.\n"
          ]
        },
        {
          "output_type": "stream",
          "name": "stdout",
          "text": [
            "Training acc = 0.6200471698113208 , Val acc = 0.7490566037735849\n"
          ]
        },
        {
          "output_type": "stream",
          "name": "stderr",
          "text": [
            "Epochs:   0%|          | 0/33 [00:01<?, ?it/s]\n",
            "[I 2024-03-12 20:52:22,452] Trial 22 pruned. \n",
            "Epochs:  93%|█████████▎| 26/28 [00:42<00:03,  1.62s/it]\n",
            "[I 2024-03-12 20:53:04,683] Trial 23 pruned. \n",
            "Epochs:   0%|          | 0/34 [00:01<?, ?it/s]\n",
            "[I 2024-03-12 20:53:06,314] Trial 24 pruned. \n",
            "Epochs: 100%|██████████| 30/30 [00:46<00:00,  1.54s/it]\n",
            "[I 2024-03-12 20:53:52,785] Trial 25 finished with value: 0.5188679245283019 and parameters: {'learning_rate': 0.0006590306548563008, 'batch_size': 32, 'n_layers': 6, 'n_units': 364, 'dropout_prob': 0.30028851993629213, 'activation': 'PReLU', 'weight_init_method': 'normal', 'optimizer': 'Adam', 'use_early_stopping': False, 'patience': 13, 'epochs': 30}. Best is trial 1 with value: 0.9283018867924528.\n"
          ]
        },
        {
          "output_type": "stream",
          "name": "stdout",
          "text": [
            "Training acc = 0.505188679245283 , Val acc = 0.5188679245283019\n"
          ]
        },
        {
          "output_type": "stream",
          "name": "stderr",
          "text": [
            "Epochs:   0%|          | 0/37 [00:01<?, ?it/s]\n",
            "[I 2024-03-12 20:53:54,646] Trial 26 pruned. \n",
            "Epochs:   0%|          | 0/21 [00:00<?, ?it/s]\n",
            "[I 2024-03-12 20:53:55,633] Trial 27 pruned. \n",
            "Epochs:   0%|          | 0/26 [00:00<?, ?it/s]\n",
            "[I 2024-03-12 20:53:56,544] Trial 28 pruned. \n",
            "Epochs:   0%|          | 0/25 [00:00<?, ?it/s]\n",
            "[I 2024-03-12 20:53:57,190] Trial 29 pruned. \n"
          ]
        },
        {
          "output_type": "stream",
          "name": "stdout",
          "text": [
            "Best trial:\n",
            "  Value:  0.9283018867924528\n",
            "  Params: \n",
            "    learning_rate: 0.0019468362913090385\n",
            "    batch_size: 32\n",
            "    n_layers: 7\n",
            "    n_units: 192\n",
            "    dropout_prob: 0.18688260255500033\n",
            "    activation: PReLU\n",
            "    weight_init_method: xavier\n",
            "    optimizer: RMSprop\n",
            "    use_early_stopping: True\n",
            "    patience: 17\n",
            "    epochs: 15\n"
          ]
        }
      ],
      "source": [
        "# Create Optuna study and run optimization\n",
        "study = optuna.create_study(direction=\"maximize\")  # or \"minimize\" for a loss\n",
        "study.optimize(objective, n_trials=30, timeout=5000)\n",
        "\n",
        "print(\"Best trial:\")\n",
        "trial = study.best_trial\n",
        "print(\"  Value: \", trial.value)\n",
        "\n",
        "print(\"  Params: \")\n",
        "for key, value in trial.params.items():\n",
        "    print(\"    {}: {}\".format(key, value))"
      ]
    },
    {
      "cell_type": "code",
      "execution_count": 27,
      "metadata": {
        "id": "KYGQkwS2qZ5y"
      },
      "outputs": [],
      "source": [
        "train_epoch_loss = []\n",
        "eval_epoch_loss = []"
      ]
    },
    {
      "cell_type": "code",
      "execution_count": 28,
      "metadata": {
        "id": "HPl_pp2HmDI3",
        "colab": {
          "base_uri": "https://localhost:8080/"
        },
        "outputId": "57d969e5-bcc3-490a-98ac-1d068587cf78"
      },
      "outputs": [
        {
          "output_type": "stream",
          "name": "stderr",
          "text": [
            "Epochs: 100%|██████████| 15/15 [00:28<00:00,  1.93s/it]\n"
          ]
        }
      ],
      "source": [
        "# Retrieve the best parameters\n",
        "best_params = study.best_params\n",
        "\n",
        "# Wrap activation functions inside nn.Module subclass\n",
        "if best_params['activation'] == \"ReLU\":\n",
        "    activation =nn.ReLU()\n",
        "elif best_params['activation'] == \"LeakyReLU\":\n",
        "    activation =nn.LeakyReLU()\n",
        "elif best_params['activation'] == \"PReLU\":\n",
        "    activation =nn.PReLU()\n",
        "\n",
        "# Create an instance of your Network\n",
        "network2 = DeepNeuralNetwork2(input_dim=13704, output_dim=2, n_layers=best_params['n_layers'],\n",
        "                        n_units=best_params['n_units'], dropout_prob=best_params['dropout_prob'], activation=activation,\n",
        "                        optimizer_name=best_params['optimizer'],weight_init_method=best_params['weight_init_method'], learning_rate = best_params['learning_rate'])\n",
        "\n",
        "optimizer = network2.optimizer\n",
        "\n",
        "epochs = best_params['epochs']\n",
        "hyp_accuracy=study.best_value\n",
        "cond=True\n",
        "\n",
        "# if hyp_accuracy < prev_eval_acc:\n",
        "#     cond=False\n",
        "#     network2=DeepNeuralNetworkO(input_dim_x , 2)\n",
        "#     best_params['use_early_stopping'] = False\n",
        "#     epochs=15\n",
        "#     optimizer = torch.optim.Adam(network.parameters(), lr = 0.001)\n",
        "# # Learning rate scheduler\n",
        "# if lr_schedule == \"step_lr\":\n",
        "#     scheduler = StepLR(optimizer, step_size=5, gamma=0.1)\n",
        "# elif lr_schedule == \"exp_lr\":\n",
        "#     scheduler = ExponentialLR(optimizer, gamma=0.9)\n",
        "\n",
        "# Move the model to the appropriate device\n",
        "network2.to(device)\n",
        "best_eval_loss = float('inf')\n",
        "no_improvement = 0\n",
        "batch_size = best_params['batch_size']\n",
        "\n",
        "# Define DataLoader instances\n",
        "train_dataloader = DataLoader(train_dataset, batch_size=batch_size, shuffle=True)\n",
        "eval_dataloader = DataLoader(eval_dataset, batch_size=batch_size, shuffle=False)\n",
        "\n",
        "# Training loop\n",
        "now_eval_acc = 0\n",
        "for epoch in tqdm(range(epochs), desc=\"Epochs\"):\n",
        "    train_loss , train_acc = train_model(network2, criterion, optimizer, train_dataloader, device)\n",
        "    eval_loss, eval_acc = evaluate_model(network2, criterion, eval_dataloader, device)\n",
        "\n",
        "    train_epoch_loss.append(train_loss)\n",
        "    eval_epoch_loss.append(eval_loss)\n",
        "    now_eval_acc = eval_acc\n",
        "    # Early stopping\n",
        "    if best_params['use_early_stopping']:\n",
        "        if eval_loss < best_eval_loss:\n",
        "            best_val_loss = eval_loss\n",
        "            no_improvement = 0\n",
        "        else:\n",
        "            no_improvement += 1\n",
        "            if no_improvement >= best_params['patience']:\n",
        "                break\n"
      ]
    },
    {
      "cell_type": "code",
      "execution_count": 29,
      "metadata": {
        "id": "2NHAGutAmDMS",
        "colab": {
          "base_uri": "https://localhost:8080/",
          "height": 449
        },
        "outputId": "a1166e97-6095-4096-b975-201ff63f3ff5"
      },
      "outputs": [
        {
          "output_type": "display_data",
          "data": {
            "text/plain": [
              "<Figure size 640x480 with 1 Axes>"
            ],
            "image/png": "[encoded data removed]"
          },
          "metadata": {}
        }
      ],
      "source": [
        "import matplotlib.pyplot as plt\n",
        "\n",
        "plt.plot(range(epochs), train_epoch_loss, label='train')\n",
        "plt.plot(range(epochs), eval_epoch_loss, label='eval')\n",
        "plt.xlabel('Epoch')\n",
        "plt.ylabel('Loss')\n",
        "plt.legend()\n",
        "plt.show()"
      ]
    },
    {
      "cell_type": "code",
      "execution_count": 30,
      "metadata": {
        "id": "5Tf4IhCwmd8z",
        "colab": {
          "base_uri": "https://localhost:8080/"
        },
        "outputId": "d5dbae8e-9c1b-4425-ec87-4b87f2591400"
      },
      "outputs": [
        {
          "output_type": "stream",
          "name": "stdout",
          "text": [
            "Accuracy on Eval Data 0.9273584905660377\n"
          ]
        }
      ],
      "source": [
        "test_loss, test_acc = evaluate_model(network2, criterion, eval_dataloader, device)\n",
        "print(f\"Accuracy on Eval Data {test_acc}\")"
      ]
    },
    {
      "cell_type": "code",
      "execution_count": 31,
      "metadata": {
        "id": "o_TQWCw7SAt4",
        "colab": {
          "base_uri": "https://localhost:8080/"
        },
        "outputId": "d3e26606-8b67-4c71-a3ba-94ce752828bd"
      },
      "outputs": [
        {
          "output_type": "stream",
          "name": "stdout",
          "text": [
            "1\n"
          ]
        }
      ],
      "source": [
        "# save model\n",
        "filename = \"Dnn_model.pickle\"\n",
        "\n",
        "if prev_eval_acc > now_eval_acc:\n",
        "  print(\"1\")\n",
        "  # pickle.dump(prev_model, open(filename, \"wb\"))\n",
        "  torch.save(prev_model.state_dict(), 'Dnn_model.pth')\n",
        "else:\n",
        "  # pickle.dump(network2, open(filename, \"wb\"))\n",
        "  torch.save(network2.state_dict(), 'Dnn_model.pth')"
      ]
    },
    {
      "cell_type": "code",
      "source": [
        "test_loss, test_acc = evaluate_model(network2, criterion, eval_dataloader, device)\n",
        "print(f\"Accuracy on Eval Data {test_acc}\")"
      ],
      "metadata": {
        "colab": {
          "base_uri": "https://localhost:8080/"
        },
        "id": "DYnPBAtiMM0Y",
        "outputId": "215dcf26-4a0f-4080-b45c-daea594ff14b"
      },
      "execution_count": 32,
      "outputs": [
        {
          "output_type": "stream",
          "name": "stdout",
          "text": [
            "Accuracy on Eval Data 0.9273584905660377\n"
          ]
        }
      ]
    },
    {
      "cell_type": "code",
      "source": [
        "import json\n",
        "\n",
        "torch.save(network2.state_dict(), 'Dnn_model.pth')\n",
        "# Assuming best_params is defined\n",
        "with open('Dnn_best_params.json', 'w') as f:\n",
        "    json.dump(best_params, f)"
      ],
      "metadata": {
        "id": "kMD3GDnGZDIF"
      },
      "execution_count": 33,
      "outputs": []
    },
    {
      "cell_type": "code",
      "source": [
        "with open('tfidf_val_vectors_with_labels.pickle', 'rb') as f:\n",
        "    tfidf_test_vectors, test_labels = pickle.load(f)\n",
        "test_dataset = CustomDataset(tfidf_test_vectors, test_labels)\n",
        "test_dataloader = DataLoader(test_dataset, batch_size = 32, shuffle = False)"
      ],
      "metadata": {
        "id": "B7HroxQlZDK8"
      },
      "execution_count": 34,
      "outputs": []
    },
    {
      "cell_type": "code",
      "source": [
        "from sklearn.metrics import accuracy_score, classification_report"
      ],
      "metadata": {
        "id": "1B68B-qZZDNh"
      },
      "execution_count": 35,
      "outputs": []
    },
    {
      "cell_type": "code",
      "source": [
        "def get_classification_report(model, test_dataloader, device, model_file = \"Cnn\"):\n",
        "    model.eval().to(device)\n",
        "    y_true = []\n",
        "    y_pred = []\n",
        "    with torch.no_grad():\n",
        "        for test_x, test_y in test_dataloader:\n",
        "            test_x, test_y = test_x.to(device), test_y.to(device)\n",
        "\n",
        "            if model_file == \"Cnn\":\n",
        "                outputs = model(test_x.permute(0,2,1))\n",
        "            else:\n",
        "                outputs = model(test_x)\n",
        "            _, predicted = torch.max(outputs.data, 1)\n",
        "            y_true.extend(test_y.cpu().numpy())\n",
        "            y_pred.extend(predicted.cpu().numpy())\n",
        "\n",
        "    accuracy = accuracy_score(y_true, y_pred)\n",
        "    print(f\"{model_file} Accuracy: {accuracy:.4f}\")\n",
        "\n",
        "    # Calculate and print precision, recall, and f1-score\n",
        "    precision = precision_score(y_true, y_pred, average='weighted')\n",
        "    recall = recall_score(y_true, y_pred, average='weighted')\n",
        "    f1 = f1_score(y_true, y_pred, average='weighted')\n",
        "\n",
        "    print(f\"{model_file} Precision: {precision:.4f}\")\n",
        "    print(f\"{model_file} Recall: {recall:.4f}\")\n",
        "    print(f\"{model_file} F1-Score: {f1:.4f}\")\n",
        "\n",
        "    # Print the classification report\n",
        "    print(f\"{model_file} Classification Report:\")\n",
        "    print(classification_report(y_true, y_pred))\n",
        "    print(\"\\n\")"
      ],
      "metadata": {
        "id": "56WoYy3UZKLQ"
      },
      "execution_count": 36,
      "outputs": []
    },
    {
      "cell_type": "code",
      "source": [
        "with open('Dnn_best_params.json', 'r') as f:\n",
        "    best_params = json.load(f)"
      ],
      "metadata": {
        "id": "4E2OdV9UZKf0"
      },
      "execution_count": 38,
      "outputs": []
    },
    {
      "cell_type": "code",
      "source": [
        "best_model = DeepNeuralNetworkO(input_dim_x)\n",
        "best_model2 = DeepNeuralNetwork2(input_dim=13704, output_dim=2, n_layers=best_params['n_layers'],\n",
        "                        n_units=best_params['n_units'], dropout_prob=best_params['dropout_prob'], activation=activation,\n",
        "                        optimizer_name=best_params['optimizer'],weight_init_method=best_params['weight_init_method'], learning_rate = best_params['learning_rate'])\n",
        "try:\n",
        "    best_model.load_state_dict(torch.load('Dnn_model.pth', map_location=torch.device(device)))\n",
        "    get_classification_report(best_model, test_dataloader, device,\"Dnn\")\n",
        "except:\n",
        "    best_model2.load_state_dict(torch.load('Dnn_model.pth', map_location=torch.device(device)))\n",
        "    report = get_classification_report(best_model2, test_dataloader, device,\"Dnn\")\n",
        "    best_model = best_model2"
      ],
      "metadata": {
        "colab": {
          "base_uri": "https://localhost:8080/"
        },
        "id": "08AN5kJFZOWZ",
        "outputId": "1166fb1a-3deb-48cb-c052-e203558159a4"
      },
      "execution_count": 39,
      "outputs": [
        {
          "output_type": "stream",
          "name": "stdout",
          "text": [
            "Dnn Accuracy: 0.9274\n",
            "Dnn Precision: 0.9274\n",
            "Dnn Recall: 0.9274\n",
            "Dnn F1-Score: 0.9274\n",
            "Dnn Classification Report:\n",
            "              precision    recall  f1-score   support\n",
            "\n",
            "           0       0.93      0.92      0.93       530\n",
            "           1       0.92      0.93      0.93       530\n",
            "\n",
            "    accuracy                           0.93      1060\n",
            "   macro avg       0.93      0.93      0.93      1060\n",
            "weighted avg       0.93      0.93      0.93      1060\n",
            "\n",
            "\n",
            "\n"
          ]
        }
      ]
    },
    {
      "cell_type": "markdown",
      "metadata": {
        "id": "dYrBjHhZHzKF"
      },
      "source": []
    }
  ],
  "metadata": {
    "accelerator": "GPU",
    "colab": {
      "gpuType": "T4",
      "provenance": []
    },
    "kaggle": {
      "accelerator": "none",
      "dataSources": [
        {
          "datasetId": 4515722,
          "sourceId": 7731342,
          "sourceType": "datasetVersion"
        }
      ],
      "dockerImageVersionId": 30664,
      "isGpuEnabled": false,
      "isInternetEnabled": true,
      "language": "python",
      "sourceType": "notebook"
    },
    "kernelspec": {
      "display_name": "Python 3",
      "name": "python3"
    },
    "language_info": {
      "codemirror_mode": {
        "name": "ipython",
        "version": 3
      },
      "file_extension": ".py",
      "mimetype": "text/x-python",
      "name": "python",
      "nbconvert_exporter": "python",
      "pygments_lexer": "ipython3",
      "version": "3.10.13"
    }
  },
  "nbformat": 4,
  "nbformat_minor": 0
}