{
  "metadata": {
    "colab": {
      "provenance": []
    },
    "kernelspec": {
      "name": "python3",
      "display_name": "Python 3",
      "language": "python"
    },
    "language_info": {
      "name": "python",
      "version": "3.10.13",
      "mimetype": "text/x-python",
      "codemirror_mode": {
        "name": "ipython",
        "version": 3
      },
      "pygments_lexer": "ipython3",
      "nbconvert_exporter": "python",
      "file_extension": ".py"
    },
    "kaggle": {
      "accelerator": "none",
      "dataSources": [
        {
          "sourceId": 7731342,
          "sourceType": "datasetVersion",
          "datasetId": 4515722
        }
      ],
      "dockerImageVersionId": 30664,
      "isInternetEnabled": true,
      "language": "python",
      "sourceType": "notebook",
      "isGpuEnabled": false
    }
  },
  "nbformat_minor": 0,
  "nbformat": 4,
  "cells": [
    {
      "cell_type": "code",
      "source": [
        "import pandas as pd\n",
        "from sklearn.feature_extraction.text import TfidfVectorizer\n",
        "from sklearn.linear_model import LogisticRegression\n",
        "from sklearn.metrics import accuracy_score, classification_report\n",
        "from sklearn.model_selection import GridSearchCV\n",
        "from sklearn.metrics import confusion_matrix, accuracy_score, precision_score, recall_score, f1_score\n",
        "import pickle"
      ],
      "metadata": {
        "id": "fgoJ2JisGLF6",
        "execution": {
          "iopub.status.busy": "2024-02-29T20:14:59.462530Z",
          "iopub.execute_input": "2024-02-29T20:14:59.462875Z",
          "iopub.status.idle": "2024-02-29T20:14:59.468290Z",
          "shell.execute_reply.started": "2024-02-29T20:14:59.462831Z",
          "shell.execute_reply": "2024-02-29T20:14:59.466992Z"
        },
        "trusted": true
      },
      "execution_count": 5,
      "outputs": []
    },
    {
      "cell_type": "markdown",
      "source": [
        "# Task 1 2 3 (load)"
      ],
      "metadata": {
        "id": "Fa4nt3ALHnkV"
      }
    },
    {
      "cell_type": "code",
      "source": [
        "with open('tfidf_train_vectors_with_labels.pickle', 'rb') as f:\n",
        "    tfidf_train_vectors, train_labels = pickle.load(f)\n",
        "\n",
        "with open('tfidf_val_vectors_with_labels.pickle', 'rb') as f:\n",
        "    tfidf_val_vectors, val_labels = pickle.load(f)"
      ],
      "metadata": {
        "id": "4LWOSwYDH5ul",
        "execution": {
          "iopub.status.busy": "2024-02-29T20:14:59.672346Z",
          "iopub.execute_input": "2024-02-29T20:14:59.672710Z",
          "iopub.status.idle": "2024-02-29T20:15:00.071140Z",
          "shell.execute_reply.started": "2024-02-29T20:14:59.672682Z",
          "shell.execute_reply": "2024-02-29T20:15:00.069858Z"
        },
        "trusted": true
      },
      "execution_count": 6,
      "outputs": []
    },
    {
      "cell_type": "markdown",
      "source": [
        "# Task 4"
      ],
      "metadata": {
        "id": "C7OCLyl9KVdK"
      }
    },
    {
      "cell_type": "code",
      "source": [
        "from sklearn.linear_model import LogisticRegression\n",
        "\n",
        "# Initialize and train Logistic Regression model\n",
        "logreg_model = LogisticRegression(random_state=32)\n",
        "logreg_model.fit(tfidf_train_vectors, train_labels)\n",
        "\n",
        "# Predictions on validation and test datasets\n",
        "val_predictions_logreg = logreg_model.predict(tfidf_val_vectors)\n",
        "# test_predictions_logreg = logreg_model.predict(tfidf_test_vectors)\n",
        "\n",
        "# Evaluation\n",
        "val_accuracy_logreg = accuracy_score(val_labels, val_predictions_logreg)\n",
        "print(\"Validation Accuracy (Logistic Regression):\", val_accuracy_logreg)\n",
        "\n",
        "# test_accuracy_logreg = accuracy_score(test_df['label'], test_predictions_logreg)\n",
        "# print(\"Test Accuracy (Logistic Regression):\", test_accuracy_logreg)\n"
      ],
      "metadata": {
        "colab": {
          "base_uri": "https://localhost:8080/"
        },
        "id": "okYWFAfeH_7D",
        "outputId": "38207a3e-7433-42d3-9275-525db793257f",
        "execution": {
          "iopub.status.busy": "2024-02-29T20:15:00.073361Z",
          "iopub.execute_input": "2024-02-29T20:15:00.074198Z",
          "iopub.status.idle": "2024-02-29T20:15:00.196107Z",
          "shell.execute_reply.started": "2024-02-29T20:15:00.074149Z",
          "shell.execute_reply": "2024-02-29T20:15:00.195459Z"
        },
        "trusted": true
      },
      "execution_count": 7,
      "outputs": [
        {
          "output_type": "stream",
          "name": "stdout",
          "text": [
            "Validation Accuracy (Logistic Regression): 0.9339622641509434\n"
          ]
        }
      ]
    },
    {
      "cell_type": "code",
      "source": [
        "from sklearn.linear_model import LogisticRegression\n",
        "from sklearn.model_selection import GridSearchCV\n",
        "\n",
        "# Assuming tfidf_train_vectors and train_df['label'] are your TF-IDF vectors and labels for training\n",
        "parameters_logreg = {\n",
        "    'C': [0.001, 0.01, 0.1, 1],  # Regularization parameter\n",
        "    'penalty': ['l1', 'l2'],  # Regularization penalty\n",
        "    'solver': ['liblinear', 'saga'],  # Solver for optimization problem\n",
        "}\n",
        "\n",
        "logreg_model = LogisticRegression(random_state=42)\n",
        "\n",
        "grid_search_logreg = GridSearchCV(logreg_model, parameters_logreg, cv=5, scoring='accuracy')\n",
        "grid_search_logreg.fit(tfidf_train_vectors, train_labels)  # Fit GridSearchCV to the training data\n",
        "\n",
        "# Get the best hyperparameters\n",
        "best_hyperparameters_logreg = grid_search_logreg.best_params_\n",
        "best_model = grid_search_logreg.best_estimator_  # Get the best model\n",
        "print(\"Best Hyperparameters (Logistic Regression):\", best_hyperparameters_logreg)\n"
      ],
      "metadata": {
        "colab": {
          "base_uri": "https://localhost:8080/"
        },
        "id": "hKqJ6IF1JGjw",
        "outputId": "2bced5e8-f603-4289-e58d-0744a1fef9f8",
        "execution": {
          "iopub.status.busy": "2024-02-29T20:15:00.197012Z",
          "iopub.execute_input": "2024-02-29T20:15:00.197659Z",
          "iopub.status.idle": "2024-02-29T20:15:06.884396Z",
          "shell.execute_reply.started": "2024-02-29T20:15:00.197636Z",
          "shell.execute_reply": "2024-02-29T20:15:06.883340Z"
        },
        "trusted": true
      },
      "execution_count": 8,
      "outputs": [
        {
          "output_type": "stream",
          "name": "stderr",
          "text": [
            "/usr/local/lib/python3.10/dist-packages/sklearn/linear_model/_sag.py:350: ConvergenceWarning: The max_iter was reached which means the coef_ did not converge\n",
            "  warnings.warn(\n",
            "/usr/local/lib/python3.10/dist-packages/sklearn/linear_model/_sag.py:350: ConvergenceWarning: The max_iter was reached which means the coef_ did not converge\n",
            "  warnings.warn(\n",
            "/usr/local/lib/python3.10/dist-packages/sklearn/linear_model/_sag.py:350: ConvergenceWarning: The max_iter was reached which means the coef_ did not converge\n",
            "  warnings.warn(\n",
            "/usr/local/lib/python3.10/dist-packages/sklearn/linear_model/_sag.py:350: ConvergenceWarning: The max_iter was reached which means the coef_ did not converge\n",
            "  warnings.warn(\n",
            "/usr/local/lib/python3.10/dist-packages/sklearn/linear_model/_sag.py:350: ConvergenceWarning: The max_iter was reached which means the coef_ did not converge\n",
            "  warnings.warn(\n"
          ]
        },
        {
          "output_type": "stream",
          "name": "stdout",
          "text": [
            "Best Hyperparameters (Logistic Regression): {'C': 1, 'penalty': 'l2', 'solver': 'saga'}\n"
          ]
        }
      ]
    },
    {
      "cell_type": "code",
      "source": [
        "\n",
        "val_predictions_log = best_model.predict(tfidf_val_vectors)\n",
        "# Evaluation\n",
        "val_accuracy_log = accuracy_score(val_labels, val_predictions_log)\n",
        "print(\"Validation Accuracy (Logistic Regression):\", val_accuracy_log)"
      ],
      "metadata": {
        "colab": {
          "base_uri": "https://localhost:8080/"
        },
        "id": "cSm9zyvPfoRR",
        "outputId": "461e503f-0c12-49c2-e74b-b48ad0cbb4ab"
      },
      "execution_count": 9,
      "outputs": [
        {
          "output_type": "stream",
          "name": "stdout",
          "text": [
            "Validation Accuracy (Logistic Regression): 0.9339622641509434\n"
          ]
        }
      ]
    },
    {
      "cell_type": "code",
      "source": [
        "# save model\n",
        "filename = \"log_model.pickle\"\n",
        "pickle.dump(best_model, open(filename, \"wb\"))"
      ],
      "metadata": {
        "id": "7X2mfeXBJZdE",
        "execution": {
          "iopub.status.busy": "2024-02-29T20:15:06.886218Z",
          "iopub.execute_input": "2024-02-29T20:15:06.886463Z",
          "iopub.status.idle": "2024-02-29T20:15:06.891227Z",
          "shell.execute_reply.started": "2024-02-29T20:15:06.886441Z",
          "shell.execute_reply": "2024-02-29T20:15:06.890358Z"
        },
        "trusted": true
      },
      "execution_count": 10,
      "outputs": []
    },
    {
      "cell_type": "markdown",
      "source": [
        "# Task 5"
      ],
      "metadata": {
        "id": "Kg5W-NyeJa6h"
      }
    },
    {
      "cell_type": "code",
      "source": [
        "# load model\n",
        "loaded_model = pickle.load(open(filename, \"rb\"))"
      ],
      "metadata": {
        "id": "bFa9kEdVJaGQ",
        "execution": {
          "iopub.status.busy": "2024-02-29T20:15:06.892362Z",
          "iopub.execute_input": "2024-02-29T20:15:06.892957Z",
          "iopub.status.idle": "2024-02-29T20:15:06.903426Z",
          "shell.execute_reply.started": "2024-02-29T20:15:06.892923Z",
          "shell.execute_reply": "2024-02-29T20:15:06.902136Z"
        },
        "trusted": true
      },
      "execution_count": 11,
      "outputs": []
    },
    {
      "cell_type": "code",
      "source": [
        "with open('tfidf_test_vectors_with_labels.pickle', 'rb') as f:\n",
        "    tfidf_test_vectors, test_labels = pickle.load(f)"
      ],
      "metadata": {
        "id": "BOwVLIndgAMY"
      },
      "execution_count": 13,
      "outputs": []
    },
    {
      "cell_type": "code",
      "source": [
        "test_predictions = loaded_model.predict(tfidf_test_vectors)\n",
        "\n",
        "y_true = test_labels\n",
        "conf_matrix = confusion_matrix(y_true, test_predictions)\n",
        "accuracy = accuracy_score(y_true, test_predictions)\n",
        "precision = precision_score(y_true, test_predictions, pos_label=1)  # Assuming 'real' is the positive class\n",
        "recall = recall_score(y_true, test_predictions, pos_label=1)  # Assuming 'real' is the positive class\n",
        "f1 = f1_score(y_true, test_predictions, pos_label=1)  # Assuming 'real' is the positive class\n",
        "\n",
        "print(\"Confusion Matrix:\")\n",
        "print(conf_matrix)\n",
        "print(f'Accuracy: {accuracy:.5f}')\n",
        "print(f'Precision: {precision:.5f}')\n",
        "print(f'Recall: {recall:.5f}')\n",
        "print(f'F1-score: {f1:.5f}')\n"
      ],
      "metadata": {
        "colab": {
          "base_uri": "https://localhost:8080/"
        },
        "id": "MdQkcFaQJgjU",
        "outputId": "f97a87d3-37f5-4d83-84c1-f8bfc8d2d24a",
        "execution": {
          "iopub.status.busy": "2024-02-29T20:15:06.904688Z",
          "iopub.execute_input": "2024-02-29T20:15:06.905504Z",
          "iopub.status.idle": "2024-02-29T20:15:06.928599Z",
          "shell.execute_reply.started": "2024-02-29T20:15:06.905439Z",
          "shell.execute_reply": "2024-02-29T20:15:06.927298Z"
        },
        "trusted": true
      },
      "execution_count": 15,
      "outputs": [
        {
          "output_type": "stream",
          "name": "stdout",
          "text": [
            "Confusion Matrix:\n",
            "[[452  44]\n",
            " [ 31 533]]\n",
            "Accuracy: 0.92925\n",
            "Precision: 0.92374\n",
            "Recall: 0.94504\n",
            "F1-score: 0.93427\n"
          ]
        }
      ]
    },
    {
      "cell_type": "code",
      "source": [
        "from sklearn.metrics import classification_report\n",
        "print(classification_report(y_true, test_predictions))"
      ],
      "metadata": {
        "id": "19t87bEyf23D",
        "colab": {
          "base_uri": "https://localhost:8080/"
        },
        "outputId": "5fdc7762-02f4-47c4-a097-1f59b7513c3e"
      },
      "execution_count": 16,
      "outputs": [
        {
          "output_type": "stream",
          "name": "stdout",
          "text": [
            "              precision    recall  f1-score   support\n",
            "\n",
            "           0       0.94      0.91      0.92       496\n",
            "           1       0.92      0.95      0.93       564\n",
            "\n",
            "    accuracy                           0.93      1060\n",
            "   macro avg       0.93      0.93      0.93      1060\n",
            "weighted avg       0.93      0.93      0.93      1060\n",
            "\n"
          ]
        }
      ]
    }
  ]
}